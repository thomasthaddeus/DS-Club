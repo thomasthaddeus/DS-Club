{
 "cells": [
  {
   "attachments": {},
   "cell_type": "markdown",
   "metadata": {},
   "source": [
    "#### DATA SCIENTIST: NATURAL LANGUAGE PROCESSING SPECIALIST\n",
    "\n",
    "# Exploring Student Data\n",
    "\n",
    "Imagine that you work for a school district and have collected some data on local students and their parents. You've been tasked with answering some important questions:\n",
    "\n",
    "- How are students performing in their math classes?\n",
    "- What do students' parents do for work?\n",
    "- How often are students absent from school?\n",
    "\n",
    "In this project, you'll explore and summarize some student data in order to answer these questions.\n",
    "\n",
    "## Data citation:\n",
    "\n",
    "Dua, D. and Graff, C. (2019). UCI Machine Learning Repository [http://archive.ics.uci.edu/ml]. Irvine, CA: University of California, School of Information and Computer Science. http://archive.ics.uci.edu/ml/datasets/Student+Performance\n",
    "\n",
    "Paulo Cortez, University of Minho, Guimarães, Portugal, http://www3.dsi.uminho.pt/pcortez\n"
   ]
  },
  {
   "attachments": {},
   "cell_type": "markdown",
   "metadata": {},
   "source": [
    "### Initial exploration\n",
    "\n",
    "1. The provided dataframe (saved as students) includes the following variables/features:\n",
    "\n",
    "   - **address**: the location of the student's home ('U' for urban and 'R' for rural)\n",
    "   - **absences**: the number of times the student was absent during the school year\n",
    "   - **Mjob**: the student's mother's job industry\n",
    "   - **Fjob**: the student's father's job industry\n",
    "   - **math_grade**: the student's final grade in math, ranging from 0 to 20\n",
    "\n",
    "   Use the pandas `.head()` method to inspect the first few rows of data.\n",
    "\n",
    "   Print the first five rows using `print(students.head())`.\n"
   ]
  },
  {
   "cell_type": "code",
   "execution_count": 11,
   "metadata": {},
   "outputs": [
    {
     "name": "stdout",
     "output_type": "stream",
     "text": [
      "  address  absences     Mjob      Fjob  math_grade\n",
      "0       U         6  at_home   teacher           6\n",
      "1       U         4  at_home     other           6\n",
      "2       U        10  at_home     other          10\n",
      "3       U         2   health  services          15\n",
      "4       U         4    other     other          10\n"
     ]
    }
   ],
   "source": [
    "# Load libraries\n",
    "import pandas as pd\n",
    "import numpy as np\n",
    "import matplotlib.pyplot as plt\n",
    "import seaborn as sns\n",
    "\n",
    "# Import data\n",
    "df = pd.read_csv(\"../data/students.csv\")\n",
    "\n",
    "# Print first few rows of data\n",
    "print(df.head())"
   ]
  },
  {
   "attachments": {},
   "cell_type": "markdown",
   "metadata": {},
   "source": [
    "2. Use the pandas `.describe()` method to print out summary statistics for all five features in the dataset.\n",
    "   - Inspect the output. \n",
    "   - Do more students live in urban or rural locations?\n",
    "\n",
    "    Make sure to use `include = 'all'` to include all of the columns in the dataset.\n"
   ]
  },
  {
   "cell_type": "code",
   "execution_count": 12,
   "metadata": {},
   "outputs": [
    {
     "name": "stdout",
     "output_type": "stream",
     "text": [
      "       address    absences   Mjob   Fjob  math_grade\n",
      "count      395  395.000000    395    395  395.000000\n",
      "unique       2         NaN      5      5         NaN\n",
      "top          U         NaN  other  other         NaN\n",
      "freq       307         NaN    141    217         NaN\n",
      "mean       NaN    5.708861    NaN    NaN   10.415190\n",
      "std        NaN    8.003096    NaN    NaN    4.581443\n",
      "min        NaN    0.000000    NaN    NaN    0.000000\n",
      "25%        NaN    0.000000    NaN    NaN    8.000000\n",
      "50%        NaN    4.000000    NaN    NaN   11.000000\n",
      "75%        NaN    8.000000    NaN    NaN   14.000000\n",
      "max        NaN   75.000000    NaN    NaN   20.000000\n"
     ]
    }
   ],
   "source": [
    "# Print summary statistics for all columns\n",
    "print(df.describe(include=\"all\"))"
   ]
  },
  {
   "attachments": {},
   "cell_type": "markdown",
   "metadata": {},
   "source": [
    "### Summarize a typical student grade\n",
    "\n",
    "3. Let's start by trying to summarize the `math_grade` column. Calculate and print the mean value of `math_grade`.\n",
    "\n",
    "    Use the pandas method `.mean()`.\n"
   ]
  },
  {
   "cell_type": "code",
   "execution_count": 13,
   "metadata": {},
   "outputs": [
    {
     "name": "stdout",
     "output_type": "stream",
     "text": [
      "mean math grade:  10.415189873417722\n"
     ]
    }
   ],
   "source": [
    "# Calculate mean\n",
    "print(\"mean math grade: \", df.math_grade.mean())"
   ]
  },
  {
   "attachments": {},
   "cell_type": "markdown",
   "metadata": {},
   "source": [
    "4. Next, calculate and print the median value of `math_grade`.\n",
    "   - Compare this value to the mean.\n",
    "   - Is it smaller?\n",
    "   - larger?\n",
    "    \n",
    "    Use the pandas method `.median()`.\n"
   ]
  },
  {
   "cell_type": "code",
   "execution_count": 14,
   "metadata": {},
   "outputs": [
    {
     "name": "stdout",
     "output_type": "stream",
     "text": [
      "median math grade:  11.0\n"
     ]
    }
   ],
   "source": [
    "# Calculate median\n",
    "print(\"median math grade: \", df.math_grade.median())"
   ]
  },
  {
   "attachments": {},
   "cell_type": "markdown",
   "metadata": {},
   "source": [
    "5. Finally, calculate and print the mode of the math_grade column.\n",
    "   - What is the most common grade earned by students in this dataset?\n",
    "   - How different is this number from the mean and median?\n",
    "\n",
    "    Use the pandas method `.mode()`.\n",
    "\n",
    "    **Note** that, because of how this function is written, the mode is returned as a pandas series.\n",
    "             In order to convert it to a single value, we can extract the first value in the series (eg., `students.math_grade.mode()[0]`)\n"
   ]
  },
  {
   "cell_type": "code",
   "execution_count": 15,
   "metadata": {},
   "outputs": [
    {
     "name": "stdout",
     "output_type": "stream",
     "text": [
      "mode of math grades:  10\n"
     ]
    }
   ],
   "source": [
    "# Calculate mode\n",
    "print(\"mode of math grades: \", df.math_grade.mode()[0])"
   ]
  },
  {
   "attachments": {},
   "cell_type": "markdown",
   "metadata": {},
   "source": [
    "### Summarize the spread of student grades\n",
    "\n",
    "6. Next, let's summarize the spread of student grades. Calculate and print the range of the math_grade column.\n",
    "\n",
    "    Subtract the minimum student grade from the maximum student grade to get the range, using the pandas methods .max() and .min().\n"
   ]
  },
  {
   "cell_type": "code",
   "execution_count": 16,
   "metadata": {},
   "outputs": [
    {
     "name": "stdout",
     "output_type": "stream",
     "text": [
      "range of math grades:  20\n"
     ]
    }
   ],
   "source": [
    "# Calculate range\n",
    "print(\"range of math grades: \", df.math_grade.max() - df.math_grade.min())"
   ]
  },
  {
   "attachments": {},
   "cell_type": "markdown",
   "metadata": {},
   "source": [
    "7. Calculate and print the standard deviation of the math_grade column. About two thirds of values fall within one standard deviation of the mean. What does this number tell you about how much math grades vary? \\\n",
    "\n",
    "   Use the pandas method `.std()` to calculate the standard deviation. \\\n",
    "\n",
    "   The standard deviation is about 4.6, while the average grade is about 10.4. This means that about two thirds of students are earning a grade between 5.8 (calculated as 10.4 - 4.6) and 15 (calculated as 10.4 + 4.6).\n"
   ]
  },
  {
   "cell_type": "code",
   "execution_count": 17,
   "metadata": {},
   "outputs": [
    {
     "name": "stdout",
     "output_type": "stream",
     "text": [
      "SD of math grades:  4.5814426109978434\n"
     ]
    }
   ],
   "source": [
    "# Calculate standard deviation\n",
    "print(\"SD of math grades: \", df.math_grade.std())"
   ]
  },
  {
   "attachments": {},
   "cell_type": "markdown",
   "metadata": {},
   "source": [
    "8. Finally, calculate the mean absolute deviation of the `math_grade` column. This is the mean difference between each students's score and the average score.\n",
    "\n",
    "    Use the pandas method `.mad()`.\n"
   ]
  },
  {
   "cell_type": "code",
   "execution_count": 19,
   "metadata": {},
   "outputs": [
    {
     "name": "stdout",
     "output_type": "stream",
     "text": [
      "MAD of math grades: 3.4289889440794745\n"
     ]
    }
   ],
   "source": [
    "# Calculate MAD\n",
    "mad = abs(df.math_grade - df.math_grade.mean()).mean()\n",
    "print(f\"MAD of math grades: {mad}\")\n"
   ]
  },
  {
   "attachments": {},
   "cell_type": "markdown",
   "metadata": {},
   "source": [
    "### Visualize the distribution of student grades\n",
    "\n",
    "9. Now that we've summarized student grades using statistics for central tendency and spread, let's visualize the distribution using a histogram. Use the seaborn histplot() function to create a histogram of math_grade.\n",
    "\n",
    "    Note that we've provided code to show and clear each plot using:\n",
    "\n",
    "    ```python\n",
    "    plt.show()\n",
    "    plt.clf()\n",
    "    ```\n",
    "\n",
    "    This ensures that the plots don't get layered on top of each other. Make sure that you add your code to call sns.histplot() above plt.show().\n",
    "\n",
    "    The syntax is:\n",
    "\n",
    "    ```python\n",
    "    sns.histplot(x = 'column_name', data = data_name)\n",
    "    ```\n"
   ]
  },
  {
   "cell_type": "code",
   "execution_count": 20,
   "metadata": {},
   "outputs": [
    {
     "data": {
      "image/png": "[encoded data removed]",
      "text/plain": [
       "<Figure size 640x480 with 1 Axes>"
      ]
     },
     "metadata": {},
     "output_type": "display_data"
    },
    {
     "data": {
      "text/plain": [
       "<Figure size 640x480 with 0 Axes>"
      ]
     },
     "metadata": {},
     "output_type": "display_data"
    }
   ],
   "source": [
    "# Create a histogram of math grades\n",
    "sns.histplot(x=\"math_grade\", data=df)\n",
    "plt.show()\n",
    "plt.clf()"
   ]
  },
  {
   "attachments": {},
   "cell_type": "markdown",
   "metadata": {},
   "source": [
    "10. Another way to visualize the distribution of a quantitative variable is using a box plot. Use the seaborn boxplot() function to create a boxplot of math_grade.\n",
    "\n",
    "    Make sure to add this code after the first call to plt.clf() from the above plot and before the second call to plt.show().\n",
    "\n",
    "    Hint\n",
    "    The syntax is:\n",
    "\n",
    "    ```python\n",
    "    sns.boxplot(x = 'column_name', data = data_name)\n",
    "    ```\n"
   ]
  },
  {
   "cell_type": "code",
   "execution_count": 21,
   "metadata": {},
   "outputs": [
    {
     "data": {
      "image/png": "[encoded data removed]",
      "text/plain": [
       "<Figure size 640x480 with 1 Axes>"
      ]
     },
     "metadata": {},
     "output_type": "display_data"
    },
    {
     "data": {
      "text/plain": [
       "<Figure size 640x480 with 0 Axes>"
      ]
     },
     "metadata": {},
     "output_type": "display_data"
    }
   ],
   "source": [
    "# Create a box plot of math grades\n",
    "sns.boxplot(x=\"math_grade\", data=df)\n",
    "plt.show()\n",
    "plt.clf()"
   ]
  },
  {
   "attachments": {},
   "cell_type": "markdown",
   "metadata": {},
   "source": [
    "### Summarize mothers' jobs\n",
    "\n",
    "11. The Mjob column in the dataset contains information about what the students mothers do as a profession. Summarize the Mjob column by printing the number of students who have mothers with each job type.\n",
    "\n",
    "    Which value of Mjob is most common?\n",
    "\n",
    "    Hint\n",
    "    Use the pandas `.value_counts()` method.\n"
   ]
  },
  {
   "cell_type": "code",
   "execution_count": 22,
   "metadata": {},
   "outputs": [
    {
     "name": "stdout",
     "output_type": "stream",
     "text": [
      "Mjob\n",
      "other       141\n",
      "services    103\n",
      "at_home      59\n",
      "teacher      58\n",
      "health       34\n",
      "Name: count, dtype: int64\n"
     ]
    }
   ],
   "source": [
    "# Calculate number of students with mothers in each job category\n",
    "print(df.Mjob.value_counts())"
   ]
  },
  {
   "attachments": {},
   "cell_type": "markdown",
   "metadata": {},
   "source": [
    "12. Now, calculate and print the proportion of students who have mothers with each job type. What proportion of students have mothers who work in health?\n",
    "\n",
    "Use `.value_counts(normalize = True)` to calculate the proportion of values in each category.\n"
   ]
  },
  {
   "cell_type": "code",
   "execution_count": 23,
   "metadata": {},
   "outputs": [
    {
     "name": "stdout",
     "output_type": "stream",
     "text": [
      "Mjob\n",
      "other       0.356962\n",
      "services    0.260759\n",
      "at_home     0.149367\n",
      "teacher     0.146835\n",
      "health      0.086076\n",
      "Name: proportion, dtype: float64\n"
     ]
    }
   ],
   "source": [
    "# Calculate proportion of students with mothers in each job category\n",
    "print(df.Mjob.value_counts(normalize=True))"
   ]
  },
  {
   "attachments": {},
   "cell_type": "markdown",
   "metadata": {},
   "source": [
    "### Visualize the distribution of mothers' jobs\n",
    "\n",
    "13. Now that we've used summary statistics to understand the relative frequencies of different mothers' jobs, let's visualize the same information with a bar chart. Use the seaborn `countplot()` function to create a bar chart of the Mjob variable.\n",
    "\n",
    "    ```python\n",
    "    sns.countplot(x = 'column_name', data = data_name)\n",
    "    ```\n"
   ]
  },
  {
   "cell_type": "code",
   "execution_count": 24,
   "metadata": {},
   "outputs": [
    {
     "data": {
      "image/png": "[encoded data removed]",
      "text/plain": [
       "<Figure size 640x480 with 1 Axes>"
      ]
     },
     "metadata": {},
     "output_type": "display_data"
    },
    {
     "data": {
      "text/plain": [
       "<Figure size 640x480 with 0 Axes>"
      ]
     },
     "metadata": {},
     "output_type": "display_data"
    }
   ],
   "source": [
    "# Create bar chart of Mjob\n",
    "sns.countplot(x=\"Mjob\", data=df)\n",
    "plt.show()\n",
    "plt.clf()"
   ]
  },
  {
   "attachments": {},
   "cell_type": "markdown",
   "metadata": {},
   "source": [
    "14. We can also visualize the same information using a pie chart. Create a pie chart of the Mjob column.\n",
    "\n",
    "    The syntax is:\n",
    "\n",
    "    ```python\n",
    "    df.column_name.value_counts().plot.pie()\n",
    "    ```\n"
   ]
  },
  {
   "cell_type": "code",
   "execution_count": 25,
   "metadata": {},
   "outputs": [
    {
     "data": {
      "image/png": "[encoded data removed]",
      "text/plain": [
       "<Figure size 640x480 with 1 Axes>"
      ]
     },
     "metadata": {},
     "output_type": "display_data"
    }
   ],
   "source": [
    "# Create pie chart of Mjob\n",
    "df.Mjob.value_counts().plot.pie()\n",
    "plt.show()\n"
   ]
  },
  {
   "attachments": {},
   "cell_type": "markdown",
   "metadata": {},
   "source": [
    "### Further exploration\n",
    "\n",
    "15. Congratulations! You've begun to explore a dataset by calculating summary statistics and creating some basic data visualizations. There are still a few more columns in this dataset that we haven't looked at carefully:\n",
    "\n",
    "    - `address`: the location of the student's home ('`U`' for urban and '`R`' for rural)\n",
    "    - `absences`: the number of times the student was absent during the school year\n",
    "    - `Fjob`: the student's father's job industry\n",
    "\n",
    "    Now that we've walked you through an exploration of `math_grade` and `Mjob` in more detail, take some time to explore the rest of the columns in the dataset! Which kinds of summary statistics and visualizations can you use to summarize these columns?\n",
    "\n",
    "    The address and `Fjob` columns are categorical (just like the Mjob column was). Try using `.value_counts()` or creating a bar chart or pie chart.\n",
    "\n",
    "    The absences column is quantitative. Try calculating central tendency and spread statistics and visualizing the distribution of absences using a histogram or box plot.\n"
   ]
  },
  {
   "cell_type": "code",
   "execution_count": null,
   "metadata": {},
   "outputs": [],
   "source": []
  }
 ],
 "metadata": {
  "kernelspec": {
   "display_name": "Python 3",
   "language": "python",
   "name": "python3"
  },
  "language_info": {
   "codemirror_mode": {
    "name": "ipython",
    "version": 3
   },
   "file_extension": ".py",
   "mimetype": "text/x-python",
   "name": "python",
   "nbconvert_exporter": "python",
   "pygments_lexer": "ipython3",
   "version": "3.11.4"
  },
  "orig_nbformat": 4
 },
 "nbformat": 4,
 "nbformat_minor": 2
}
