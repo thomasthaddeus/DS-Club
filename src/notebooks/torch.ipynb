{
  "cells": [
    {
      "cell_type": "markdown",
      "metadata": {},
      "source": [
        "# Tensors\n",
        "\n",
        "Tensors are a specialized data structure that are very similar to arrays and matrices. \n",
        "In PyTorch, we use tensors to encode the inputs and outputs of a model, as well as the model’s parameters.\n",
        "\n",
        "<img alt=\"Image showing ndnumpy and dimensional tensors\" src=\"images/2-tensor-1.png\" width=\"60%\"/>\n",
        "\n",
        "Tensors are similar to `NumPy’s ndarrays`, except that tensors can run on GPUs or other hardware accelerators. In fact, tensors and NumPy arrays can often share the same underlying memory address, eliminating the need to copy data with a capability called `bridge-to-np-label`. Tensors are also optimized for automatic differentiation (we'll see more about that later in the Autograd unit). If you’re familiar with `ndarrays`, you’ll be right at home with the Tensor API. If not, follow along!\n",
        "\n",
        "Let's start by setting up our environment."
      ]
    },
    {
      "cell_type": "code",
      "execution_count": 1,
      "metadata": {},
      "outputs": [],
      "source": [
        "%matplotlib inline\n",
        "import numpy as np\n",
        "import torch"
      ]
    },
    {
      "cell_type": "markdown",
      "metadata": {},
      "source": [
        "# Initializing a Tensor\n",
        "\n",
        "Tensors can be initialized in various ways. Take a look at the following examples:\n",
        "\n",
        "## Directly from data\n",
        "\n",
        "Tensors can be created directly from data. The data type is automatically inferred.\n",
        "\n"
      ]
    },
    {
      "cell_type": "code",
      "execution_count": 2,
      "metadata": {},
      "outputs": [],
      "source": [
        "data = [[1, 2],[3, 4]]\n",
        "x_data = torch.tensor(data)"
      ]
    },
    {
      "cell_type": "markdown",
      "metadata": {},
      "source": [
        "## From a NumPy array\n",
        "\n",
        "Tensors can be created from NumPy arrays and vice versa.  Since, numpy _'np_array'_ and tensor _'x_np'_ share the same memory location here, changing the value for one will change the other.  "
      ]
    },
    {
      "cell_type": "code",
      "execution_count": 3,
      "metadata": {},
      "outputs": [
        {
          "name": "stdout",
          "output_type": "stream",
          "text": [
            "Numpy np_array value: \n",
            " [[1 2]\n",
            " [3 4]] \n",
            "\n",
            "Tensor x_np value: \n",
            " tensor([[1, 2],\n",
            "        [3, 4]], dtype=torch.int32) \n",
            "\n",
            "Numpy np_array after * 2 operation: \n",
            " [[2 4]\n",
            " [6 8]] \n",
            "\n",
            "Tensor x_np value after modifying numpy array: \n",
            " tensor([[2, 4],\n",
            "        [6, 8]], dtype=torch.int32) \n",
            "\n"
          ]
        }
      ],
      "source": [
        "np_array = np.array(data)\n",
        "x_np = torch.from_numpy(np_array)\n",
        "\n",
        "print(f\"Numpy np_array value: \\n {np_array} \\n\")\n",
        "print(f\"Tensor x_np value: \\n {x_np} \\n\")\n",
        "\n",
        "np.multiply(np_array, 2, out=np_array)\n",
        "\n",
        "print(f\"Numpy np_array after * 2 operation: \\n {np_array} \\n\")\n",
        "print(f\"Tensor x_np value after modifying numpy array: \\n {x_np} \\n\")"
      ]
    },
    {
      "cell_type": "markdown",
      "metadata": {},
      "source": [
        "## From another tensor:\n",
        "\n",
        "The new tensor retains the properties (shape, data type) of the argument tensor, unless explicitly overridden.\n",
        "\n"
      ]
    },
    {
      "cell_type": "code",
      "execution_count": 4,
      "metadata": {},
      "outputs": [
        {
          "name": "stdout",
          "output_type": "stream",
          "text": [
            "Ones Tensor: \n",
            " tensor([[1, 1],\n",
            "        [1, 1]]) \n",
            "\n",
            "Random Tensor: \n",
            " tensor([[0.1997, 0.6802],\n",
            "        [0.2810, 0.4701]]) \n",
            "\n"
          ]
        }
      ],
      "source": [
        "x_ones = torch.ones_like(x_data) # retains the properties of x_data\n",
        "print(f\"Ones Tensor: \\n {x_ones} \\n\")\n",
        "\n",
        "x_rand = torch.rand_like(x_data, dtype=torch.float) # overrides the datatype of x_data\n",
        "print(f\"Random Tensor: \\n {x_rand} \\n\")"
      ]
    },
    {
      "cell_type": "markdown",
      "metadata": {},
      "source": [
        "## With random or constant values:\n",
        "\n",
        "``shape`` is a tuple of tensor dimensions. In the functions below, it determines the dimensionality of the output tensor.  Shape shows the number of rows and columns in the tensor.  E.g. shape = (# of rows, # of columns).\n",
        "\n"
      ]
    },
    {
      "cell_type": "code",
      "execution_count": 5,
      "metadata": {},
      "outputs": [
        {
          "name": "stdout",
          "output_type": "stream",
          "text": [
            "Random Tensor: \n",
            " tensor([[0.8276, 0.0886, 0.6226],\n",
            "        [0.8390, 0.1289, 0.7679]]) \n",
            "\n",
            "Ones Tensor: \n",
            " tensor([[1., 1., 1.],\n",
            "        [1., 1., 1.]]) \n",
            "\n",
            "Zeros Tensor: \n",
            " tensor([[0., 0., 0.],\n",
            "        [0., 0., 0.]])\n"
          ]
        }
      ],
      "source": [
        "shape = (2,3,)\n",
        "rand_tensor = torch.rand(shape)\n",
        "ones_tensor = torch.ones(shape)\n",
        "zeros_tensor = torch.zeros(shape)\n",
        "\n",
        "print(f\"Random Tensor: \\n {rand_tensor} \\n\")\n",
        "print(f\"Ones Tensor: \\n {ones_tensor} \\n\")\n",
        "print(f\"Zeros Tensor: \\n {zeros_tensor}\")"
      ]
    },
    {
      "cell_type": "markdown",
      "metadata": {},
      "source": [
        "# Attributes of a Tensor\n",
        "\n",
        "Tensor attributes describe their shape, data type, and the device on which they are stored.\n",
        "\n"
      ]
    },
    {
      "cell_type": "code",
      "execution_count": 6,
      "metadata": {},
      "outputs": [
        {
          "name": "stdout",
          "output_type": "stream",
          "text": [
            "Shape of tensor: torch.Size([3, 4])\n",
            "Datatype of tensor: torch.float32\n",
            "Device tensor is stored on: cpu\n"
          ]
        }
      ],
      "source": [
        "tensor = torch.rand(3,4)\n",
        "\n",
        "print(f\"Shape of tensor: {tensor.shape}\")\n",
        "print(f\"Datatype of tensor: {tensor.dtype}\")\n",
        "print(f\"Device tensor is stored on: {tensor.device}\")"
      ]
    },
    {
      "cell_type": "markdown",
      "metadata": {},
      "source": [
        "# Operations on Tensors\n",
        "\n",
        "There are over 100 tensor operations, including arithmetic, linear algebra, matrix manipulation (transposing, \n",
        "indexing, slicing).  For sampling and reviewing a\n",
        "comprehensive description [here](https://pytorch.org/docs/stable/torch.html).\n",
        "\n",
        "Each of these operations can be run on the GPU (at typically higher speeds than on a\n",
        "CPU).\n",
        "- CPUs have up to 16 cores. Cores are units that do the actual computation.  Each core processes tasks in a sequential order (one task at a time).\n",
        "- GPU have 1000s of cores.  GPU cores handle computations in parallel processing.  Tasks are divided and processed across the different cores.  That's was makes GPUs faster than CPUs in most cases.  GPUs preform better with large data than small data.  GPU are typically use for high intensive computation of graphics or neural networks (we'll see more about that later in the Neural Network unit).\n",
        "- PyTorch can use the Nvidia CUDA library to take advantage of their GPU cards.\n",
        "\n",
        "<img alt=\"Diagram showing workload between cpu and gpu\" src=\"images/2-tensor-2.png\"/>\n",
        "\n",
        "By default, tensors are created on the CPU. Tensors can also be computed to GPUs  - to do that, you need to move them using the\n",
        "`.to` method (after checking for GPU availability). Keep in mind that copying large tensors across devices can be expensive in terms of time and memory!\n"
      ]
    },
    {
      "cell_type": "code",
      "execution_count": 7,
      "metadata": {},
      "outputs": [],
      "source": [
        "# We move our tensor to the GPU if available\n",
        "if torch.cuda.is_available():\n",
        "  tensor = tensor.to('cuda')"
      ]
    },
    {
      "cell_type": "markdown",
      "metadata": {},
      "source": [
        "Try out some of the operations from the list.\n",
        "If you're familiar with the NumPy API, you'll find the Tensor API a breeze to use.\n",
        "\n",
        "## Standard numpy-like indexing and slicing:"
      ]
    },
    {
      "cell_type": "code",
      "execution_count": 8,
      "metadata": {},
      "outputs": [
        {
          "name": "stdout",
          "output_type": "stream",
          "text": [
            "First row:  tensor([1., 1., 1., 1.])\n",
            "First column:  tensor([1., 1., 1., 1.])\n",
            "Last column: tensor([1., 1., 1., 1.])\n",
            "tensor([[1., 0., 1., 1.],\n",
            "        [1., 0., 1., 1.],\n",
            "        [1., 0., 1., 1.],\n",
            "        [1., 0., 1., 1.]])\n"
          ]
        }
      ],
      "source": [
        "tensor = torch.ones(4, 4)\n",
        "print('First row: ',tensor[0])\n",
        "print('First column: ', tensor[:, 0])\n",
        "print('Last column:', tensor[..., -1])\n",
        "tensor[:,1] = 0\n",
        "print(tensor)"
      ]
    },
    {
      "cell_type": "markdown",
      "metadata": {},
      "source": [
        "## Joining tensors\n",
        "You can use `torch.cat` to concatenate a sequence of tensors along a given dimension.\n",
        "`torch.stack` is another tensor joining option that is subtly different from ``torch.cat``.\n",
        "\n"
      ]
    },
    {
      "cell_type": "code",
      "execution_count": 9,
      "metadata": {},
      "outputs": [
        {
          "name": "stdout",
          "output_type": "stream",
          "text": [
            "tensor([[1., 0., 1., 1., 1., 0., 1., 1., 1., 0., 1., 1.],\n",
            "        [1., 0., 1., 1., 1., 0., 1., 1., 1., 0., 1., 1.],\n",
            "        [1., 0., 1., 1., 1., 0., 1., 1., 1., 0., 1., 1.],\n",
            "        [1., 0., 1., 1., 1., 0., 1., 1., 1., 0., 1., 1.]])\n"
          ]
        }
      ],
      "source": [
        "t1 = torch.cat([tensor, tensor, tensor], dim=1)\n",
        "print(t1)"
      ]
    },
    {
      "cell_type": "markdown",
      "metadata": {},
      "source": [
        "## Arithmetic operations\n",
        "\n"
      ]
    },
    {
      "cell_type": "code",
      "execution_count": 10,
      "metadata": {},
      "outputs": [
        {
          "data": {
            "text/plain": [
              "tensor([[1., 0., 1., 1.],\n",
              "        [1., 0., 1., 1.],\n",
              "        [1., 0., 1., 1.],\n",
              "        [1., 0., 1., 1.]])"
            ]
          },
          "execution_count": 10,
          "metadata": {},
          "output_type": "execute_result"
        }
      ],
      "source": [
        "# This computes the matrix multiplication between two tensors. y1, y2, y3 will have the same value\n",
        "y1 = tensor @ tensor.T\n",
        "y2 = tensor.matmul(tensor.T)\n",
        "\n",
        "y3 = torch.rand_like(tensor)\n",
        "torch.matmul(tensor, tensor.T, out=y3)\n",
        "\n",
        "\n",
        "# This computes the element-wise product. z1, z2, z3 will have the same value\n",
        "z1 = tensor * tensor\n",
        "z2 = tensor.mul(tensor)\n",
        "\n",
        "z3 = torch.rand_like(tensor)\n",
        "torch.mul(tensor, tensor, out=z3)"
      ]
    },
    {
      "cell_type": "markdown",
      "metadata": {},
      "source": [
        "## Single-element tensors\n",
        "If you have a one-element tensor, for example by aggregating all\n",
        "values of a tensor into one value, you can convert it to a Python\n",
        "numerical value using `item()`:\n",
        "\n"
      ]
    },
    {
      "cell_type": "code",
      "execution_count": 11,
      "metadata": {},
      "outputs": [
        {
          "name": "stdout",
          "output_type": "stream",
          "text": [
            "12.0 <class 'float'>\n"
          ]
        }
      ],
      "source": [
        "agg = tensor.sum()\n",
        "agg_item = agg.item()  \n",
        "print(agg_item, type(agg_item))"
      ]
    },
    {
      "cell_type": "markdown",
      "metadata": {},
      "source": [
        "## In-place operations\n",
        "Operations that store the result into the operand are called in-place. They are denoted by a ``_`` suffix. \n",
        "For example: ``x.copy_(y)``, ``x.t_()``, will change ``x``.\n",
        "\n",
        "> **Note:** In-place operations save some memory, but can be problematic when computing derivatives because of an immediate loss of history. Hence, their use is discouraged.\n",
        "\n"
      ]
    },
    {
      "cell_type": "code",
      "execution_count": 12,
      "metadata": {},
      "outputs": [
        {
          "name": "stdout",
          "output_type": "stream",
          "text": [
            "tensor([[1., 0., 1., 1.],\n",
            "        [1., 0., 1., 1.],\n",
            "        [1., 0., 1., 1.],\n",
            "        [1., 0., 1., 1.]]) \n",
            "\n",
            "tensor([[6., 5., 6., 6.],\n",
            "        [6., 5., 6., 6.],\n",
            "        [6., 5., 6., 6.],\n",
            "        [6., 5., 6., 6.]])\n"
          ]
        }
      ],
      "source": [
        "print(tensor, \"\\n\")\n",
        "tensor.add_(5)\n",
        "print(tensor)"
      ]
    },
    {
      "cell_type": "markdown",
      "metadata": {},
      "source": [
        "## Bridge with NumPy\n",
        "\n",
        "Tensors on the CPU and NumPy arrays can share their underlying memory\n",
        "locations, and changing one will change\tthe other.\n",
        "\n",
        "### Tensor to NumPy array"
      ]
    },
    {
      "cell_type": "code",
      "execution_count": 13,
      "metadata": {},
      "outputs": [
        {
          "name": "stdout",
          "output_type": "stream",
          "text": [
            "t: tensor([1., 1., 1., 1., 1.])\n",
            "n: [1. 1. 1. 1. 1.]\n"
          ]
        }
      ],
      "source": [
        "t = torch.ones(5)\n",
        "print(f\"t: {t}\")\n",
        "n = t.numpy()\n",
        "print(f\"n: {n}\")"
      ]
    },
    {
      "cell_type": "markdown",
      "metadata": {},
      "source": [
        "A change in the tensor reflects in the NumPy array.\n",
        "\n"
      ]
    },
    {
      "cell_type": "code",
      "execution_count": 14,
      "metadata": {},
      "outputs": [
        {
          "name": "stdout",
          "output_type": "stream",
          "text": [
            "t: tensor([2., 2., 2., 2., 2.])\n",
            "n: [2. 2. 2. 2. 2.]\n"
          ]
        }
      ],
      "source": [
        "t.add_(1)\n",
        "print(f\"t: {t}\")\n",
        "print(f\"n: {n}\")"
      ]
    },
    {
      "cell_type": "markdown",
      "metadata": {},
      "source": [
        "### NumPy array to Tensor"
      ]
    },
    {
      "cell_type": "code",
      "execution_count": 15,
      "metadata": {},
      "outputs": [],
      "source": [
        "n = np.ones(5)\n",
        "t = torch.from_numpy(n)"
      ]
    },
    {
      "cell_type": "markdown",
      "metadata": {},
      "source": [
        "Changes in the NumPy array reflects in the tensor.\n",
        "\n"
      ]
    },
    {
      "cell_type": "code",
      "execution_count": 16,
      "metadata": {},
      "outputs": [
        {
          "name": "stdout",
          "output_type": "stream",
          "text": [
            "t: tensor([2., 2., 2., 2., 2.], dtype=torch.float64)\n",
            "n: [2. 2. 2. 2. 2.]\n"
          ]
        }
      ],
      "source": [
        "np.add(n, 1, out=n)\n",
        "print(f\"t: {t}\")\n",
        "print(f\"n: {n}\")"
      ]
    }
  ],
  "metadata": {
    "interpreter": {
      "hash": "26de051ba29f2982a8de78e945f0abaf191376122a1563185a90213a26c5da77"
    },
    "kernel_info": {
      "name": "conda-env-py38_pytorch-py"
    },
    "kernelspec": {
      "display_name": "Python 3.10.4 64-bit",
      "language": "python",
      "name": "python3"
    },
    "language_info": {
      "codemirror_mode": {
        "name": "ipython",
        "version": 3
      },
      "file_extension": ".py",
      "mimetype": "text/x-python",
      "name": "python",
      "nbconvert_exporter": "python",
      "pygments_lexer": "ipython3",
      "version": "3.10.8"
    },
    "nteract": {
      "version": "nteract-front-end@1.0.0"
    }
  },
  "nbformat": 4,
  "nbformat_minor": 1
  },
  {
  "cells": [
    {
      "cell_type": "markdown",
      "metadata": {},
      "source": [
        "# Datasets and Dataloaders\n",
        "\n",
        "Code for processing data samples can get messy and hard to maintain; we ideally want our dataset code\n",
        "to be decoupled from our model training code for better readability and modularity.\n",
        "PyTorch provides two data primitives: ``torch.utils.data.DataLoader`` and ``torch.utils.data.Dataset``\n",
        "that allow you to use pre-loaded datasets as well as your own data.\n",
        "``Dataset`` stores the samples and their corresponding labels, and ``DataLoader`` wraps an iterable around\n",
        "the ``Dataset`` to enable easy access to the samples.\n",
        "\n",
        "PyTorch domain libraries provide a number of sample pre-loaded datasets (such as FashionMNIST) that subclass ``torch.utils.data.Dataset`` and implement functions specific to the particular data. They can be found and used as samples for prototyping and benchmarking your model here: \n",
        "- Image Datasets\n",
        "- Text Datasets\n",
        "- Audio Datasets\n",
        "\n",
        "## Loading a dataset\n",
        "\n",
        "We will be loading the **_Fashion-MNIST_** dataset from TorchVision.  Fashion-MNIST is a dataset of Zalando’s article images consisting of of 60,000 training examples and 10,000 test examples.  Each example comprises a 28×28 grayscale image and an associated label from one of 10 classes.  \n",
        "\n",
        " - Each image is 28 pixels in height and 28 pixels in width, with a total of 784 pixels\n",
        " - The 10 classes tell what type of image it is. For example: T-shirt/top, Trouser, Pullover, Dress, Bag, Ankle boot etc.\n",
        " - The grayscale are values between 0 to 255 that measure the intensity of black and white images.  The intensity value increase from white to black. For example:  a white color will be 0, while a black color will 255.\n",
        " \n",
        " ![Image show grayscale image pixels and values](images/3-data-1.png)\n",
        "\n",
        "\n",
        "We load the FashionMNIST Dataset with the following parameters:\n",
        " - **root** is the path where the train/test data is stored,\n",
        " - **train** specifies training or test dataset,\n",
        " - **download=True** downloads the data from the Internet if it's not available at `root`.\n",
        " - **transform** and `target_transform` specify the feature and label transformations"
      ]
    },
    {
      "cell_type": "code",
      "execution_count": 1,
      "metadata": {},
      "outputs": [],
      "source": [
        "%matplotlib inline\n",
        "import matplotlib.pyplot as plt\n",
        "import torch\n",
        "from torch.utils.data import Dataset\n",
        "from torchvision import datasets\n",
        "from torchvision.transforms import Lambda, ToTensor\n",
        "\n",
        "training_data = datasets.FashionMNIST(\n",
        "    root=\"data\",\n",
        "    train=True,\n",
        "    download=True,\n",
        "    transform=ToTensor()\n",
        ")\n",
        "\n",
        "test_data = datasets.FashionMNIST(\n",
        "    root=\"data\",\n",
        "    train=False,\n",
        "    download=True,\n",
        "    transform=ToTensor()\n",
        ")"
      ]
    },
    {
      "cell_type": "markdown",
      "metadata": {},
      "source": [
        "## Iterating and Visualizing the Dataset\n",
        "-----------------\n",
        "\n",
        "We can index ``Datasets`` manually like a list: ``training_data[index]``. \n",
        "We use ``matplotlib`` to visualize some samples in our training data."
      ]
    },
    {
      "cell_type": "code",
      "execution_count": 2,
      "metadata": {},
      "outputs": [
        {
          "data": {
            "image/png": "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",
            "image/svg+xml": "<?xml version=\"1.0\" encoding=\"utf-8\" standalone=\"no\"?>\n<!DOCTYPE svg PUBLIC \"-//W3C//DTD SVG 1.1//EN\"\n  \"http://www.w3.org/Graphics/SVG/1.1/DTD/svg11.dtd\">\n<svg xmlns:xlink=\"http://www.w3.org/1999/xlink\" width=\"457.411765pt\" height=\"464.398125pt\" viewBox=\"0 0 457.411765 464.398125\" xmlns=\"http://www.w3.org/2000/svg\" version=\"1.1\">\n <metadata>\n  <rdf:RDF xmlns:dc=\"http://purl.org/dc/elements/1.1/\" xmlns:cc=\"http://creativecommons.org/ns#\" xmlns:rdf=\"http://www.w3.org/1999/02/22-rdf-syntax-ns#\">\n   <cc:Work>\n    <dc:type rdf:resource=\"http://purl.org/dc/dcmitype/StillImage\"/>\n    <dc:date>2022-08-19T17:25:04.358547</dc:date>\n    <dc:format>image/svg+xml</dc:format>\n    <dc:creator>\n     <cc:Agent>\n      <dc:title>Matplotlib v3.5.1, https://matplotlib.org/</dc:title>\n     </cc:Agent>\n    </dc:creator>\n   </cc:Work>\n  </rdf:RDF>\n </metadata>\n <defs>\n  <style type=\"text/css\">*{stroke-linejoin: round; stroke-linecap: butt}</style>\n </defs>\n <g id=\"figure_1\">\n  <g id=\"patch_1\">\n   <path d=\"M 0 464.398125 \nL 457.411765 464.398125 \nL 457.411765 0 \nL 0 0 \nL 0 464.398125 \nz\n\" style=\"fill: none\"/>\n  </g>\n  <g id=\"axes_1\">\n   <g clip-path=\"url(#p638fe84e35)\">\n    <image xlink:href=\"data:image/png;base64,\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\" id=\"image1f8ddc530a\" transform=\"scale(1 -1)translate(0 -128)\" x=\"7.2\" y=\"-22.224007\" width=\"128\" height=\"128\"/>\n   </g>\n   <g id=\"text_1\">\n    <!-- Shirt -->\n    <g style=\"fill: #ffffff\" transform=\"translate(57.055754 16.318125)scale(0.12 -0.12)\">\n     <defs>\n      <path id=\"DejaVuSans-53\" d=\"M 3425 4513 \nL 3425 3897 \nQ 3066 4069 2747 4153 \nQ 2428 4238 2131 4238 \nQ 1616 4238 1336 4038 \nQ 1056 3838 1056 3469 \nQ 1056 3159 1242 3001 \nQ 1428 2844 1947 2747 \nL 2328 2669 \nQ 3034 2534 3370 2195 \nQ 3706 1856 3706 1288 \nQ 3706 609 3251 259 \nQ 2797 -91 1919 -91 \nQ 1588 -91 1214 -16 \nQ 841 59 441 206 \nL 441 856 \nQ 825 641 1194 531 \nQ 1563 422 1919 422 \nQ 2459 422 2753 634 \nQ 3047 847 3047 1241 \nQ 3047 1584 2836 1778 \nQ 2625 1972 2144 2069 \nL 1759 2144 \nQ 1053 2284 737 2584 \nQ 422 2884 422 3419 \nQ 422 4038 858 4394 \nQ 1294 4750 2059 4750 \nQ 2388 4750 2728 4690 \nQ 3069 4631 3425 4513 \nz\n\" transform=\"scale(0.015625)\"/>\n      <path id=\"DejaVuSans-68\" d=\"M 3513 2113 \nL 3513 0 \nL 2938 0 \nL 2938 2094 \nQ 2938 2591 2744 2837 \nQ 2550 3084 2163 3084 \nQ 1697 3084 1428 2787 \nQ 1159 2491 1159 1978 \nL 1159 0 \nL 581 0 \nL 581 4863 \nL 1159 4863 \nL 1159 2956 \nQ 1366 3272 1645 3428 \nQ 1925 3584 2291 3584 \nQ 2894 3584 3203 3211 \nQ 3513 2838 3513 2113 \nz\n\" transform=\"scale(0.015625)\"/>\n      <path id=\"DejaVuSans-69\" d=\"M 603 3500 \nL 1178 3500 \nL 1178 0 \nL 603 0 \nL 603 3500 \nz\nM 603 4863 \nL 1178 4863 \nL 1178 4134 \nL 603 4134 \nL 603 4863 \nz\n\" transform=\"scale(0.015625)\"/>\n      <path id=\"DejaVuSans-72\" d=\"M 2631 2963 \nQ 2534 3019 2420 3045 \nQ 2306 3072 2169 3072 \nQ 1681 3072 1420 2755 \nQ 1159 2438 1159 1844 \nL 1159 0 \nL 581 0 \nL 581 3500 \nL 1159 3500 \nL 1159 2956 \nQ 1341 3275 1631 3429 \nQ 1922 3584 2338 3584 \nQ 2397 3584 2469 3576 \nQ 2541 3569 2628 3553 \nL 2631 2963 \nz\n\" transform=\"scale(0.015625)\"/>\n      <path id=\"DejaVuSans-74\" d=\"M 1172 4494 \nL 1172 3500 \nL 2356 3500 \nL 2356 3053 \nL 1172 3053 \nL 1172 1153 \nQ 1172 725 1289 603 \nQ 1406 481 1766 481 \nL 2356 481 \nL 2356 0 \nL 1766 0 \nQ 1100 0 847 248 \nQ 594 497 594 1153 \nL 594 3053 \nL 172 3053 \nL 172 3500 \nL 594 3500 \nL 594 4494 \nL 1172 4494 \nz\n\" transform=\"scale(0.015625)\"/>\n     </defs>\n     <use xlink:href=\"#DejaVuSans-53\"/>\n     <use xlink:href=\"#DejaVuSans-68\" x=\"63.476562\"/>\n     <use xlink:href=\"#DejaVuSans-69\" x=\"126.855469\"/>\n     <use xlink:href=\"#DejaVuSans-72\" x=\"154.638672\"/>\n     <use xlink:href=\"#DejaVuSans-74\" x=\"195.751953\"/>\n    </g>\n   </g>\n  </g>\n  <g id=\"axes_2\">\n   <g clip-path=\"url(#p3a8d0ee498)\">\n    <image xlink:href=\"data:image/png;base64,\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\" id=\"image3c928f4d3d\" transform=\"scale(1 -1)translate(0 -128)\" x=\"164.752941\" y=\"-22.224007\" width=\"128\" height=\"128\"/>\n   </g>\n   <g id=\"text_2\">\n    <!-- Sandal -->\n    <g style=\"fill: #ffffff\" transform=\"translate(208.264632 16.318125)scale(0.12 -0.12)\">\n     <defs>\n      <path id=\"DejaVuSans-61\" d=\"M 2194 1759 \nQ 1497 1759 1228 1600 \nQ 959 1441 959 1056 \nQ 959 750 1161 570 \nQ 1363 391 1709 391 \nQ 2188 391 2477 730 \nQ 2766 1069 2766 1631 \nL 2766 1759 \nL 2194 1759 \nz\nM 3341 1997 \nL 3341 0 \nL 2766 0 \nL 2766 531 \nQ 2569 213 2275 61 \nQ 1981 -91 1556 -91 \nQ 1019 -91 701 211 \nQ 384 513 384 1019 \nQ 384 1609 779 1909 \nQ 1175 2209 1959 2209 \nL 2766 2209 \nL 2766 2266 \nQ 2766 2663 2505 2880 \nQ 2244 3097 1772 3097 \nQ 1472 3097 1187 3025 \nQ 903 2953 641 2809 \nL 641 3341 \nQ 956 3463 1253 3523 \nQ 1550 3584 1831 3584 \nQ 2591 3584 2966 3190 \nQ 3341 2797 3341 1997 \nz\n\" transform=\"scale(0.015625)\"/>\n      <path id=\"DejaVuSans-6e\" d=\"M 3513 2113 \nL 3513 0 \nL 2938 0 \nL 2938 2094 \nQ 2938 2591 2744 2837 \nQ 2550 3084 2163 3084 \nQ 1697 3084 1428 2787 \nQ 1159 2491 1159 1978 \nL 1159 0 \nL 581 0 \nL 581 3500 \nL 1159 3500 \nL 1159 2956 \nQ 1366 3272 1645 3428 \nQ 1925 3584 2291 3584 \nQ 2894 3584 3203 3211 \nQ 3513 2838 3513 2113 \nz\n\" transform=\"scale(0.015625)\"/>\n      <path id=\"DejaVuSans-64\" d=\"M 2906 2969 \nL 2906 4863 \nL 3481 4863 \nL 3481 0 \nL 2906 0 \nL 2906 525 \nQ 2725 213 2448 61 \nQ 2172 -91 1784 -91 \nQ 1150 -91 751 415 \nQ 353 922 353 1747 \nQ 353 2572 751 3078 \nQ 1150 3584 1784 3584 \nQ 2172 3584 2448 3432 \nQ 2725 3281 2906 2969 \nz\nM 947 1747 \nQ 947 1113 1208 752 \nQ 1469 391 1925 391 \nQ 2381 391 2643 752 \nQ 2906 1113 2906 1747 \nQ 2906 2381 2643 2742 \nQ 2381 3103 1925 3103 \nQ 1469 3103 1208 2742 \nQ 947 2381 947 1747 \nz\n\" transform=\"scale(0.015625)\"/>\n      <path id=\"DejaVuSans-6c\" d=\"M 603 4863 \nL 1178 4863 \nL 1178 0 \nL 603 0 \nL 603 4863 \nz\n\" transform=\"scale(0.015625)\"/>\n     </defs>\n     <use xlink:href=\"#DejaVuSans-53\"/>\n     <use xlink:href=\"#DejaVuSans-61\" x=\"63.476562\"/>\n     <use xlink:href=\"#DejaVuSans-6e\" x=\"124.755859\"/>\n     <use xlink:href=\"#DejaVuSans-64\" x=\"188.134766\"/>\n     <use xlink:href=\"#DejaVuSans-61\" x=\"251.611328\"/>\n     <use xlink:href=\"#DejaVuSans-6c\" x=\"312.890625\"/>\n    </g>\n   </g>\n  </g>\n  <g id=\"axes_3\">\n   <g clip-path=\"url(#pd8fac801a7)\">\n    <image xlink:href=\"data:image/png;base64,\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\" id=\"imagebf185900f5\" transform=\"scale(1 -1)translate(0 -128)\" x=\"322.305882\" y=\"-22.224007\" width=\"128\" height=\"128\"/>\n   </g>\n   <g id=\"text_3\">\n    <!-- Dress -->\n    <g style=\"fill: #ffffff\" transform=\"translate(369.364136 16.318125)scale(0.12 -0.12)\">\n     <defs>\n      <path id=\"DejaVuSans-44\" d=\"M 1259 4147 \nL 1259 519 \nL 2022 519 \nQ 2988 519 3436 956 \nQ 3884 1394 3884 2338 \nQ 3884 3275 3436 3711 \nQ 2988 4147 2022 4147 \nL 1259 4147 \nz\nM 628 4666 \nL 1925 4666 \nQ 3281 4666 3915 4102 \nQ 4550 3538 4550 2338 \nQ 4550 1131 3912 565 \nQ 3275 0 1925 0 \nL 628 0 \nL 628 4666 \nz\n\" transform=\"scale(0.015625)\"/>\n      <path id=\"DejaVuSans-65\" d=\"M 3597 1894 \nL 3597 1613 \nL 953 1613 \nQ 991 1019 1311 708 \nQ 1631 397 2203 397 \nQ 2534 397 2845 478 \nQ 3156 559 3463 722 \nL 3463 178 \nQ 3153 47 2828 -22 \nQ 2503 -91 2169 -91 \nQ 1331 -91 842 396 \nQ 353 884 353 1716 \nQ 353 2575 817 3079 \nQ 1281 3584 2069 3584 \nQ 2775 3584 3186 3129 \nQ 3597 2675 3597 1894 \nz\nM 3022 2063 \nQ 3016 2534 2758 2815 \nQ 2500 3097 2075 3097 \nQ 1594 3097 1305 2825 \nQ 1016 2553 972 2059 \nL 3022 2063 \nz\n\" transform=\"scale(0.015625)\"/>\n      <path id=\"DejaVuSans-73\" d=\"M 2834 3397 \nL 2834 2853 \nQ 2591 2978 2328 3040 \nQ 2066 3103 1784 3103 \nQ 1356 3103 1142 2972 \nQ 928 2841 928 2578 \nQ 928 2378 1081 2264 \nQ 1234 2150 1697 2047 \nL 1894 2003 \nQ 2506 1872 2764 1633 \nQ 3022 1394 3022 966 \nQ 3022 478 2636 193 \nQ 2250 -91 1575 -91 \nQ 1294 -91 989 -36 \nQ 684 19 347 128 \nL 347 722 \nQ 666 556 975 473 \nQ 1284 391 1588 391 \nQ 1994 391 2212 530 \nQ 2431 669 2431 922 \nQ 2431 1156 2273 1281 \nQ 2116 1406 1581 1522 \nL 1381 1569 \nQ 847 1681 609 1914 \nQ 372 2147 372 2553 \nQ 372 3047 722 3315 \nQ 1072 3584 1716 3584 \nQ 2034 3584 2315 3537 \nQ 2597 3491 2834 3397 \nz\n\" transform=\"scale(0.015625)\"/>\n     </defs>\n     <use xlink:href=\"#DejaVuSans-44\"/>\n     <use xlink:href=\"#DejaVuSans-72\" x=\"77.001953\"/>\n     <use xlink:href=\"#DejaVuSans-65\" x=\"115.865234\"/>\n     <use xlink:href=\"#DejaVuSans-73\" x=\"177.388672\"/>\n     <use xlink:href=\"#DejaVuSans-73\" x=\"229.488281\"/>\n    </g>\n   </g>\n  </g>\n  <g id=\"axes_4\">\n   <g clip-path=\"url(#pe9ac4871ae)\">\n    <image xlink:href=\"data:image/png;base64,\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\" id=\"image6f1e206594\" transform=\"scale(1 -1)translate(0 -128)\" x=\"7.2\" y=\"-175.711066\" width=\"128\" height=\"128\"/>\n   </g>\n   <g id=\"text_4\">\n    <!-- Coat -->\n    <g style=\"fill: #ffffff\" transform=\"translate(57.262941 169.805184)scale(0.12 -0.12)\">\n     <defs>\n      <path id=\"DejaVuSans-43\" d=\"M 4122 4306 \nL 4122 3641 \nQ 3803 3938 3442 4084 \nQ 3081 4231 2675 4231 \nQ 1875 4231 1450 3742 \nQ 1025 3253 1025 2328 \nQ 1025 1406 1450 917 \nQ 1875 428 2675 428 \nQ 3081 428 3442 575 \nQ 3803 722 4122 1019 \nL 4122 359 \nQ 3791 134 3420 21 \nQ 3050 -91 2638 -91 \nQ 1578 -91 968 557 \nQ 359 1206 359 2328 \nQ 359 3453 968 4101 \nQ 1578 4750 2638 4750 \nQ 3056 4750 3426 4639 \nQ 3797 4528 4122 4306 \nz\n\" transform=\"scale(0.015625)\"/>\n      <path id=\"DejaVuSans-6f\" d=\"M 1959 3097 \nQ 1497 3097 1228 2736 \nQ 959 2375 959 1747 \nQ 959 1119 1226 758 \nQ 1494 397 1959 397 \nQ 2419 397 2687 759 \nQ 2956 1122 2956 1747 \nQ 2956 2369 2687 2733 \nQ 2419 3097 1959 3097 \nz\nM 1959 3584 \nQ 2709 3584 3137 3096 \nQ 3566 2609 3566 1747 \nQ 3566 888 3137 398 \nQ 2709 -91 1959 -91 \nQ 1206 -91 779 398 \nQ 353 888 353 1747 \nQ 353 2609 779 3096 \nQ 1206 3584 1959 3584 \nz\n\" transform=\"scale(0.015625)\"/>\n     </defs>\n     <use xlink:href=\"#DejaVuSans-43\"/>\n     <use xlink:href=\"#DejaVuSans-6f\" x=\"69.824219\"/>\n     <use xlink:href=\"#DejaVuSans-61\" x=\"131.005859\"/>\n     <use xlink:href=\"#DejaVuSans-74\" x=\"192.285156\"/>\n    </g>\n   </g>\n  </g>\n  <g id=\"axes_5\">\n   <g clip-path=\"url(#pa5b8017921)\">\n    <image xlink:href=\"data:image/png;base64,\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\" id=\"image0f7b60d774\" transform=\"scale(1 -1)translate(0 -128)\" x=\"164.752941\" y=\"-175.711066\" width=\"128\" height=\"128\"/>\n   </g>\n   <g id=\"text_5\">\n    <!-- Bag -->\n    <g style=\"fill: #ffffff\" transform=\"translate(217.103382 169.805184)scale(0.12 -0.12)\">\n     <defs>\n      <path id=\"DejaVuSans-42\" d=\"M 1259 2228 \nL 1259 519 \nL 2272 519 \nQ 2781 519 3026 730 \nQ 3272 941 3272 1375 \nQ 3272 1813 3026 2020 \nQ 2781 2228 2272 2228 \nL 1259 2228 \nz\nM 1259 4147 \nL 1259 2741 \nL 2194 2741 \nQ 2656 2741 2882 2914 \nQ 3109 3088 3109 3444 \nQ 3109 3797 2882 3972 \nQ 2656 4147 2194 4147 \nL 1259 4147 \nz\nM 628 4666 \nL 2241 4666 \nQ 2963 4666 3353 4366 \nQ 3744 4066 3744 3513 \nQ 3744 3084 3544 2831 \nQ 3344 2578 2956 2516 \nQ 3422 2416 3680 2098 \nQ 3938 1781 3938 1306 \nQ 3938 681 3513 340 \nQ 3088 0 2303 0 \nL 628 0 \nL 628 4666 \nz\n\" transform=\"scale(0.015625)\"/>\n      <path id=\"DejaVuSans-67\" d=\"M 2906 1791 \nQ 2906 2416 2648 2759 \nQ 2391 3103 1925 3103 \nQ 1463 3103 1205 2759 \nQ 947 2416 947 1791 \nQ 947 1169 1205 825 \nQ 1463 481 1925 481 \nQ 2391 481 2648 825 \nQ 2906 1169 2906 1791 \nz\nM 3481 434 \nQ 3481 -459 3084 -895 \nQ 2688 -1331 1869 -1331 \nQ 1566 -1331 1297 -1286 \nQ 1028 -1241 775 -1147 \nL 775 -588 \nQ 1028 -725 1275 -790 \nQ 1522 -856 1778 -856 \nQ 2344 -856 2625 -561 \nQ 2906 -266 2906 331 \nL 2906 616 \nQ 2728 306 2450 153 \nQ 2172 0 1784 0 \nQ 1141 0 747 490 \nQ 353 981 353 1791 \nQ 353 2603 747 3093 \nQ 1141 3584 1784 3584 \nQ 2172 3584 2450 3431 \nQ 2728 3278 2906 2969 \nL 2906 3500 \nL 3481 3500 \nL 3481 434 \nz\n\" transform=\"scale(0.015625)\"/>\n     </defs>\n     <use xlink:href=\"#DejaVuSans-42\"/>\n     <use xlink:href=\"#DejaVuSans-61\" x=\"68.603516\"/>\n     <use xlink:href=\"#DejaVuSans-67\" x=\"129.882812\"/>\n    </g>\n   </g>\n  </g>\n  <g id=\"axes_6\">\n   <g clip-path=\"url(#p9269fb6cb4)\">\n    <image xlink:href=\"data:image/png;base64,\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\" id=\"image1d0965a4af\" transform=\"scale(1 -1)translate(0 -128)\" x=\"322.305882\" y=\"-175.711066\" width=\"128\" height=\"128\"/>\n   </g>\n   <g id=\"text_6\">\n    <!-- Shirt -->\n    <g style=\"fill: #ffffff\" transform=\"translate(372.161636 169.805184)scale(0.12 -0.12)\">\n     <use xlink:href=\"#DejaVuSans-53\"/>\n     <use xlink:href=\"#DejaVuSans-68\" x=\"63.476562\"/>\n     <use xlink:href=\"#DejaVuSans-69\" x=\"126.855469\"/>\n     <use xlink:href=\"#DejaVuSans-72\" x=\"154.638672\"/>\n     <use xlink:href=\"#DejaVuSans-74\" x=\"195.751953\"/>\n    </g>\n   </g>\n  </g>\n  <g id=\"axes_7\">\n   <g clip-path=\"url(#p4a86bebf2c)\">\n    <image xlink:href=\"data:image/png;base64,\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\" id=\"image5a958d8972\" transform=\"scale(1 -1)translate(0 -128)\" x=\"7.2\" y=\"-329.198125\" width=\"128\" height=\"128\"/>\n   </g>\n   <g id=\"text_7\">\n    <!-- Sandal -->\n    <g style=\"fill: #ffffff\" transform=\"translate(50.711691 323.292243)scale(0.12 -0.12)\">\n     <use xlink:href=\"#DejaVuSans-53\"/>\n     <use xlink:href=\"#DejaVuSans-61\" x=\"63.476562\"/>\n     <use xlink:href=\"#DejaVuSans-6e\" x=\"124.755859\"/>\n     <use xlink:href=\"#DejaVuSans-64\" x=\"188.134766\"/>\n     <use xlink:href=\"#DejaVuSans-61\" x=\"251.611328\"/>\n     <use xlink:href=\"#DejaVuSans-6c\" x=\"312.890625\"/>\n    </g>\n   </g>\n  </g>\n  <g id=\"axes_8\">\n   <g clip-path=\"url(#pdad4586486)\">\n    <image xlink:href=\"data:image/png;base64,\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\" id=\"imageda469e313d\" transform=\"scale(1 -1)translate(0 -128)\" x=\"164.752941\" y=\"-329.198125\" width=\"128\" height=\"128\"/>\n   </g>\n   <g id=\"text_8\">\n    <!-- T-Shirt -->\n    <g style=\"fill: #ffffff\" transform=\"translate(209.32682 323.292243)scale(0.12 -0.12)\">\n     <defs>\n      <path id=\"DejaVuSans-54\" d=\"M -19 4666 \nL 3928 4666 \nL 3928 4134 \nL 2272 4134 \nL 2272 0 \nL 1638 0 \nL 1638 4134 \nL -19 4134 \nL -19 4666 \nz\n\" transform=\"scale(0.015625)\"/>\n      <path id=\"DejaVuSans-2d\" d=\"M 313 2009 \nL 1997 2009 \nL 1997 1497 \nL 313 1497 \nL 313 2009 \nz\n\" transform=\"scale(0.015625)\"/>\n     </defs>\n     <use xlink:href=\"#DejaVuSans-54\"/>\n     <use xlink:href=\"#DejaVuSans-2d\" x=\"51.958984\"/>\n     <use xlink:href=\"#DejaVuSans-53\" x=\"88.042969\"/>\n     <use xlink:href=\"#DejaVuSans-68\" x=\"151.519531\"/>\n     <use xlink:href=\"#DejaVuSans-69\" x=\"214.898438\"/>\n     <use xlink:href=\"#DejaVuSans-72\" x=\"242.681641\"/>\n     <use xlink:href=\"#DejaVuSans-74\" x=\"283.794922\"/>\n    </g>\n   </g>\n  </g>\n  <g id=\"axes_9\">\n   <g clip-path=\"url(#p17557133ae)\">\n    <image xlink:href=\"data:image/png;base64,\niVBORw0KGgoAAAANSUhEUgAAAIAAAACACAYAAADDPmHLAAAIC0lEQVR4nO2dO2tXWxDFJ/FtYtSIbzBGtLIQG0mhWMbCSrCz8gvYiN/ATyEKlhZ+BQVRkFQGgiIiSjAqxhf4ft/iVnvN8p51D/Fe+M/6dbOZ88g/w96Lmdn7DEXEr+hg48aNaWz//v2NvW7duuQzPj7e2MuXL+96VEREDA8PN/bTp0+Tz9evXxv7+vXr0r0HBfwth4aGks+3b9867zPc6WEGGgdAcRwAxXEAFGcoBBE4MzOTxg4ePNjYHz58SD7Lli1r7JUrV/7L1/ub79+/p7G1a9c29u3bt5PPyZMnG3tkZCT5KEKJCawvX778ox2Rf5NPnz4ln1+/On/+P4pngOI4AIrjACgO1QCY+Jmbm0sXSkkGSOiwtbQvuHauXr06+axfv76xf/z4kXzY3/Hz58/GZhoEfdi9URd8/vw5+bB7f/z4sbGfPXuWfObn5xv74sWLyWd2djaNIZ4BiuMAKI4DoDgOgOJQEXjgwIHGZpW2d+/eNTYKvogscFg1kF2HCSQmHrEaiKIsIgtDvOZ316GgY0JNSeDg36ZWQ/He7Dr8jdjfcfz48cZmotAzQHEcAMVxABSHLkqbN29ubCy8RES8ffu2scfGxvLNYe1ixSC2duEayNbgVatWNTZb33EtZ3qDreWoOVasWJF88L3Z34Gwv4O9E8IKbZhUYr/t6dOnG/vMmTP5+Z1PNwONA6A4DoDiOACKQ0XgiRMnWieSiMDuFlaNQxG2YcOGTp+ILMKYwFOSKiiU1GqkIugQJuaU57HrsEKJgpf5sI6kHTt2dD+/08MMNA6A4jgAikMX0iNHjjT2+/fvkw8Wg9jWsIWFhcZmaxlbuzCpwTSAUozB+zC9wcYQJYHE7oPXMR8s6kRkDcKej8mh0dFR6d7pHTs9zEDjACiOA6A4DoDiUBGI+/F37dqVfFCYMMGhdAQxEai0XCtJlr4CT3kWXqcIRTURpQhcTHJt3bo1+Tx8+LDzPp4BiuMAKI4DoDgOgOJQEXjr1q3GPnz4cOeNcD9bhFaxYqB4ZPv3sE1LEXNqlU8Ra4pQw/uwa5S9iUrbHMvE3r17t/MdPQMUxwFQHAdAcagGuHbtWmOfPXs2+Sjn/eD6xtqilQpZ33N08LqlPI+nz73ZWs5+E9QO7DdSdMLjx48738kzQHEcAMVxABTHAVAcKgJv3rzZ2E+ePEk+2AbORBBW/1hrlwK7N471aeVeStjzMTnFfFgVVTmACw/y2rRpU/JhewoRzwDFcQAUxwFQHOnQmsXFxTQ2MTHR2KzQg63KzIdtKUM/VpxRum3+y0SQ1IJNClZ9tQsWw+7du5d88AwH+k69nm4GBgdAcRwAxXEAFEf6Ysj09HQau3z5cmM/f/48+SinhbMDqBQRqBwmqXQJMZSOIPRhYg7HmAhVun3Y34FJNfY1kkOHDqUxxDNAcRwAxXEAFEfSACzJcefOncZm6xueIYAHUP7uOiU5ougLHFM1QR8N0LdgpVzH3ge7hFhCbXJyMo0hngGK4wAojgOgOA6A4kjVQNaWjAdH7dy5M/mgeGHJCnZwFIqlvp+b+78/y9oXJRGEbfksEafgGaA4DoDiOACK4wAojvYdM8KbN28amx1ShNkpzAxGaHv/lWwZo09GT/VRTgrtmwnEaigTyigCX758mXwUPAMUxwFQHAdAcSQNsHfv3jS2b9++xmaJiJGRkcZes2ZN8mHrIuoC5vMnzwhS7qVoAISdqcA0EGonVo3FMaUFnOEZoDgOgOI4AIrjACiOJAJPnTqVxrZs2dLYr169Sj7Y8q2e+o3CSGmJYij78xlKkglFmLLvD0/4jtA+mcP+VvTBFj0VzwDFcQAUxwFQHEkDsELP7OxsY7PPwiJK4SdCa+dWEjF9D31WEkHsgEcE12l2Zo/Szs7Aw7nZ/0jBM0BxHADFcQAUxwFQHEkEMlH04MGDxp6amko+SkKFCUPsgFGSPow/2RGE9BWhWDGNyGKRVVHxeX1b4D0DFMcBUBwHQHEkDYDrfUTE0aNHG5sVWpSiBrsO107WEbNUXcF9UZJVyqHPSreT8nds376904fhGaA4DoDiOACK4wAojiQCb9y4kcbOnTvX2HNzc71egH3yFLedKfvjmZhC0bmUorBPpVH51F5Ev7Z0VlWVntXrKjMwOACK4wAojgOgOJIInJmZSWP3799vbLb3H8UMa1ti1ylZPmzJYllGfL7yWZe+KMKN+SjZUfz8XkQWoay9XMEzQHEcAMVxABSHagBMWLBPvl64cKGxz58/n3xwzzprpWYJDHzeUq3vSns5e55ytk/fL5Yo17GTwF+/ft3YeF6DimeA4jgAiuMAKI4DoDhUBCqtTHv27Om8Bk8HZwceMoE3NjbWeR3emwlVFIbKfr6ILMKYmFPa1jCBoyailD2FKALdFm564QAojgOgOFQDYHKGra9sSxOCBQpWsOi7Fx+3S23bti35KF1DSmcPK1jhGsy0TN/kFP5OTAOgT9/P5HoGKI4DoDgOgOI4AIpDRaByoOKVK1cae3p6OvmgUGOVP9YlhHsRlYOcsJU8In9Fg7Vlj46OpjF8b3YS9+LiYmOzQyBRvLGqHia9IvLvhAdCRUTs3r27sS9dupR8FDwDFMcBUBwHQHGGImJJvq86MTGRxo4dO9bYL168SD6PHj1KY/Pz8409OTmZfDARxZJVuC4rX+iKyIknpi/Ymo9gkomd9TM+Pp7G8AstbO8/vtPVq1c734fhGaA4DoDiOACK4wAozl/bLHwPlE6c6AAAAABJRU5ErkJggg==\" id=\"image83a79f91e8\" transform=\"scale(1 -1)translate(0 -128)\" x=\"322.305882\" y=\"-329.198125\" width=\"128\" height=\"128\"/>\n   </g>\n   <g id=\"text_9\">\n    <!-- Bag -->\n    <g style=\"fill: #ffffff\" transform=\"translate(374.656324 323.292243)scale(0.12 -0.12)\">\n     <use xlink:href=\"#DejaVuSans-42\"/>\n     <use xlink:href=\"#DejaVuSans-61\" x=\"68.603516\"/>\n     <use xlink:href=\"#DejaVuSans-67\" x=\"129.882812\"/>\n    </g>\n   </g>\n  </g>\n </g>\n <defs>\n  <clipPath id=\"p638fe84e35\">\n   <rect x=\"7.2\" y=\"22.318125\" width=\"127.905882\" height=\"127.905882\"/>\n  </clipPath>\n  <clipPath id=\"p3a8d0ee498\">\n   <rect x=\"164.752941\" y=\"22.318125\" width=\"127.905882\" height=\"127.905882\"/>\n  </clipPath>\n  <clipPath id=\"pd8fac801a7\">\n   <rect x=\"322.305882\" y=\"22.318125\" width=\"127.905882\" height=\"127.905882\"/>\n  </clipPath>\n  <clipPath id=\"pe9ac4871ae\">\n   <rect x=\"7.2\" y=\"175.805184\" width=\"127.905882\" height=\"127.905882\"/>\n  </clipPath>\n  <clipPath id=\"pa5b8017921\">\n   <rect x=\"164.752941\" y=\"175.805184\" width=\"127.905882\" height=\"127.905882\"/>\n  </clipPath>\n  <clipPath id=\"p9269fb6cb4\">\n   <rect x=\"322.305882\" y=\"175.805184\" width=\"127.905882\" height=\"127.905882\"/>\n  </clipPath>\n  <clipPath id=\"p4a86bebf2c\">\n   <rect x=\"7.2\" y=\"329.292243\" width=\"127.905882\" height=\"127.905882\"/>\n  </clipPath>\n  <clipPath id=\"pdad4586486\">\n   <rect x=\"164.752941\" y=\"329.292243\" width=\"127.905882\" height=\"127.905882\"/>\n  </clipPath>\n  <clipPath id=\"p17557133ae\">\n   <rect x=\"322.305882\" y=\"329.292243\" width=\"127.905882\" height=\"127.905882\"/>\n  </clipPath>\n </defs>\n</svg>\n",
            "text/plain": [
              "<Figure size 576x576 with 9 Axes>"
            ]
          },
          "metadata": {
            "needs_background": "dark"
          },
          "output_type": "display_data"
        }
      ],
      "source": [
        "labels_map = {\n",
        "    0: \"T-Shirt\",\n",
        "    1: \"Trouser\",\n",
        "    2: \"Pullover\",\n",
        "    3: \"Dress\",\n",
        "    4: \"Coat\",\n",
        "    5: \"Sandal\",\n",
        "    6: \"Shirt\",\n",
        "    7: \"Sneaker\",\n",
        "    8: \"Bag\",\n",
        "    9: \"Ankle Boot\",\n",
        "}\n",
        "figure = plt.figure(figsize=(8, 8))\n",
        "cols, rows = 3, 3\n",
        "for i in range(1, cols * rows + 1):\n",
        "    sample_idx = torch.randint(len(training_data), size=(1,)).item()\n",
        "    img, label = training_data[sample_idx]\n",
        "    figure.add_subplot(rows, cols, i)\n",
        "    plt.title(labels_map[label])\n",
        "    plt.axis(\"off\")\n",
        "    plt.imshow(img.squeeze(), cmap=\"gray\")\n",
        "plt.show()"
      ]
    },
    {
      "cell_type": "markdown",
      "metadata": {},
      "source": [
        "## Preparing your data for training with DataLoaders\n",
        "-------------------------------------------------\n",
        "The ``Dataset`` retrieves our dataset's features and labels one sample at a time. While training a model, we typically want to \n",
        "pass samples in \"minibatches\", reshuffle the data at every epoch to reduce model overfitting, and use Python's multiprocessing to\n",
        "speed up data retrieval.\n",
        "\n",
        "In machine learning, you need to specify what the feature and label are in your dataset. **Features** are input and **labels** are output.  We train use features and train the model to predict the label.\n",
        "\n",
        "  - Labels are what 10 class types:  T-shirt, Sandal, Dress etc\n",
        "  - Features are the patterns in the images pixels\n",
        "\n",
        "The ``DataLoader`` is an iterable that abstracts this complexity for us in an easy API.  We use the Dataloader, we need to set the following paraments:\n",
        " - **data** the training data that will be used to train the model; and test data to evaluate the model\n",
        " - **batch size** the number of records to be processed in each batch\n",
        " - **shuffle** the randoms sample of the data by indices\n"
      ]
    },
    {
      "cell_type": "code",
      "execution_count": 3,
      "metadata": {},
      "outputs": [],
      "source": [
        "from torch.utils.data import DataLoader\n",
        "\n",
        "train_dataloader = DataLoader(training_data, batch_size=64, shuffle=True)\n",
        "test_dataloader = DataLoader(test_data, batch_size=64, shuffle=True)"
      ]
    },
    {
      "cell_type": "markdown",
      "metadata": {},
      "source": [
        "## Iterate through the DataLoader\n",
        "\n",
        "We have loaded that dataset into the `Dataloader` and can iterate through the dataset as needed.\n",
        "Each iteration below returns a batch of `train_features` and `train_labels`(containing `batch_size=64` features and labels respectively). Because we specified `shuffle=True`, after we iterate over all batches the data is shuffled (for finer-grained control over  the data loading order."
      ]
    },
    {
      "cell_type": "code",
      "execution_count": 4,
      "metadata": {},
      "outputs": [
        {
          "name": "stdout",
          "output_type": "stream",
          "text": [
            "Feature batch shape: torch.Size([64, 1, 28, 28])\n",
            "Labels batch shape: torch.Size([64])\n"
          ]
        },
        {
          "data": {
            "image/png": "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",
            "image/svg+xml": "<?xml version=\"1.0\" encoding=\"utf-8\" standalone=\"no\"?>\n<!DOCTYPE svg PUBLIC \"-//W3C//DTD SVG 1.1//EN\"\n  \"http://www.w3.org/Graphics/SVG/1.1/DTD/svg11.dtd\">\n<svg xmlns:xlink=\"http://www.w3.org/1999/xlink\" width=\"251.565pt\" height=\"248.518125pt\" viewBox=\"0 0 251.565 248.518125\" xmlns=\"http://www.w3.org/2000/svg\" version=\"1.1\">\n <metadata>\n  <rdf:RDF xmlns:dc=\"http://purl.org/dc/elements/1.1/\" xmlns:cc=\"http://creativecommons.org/ns#\" xmlns:rdf=\"http://www.w3.org/1999/02/22-rdf-syntax-ns#\">\n   <cc:Work>\n    <dc:type rdf:resource=\"http://purl.org/dc/dcmitype/StillImage\"/>\n    <dc:date>2022-08-19T17:25:04.887550</dc:date>\n    <dc:format>image/svg+xml</dc:format>\n    <dc:creator>\n     <cc:Agent>\n      <dc:title>Matplotlib v3.5.1, https://matplotlib.org/</dc:title>\n     </cc:Agent>\n    </dc:creator>\n   </cc:Work>\n  </rdf:RDF>\n </metadata>\n <defs>\n  <style type=\"text/css\">*{stroke-linejoin: round; stroke-linecap: butt}</style>\n </defs>\n <g id=\"figure_1\">\n  <g id=\"patch_1\">\n   <path d=\"M 0 248.518125 \nL 251.565 248.518125 \nL 251.565 0 \nL 0 0 \nL 0 248.518125 \nz\n\" style=\"fill: none\"/>\n  </g>\n  <g id=\"axes_1\">\n   <g id=\"patch_2\">\n    <path d=\"M 26.925 224.64 \nL 244.365 224.64 \nL 244.365 7.2 \nL 26.925 7.2 \nz\n\"/>\n   </g>\n   <g clip-path=\"url(#p3b87901da9)\">\n    <image xlink:href=\"data:image/png;base64,\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\" id=\"imageef6cf62915\" transform=\"scale(1 -1)translate(0 -218)\" x=\"26.925\" y=\"-6.64\" width=\"218\" height=\"218\"/>\n   </g>\n   <g id=\"matplotlib.axis_1\">\n    <g id=\"xtick_1\">\n     <g id=\"line2d_1\">\n      <defs>\n       <path id=\"m4639398c92\" d=\"M 0 0 \nL 0 3.5 \n\" style=\"stroke: #ffffff; stroke-width: 0.8\"/>\n      </defs>\n      <g>\n       <use xlink:href=\"#m4639398c92\" x=\"30.807857\" y=\"224.64\" style=\"fill: #ffffff; stroke: #ffffff; stroke-width: 0.8\"/>\n      </g>\n     </g>\n     <g id=\"text_1\">\n      <!-- 0 -->\n      <g style=\"fill: #ffffff\" transform=\"translate(27.626607 239.238437)scale(0.1 -0.1)\">\n       <defs>\n        <path id=\"DejaVuSans-30\" d=\"M 2034 4250 \nQ 1547 4250 1301 3770 \nQ 1056 3291 1056 2328 \nQ 1056 1369 1301 889 \nQ 1547 409 2034 409 \nQ 2525 409 2770 889 \nQ 3016 1369 3016 2328 \nQ 3016 3291 2770 3770 \nQ 2525 4250 2034 4250 \nz\nM 2034 4750 \nQ 2819 4750 3233 4129 \nQ 3647 3509 3647 2328 \nQ 3647 1150 3233 529 \nQ 2819 -91 2034 -91 \nQ 1250 -91 836 529 \nQ 422 1150 422 2328 \nQ 422 3509 836 4129 \nQ 1250 4750 2034 4750 \nz\n\" transform=\"scale(0.015625)\"/>\n       </defs>\n       <use xlink:href=\"#DejaVuSans-30\"/>\n      </g>\n     </g>\n    </g>\n    <g id=\"xtick_2\">\n     <g id=\"line2d_2\">\n      <g>\n       <use xlink:href=\"#m4639398c92\" x=\"69.636429\" y=\"224.64\" style=\"fill: #ffffff; stroke: #ffffff; stroke-width: 0.8\"/>\n      </g>\n     </g>\n     <g id=\"text_2\">\n      <!-- 5 -->\n      <g style=\"fill: #ffffff\" transform=\"translate(66.455179 239.238437)scale(0.1 -0.1)\">\n       <defs>\n        <path id=\"DejaVuSans-35\" d=\"M 691 4666 \nL 3169 4666 \nL 3169 4134 \nL 1269 4134 \nL 1269 2991 \nQ 1406 3038 1543 3061 \nQ 1681 3084 1819 3084 \nQ 2600 3084 3056 2656 \nQ 3513 2228 3513 1497 \nQ 3513 744 3044 326 \nQ 2575 -91 1722 -91 \nQ 1428 -91 1123 -41 \nQ 819 9 494 109 \nL 494 744 \nQ 775 591 1075 516 \nQ 1375 441 1709 441 \nQ 2250 441 2565 725 \nQ 2881 1009 2881 1497 \nQ 2881 1984 2565 2268 \nQ 2250 2553 1709 2553 \nQ 1456 2553 1204 2497 \nQ 953 2441 691 2322 \nL 691 4666 \nz\n\" transform=\"scale(0.015625)\"/>\n       </defs>\n       <use xlink:href=\"#DejaVuSans-35\"/>\n      </g>\n     </g>\n    </g>\n    <g id=\"xtick_3\">\n     <g id=\"line2d_3\">\n      <g>\n       <use xlink:href=\"#m4639398c92\" x=\"108.465\" y=\"224.64\" style=\"fill: #ffffff; stroke: #ffffff; stroke-width: 0.8\"/>\n      </g>\n     </g>\n     <g id=\"text_3\">\n      <!-- 10 -->\n      <g style=\"fill: #ffffff\" transform=\"translate(102.1025 239.238437)scale(0.1 -0.1)\">\n       <defs>\n        <path id=\"DejaVuSans-31\" d=\"M 794 531 \nL 1825 531 \nL 1825 4091 \nL 703 3866 \nL 703 4441 \nL 1819 4666 \nL 2450 4666 \nL 2450 531 \nL 3481 531 \nL 3481 0 \nL 794 0 \nL 794 531 \nz\n\" transform=\"scale(0.015625)\"/>\n       </defs>\n       <use xlink:href=\"#DejaVuSans-31\"/>\n       <use xlink:href=\"#DejaVuSans-30\" x=\"63.623047\"/>\n      </g>\n     </g>\n    </g>\n    <g id=\"xtick_4\">\n     <g id=\"line2d_4\">\n      <g>\n       <use xlink:href=\"#m4639398c92\" x=\"147.293571\" y=\"224.64\" style=\"fill: #ffffff; stroke: #ffffff; stroke-width: 0.8\"/>\n      </g>\n     </g>\n     <g id=\"text_4\">\n      <!-- 15 -->\n      <g style=\"fill: #ffffff\" transform=\"translate(140.931071 239.238437)scale(0.1 -0.1)\">\n       <use xlink:href=\"#DejaVuSans-31\"/>\n       <use xlink:href=\"#DejaVuSans-35\" x=\"63.623047\"/>\n      </g>\n     </g>\n    </g>\n    <g id=\"xtick_5\">\n     <g id=\"line2d_5\">\n      <g>\n       <use xlink:href=\"#m4639398c92\" x=\"186.122143\" y=\"224.64\" style=\"fill: #ffffff; stroke: #ffffff; stroke-width: 0.8\"/>\n      </g>\n     </g>\n     <g id=\"text_5\">\n      <!-- 20 -->\n      <g style=\"fill: #ffffff\" transform=\"translate(179.759643 239.238437)scale(0.1 -0.1)\">\n       <defs>\n        <path id=\"DejaVuSans-32\" d=\"M 1228 531 \nL 3431 531 \nL 3431 0 \nL 469 0 \nL 469 531 \nQ 828 903 1448 1529 \nQ 2069 2156 2228 2338 \nQ 2531 2678 2651 2914 \nQ 2772 3150 2772 3378 \nQ 2772 3750 2511 3984 \nQ 2250 4219 1831 4219 \nQ 1534 4219 1204 4116 \nQ 875 4013 500 3803 \nL 500 4441 \nQ 881 4594 1212 4672 \nQ 1544 4750 1819 4750 \nQ 2544 4750 2975 4387 \nQ 3406 4025 3406 3419 \nQ 3406 3131 3298 2873 \nQ 3191 2616 2906 2266 \nQ 2828 2175 2409 1742 \nQ 1991 1309 1228 531 \nz\n\" transform=\"scale(0.015625)\"/>\n       </defs>\n       <use xlink:href=\"#DejaVuSans-32\"/>\n       <use xlink:href=\"#DejaVuSans-30\" x=\"63.623047\"/>\n      </g>\n     </g>\n    </g>\n    <g id=\"xtick_6\">\n     <g id=\"line2d_6\">\n      <g>\n       <use xlink:href=\"#m4639398c92\" x=\"224.950714\" y=\"224.64\" style=\"fill: #ffffff; stroke: #ffffff; stroke-width: 0.8\"/>\n      </g>\n     </g>\n     <g id=\"text_6\">\n      <!-- 25 -->\n      <g style=\"fill: #ffffff\" transform=\"translate(218.588214 239.238437)scale(0.1 -0.1)\">\n       <use xlink:href=\"#DejaVuSans-32\"/>\n       <use xlink:href=\"#DejaVuSans-35\" x=\"63.623047\"/>\n      </g>\n     </g>\n    </g>\n   </g>\n   <g id=\"matplotlib.axis_2\">\n    <g id=\"ytick_1\">\n     <g id=\"line2d_7\">\n      <defs>\n       <path id=\"m52cb366ef5\" d=\"M 0 0 \nL -3.5 0 \n\" style=\"stroke: #ffffff; stroke-width: 0.8\"/>\n      </defs>\n      <g>\n       <use xlink:href=\"#m52cb366ef5\" x=\"26.925\" y=\"11.082857\" style=\"fill: #ffffff; stroke: #ffffff; stroke-width: 0.8\"/>\n      </g>\n     </g>\n     <g id=\"text_7\">\n      <!-- 0 -->\n      <g style=\"fill: #ffffff\" transform=\"translate(13.5625 14.882076)scale(0.1 -0.1)\">\n       <use xlink:href=\"#DejaVuSans-30\"/>\n      </g>\n     </g>\n    </g>\n    <g id=\"ytick_2\">\n     <g id=\"line2d_8\">\n      <g>\n       <use xlink:href=\"#m52cb366ef5\" x=\"26.925\" y=\"49.911429\" style=\"fill: #ffffff; stroke: #ffffff; stroke-width: 0.8\"/>\n      </g>\n     </g>\n     <g id=\"text_8\">\n      <!-- 5 -->\n      <g style=\"fill: #ffffff\" transform=\"translate(13.5625 53.710647)scale(0.1 -0.1)\">\n       <use xlink:href=\"#DejaVuSans-35\"/>\n      </g>\n     </g>\n    </g>\n    <g id=\"ytick_3\">\n     <g id=\"line2d_9\">\n      <g>\n       <use xlink:href=\"#m52cb366ef5\" x=\"26.925\" y=\"88.74\" style=\"fill: #ffffff; stroke: #ffffff; stroke-width: 0.8\"/>\n      </g>\n     </g>\n     <g id=\"text_9\">\n      <!-- 10 -->\n      <g style=\"fill: #ffffff\" transform=\"translate(7.2 92.539219)scale(0.1 -0.1)\">\n       <use xlink:href=\"#DejaVuSans-31\"/>\n       <use xlink:href=\"#DejaVuSans-30\" x=\"63.623047\"/>\n      </g>\n     </g>\n    </g>\n    <g id=\"ytick_4\">\n     <g id=\"line2d_10\">\n      <g>\n       <use xlink:href=\"#m52cb366ef5\" x=\"26.925\" y=\"127.568571\" style=\"fill: #ffffff; stroke: #ffffff; stroke-width: 0.8\"/>\n      </g>\n     </g>\n     <g id=\"text_10\">\n      <!-- 15 -->\n      <g style=\"fill: #ffffff\" transform=\"translate(7.2 131.36779)scale(0.1 -0.1)\">\n       <use xlink:href=\"#DejaVuSans-31\"/>\n       <use xlink:href=\"#DejaVuSans-35\" x=\"63.623047\"/>\n      </g>\n     </g>\n    </g>\n    <g id=\"ytick_5\">\n     <g id=\"line2d_11\">\n      <g>\n       <use xlink:href=\"#m52cb366ef5\" x=\"26.925\" y=\"166.397143\" style=\"fill: #ffffff; stroke: #ffffff; stroke-width: 0.8\"/>\n      </g>\n     </g>\n     <g id=\"text_11\">\n      <!-- 20 -->\n      <g style=\"fill: #ffffff\" transform=\"translate(7.2 170.196362)scale(0.1 -0.1)\">\n       <use xlink:href=\"#DejaVuSans-32\"/>\n       <use xlink:href=\"#DejaVuSans-30\" x=\"63.623047\"/>\n      </g>\n     </g>\n    </g>\n    <g id=\"ytick_6\">\n     <g id=\"line2d_12\">\n      <g>\n       <use xlink:href=\"#m52cb366ef5\" x=\"26.925\" y=\"205.225714\" style=\"fill: #ffffff; stroke: #ffffff; stroke-width: 0.8\"/>\n      </g>\n     </g>\n     <g id=\"text_12\">\n      <!-- 25 -->\n      <g style=\"fill: #ffffff\" transform=\"translate(7.2 209.024933)scale(0.1 -0.1)\">\n       <use xlink:href=\"#DejaVuSans-32\"/>\n       <use xlink:href=\"#DejaVuSans-35\" x=\"63.623047\"/>\n      </g>\n     </g>\n    </g>\n   </g>\n   <g id=\"patch_3\">\n    <path d=\"M 26.925 224.64 \nL 26.925 7.2 \n\" style=\"fill: none; stroke: #ffffff; stroke-width: 0.8; stroke-linejoin: miter; stroke-linecap: square\"/>\n   </g>\n   <g id=\"patch_4\">\n    <path d=\"M 244.365 224.64 \nL 244.365 7.2 \n\" style=\"fill: none; stroke: #ffffff; stroke-width: 0.8; stroke-linejoin: miter; stroke-linecap: square\"/>\n   </g>\n   <g id=\"patch_5\">\n    <path d=\"M 26.925 224.64 \nL 244.365 224.64 \n\" style=\"fill: none; stroke: #ffffff; stroke-width: 0.8; stroke-linejoin: miter; stroke-linecap: square\"/>\n   </g>\n   <g id=\"patch_6\">\n    <path d=\"M 26.925 7.2 \nL 244.365 7.2 \n\" style=\"fill: none; stroke: #ffffff; stroke-width: 0.8; stroke-linejoin: miter; stroke-linecap: square\"/>\n   </g>\n  </g>\n </g>\n <defs>\n  <clipPath id=\"p3b87901da9\">\n   <rect x=\"26.925\" y=\"7.2\" width=\"217.44\" height=\"217.44\"/>\n  </clipPath>\n </defs>\n</svg>\n",
            "text/plain": [
              "<Figure size 432x288 with 1 Axes>"
            ]
          },
          "metadata": {
            "needs_background": "dark"
          },
          "output_type": "display_data"
        },
        {
          "name": "stdout",
          "output_type": "stream",
          "text": [
            "Label: 7\n"
          ]
        }
      ],
      "source": [
        "# Display image and label.\n",
        "train_features, train_labels = next(iter(train_dataloader))\n",
        "print(f\"Feature batch shape: {train_features.size()}\")\n",
        "print(f\"Labels batch shape: {train_labels.size()}\")\n",
        "img = train_features[0].squeeze()\n",
        "label = train_labels[0]\n",
        "plt.imshow(img, cmap=\"gray\")\n",
        "plt.show()\n",
        "print(f\"Label: {label}\")"
      ]
    },
    {
      "cell_type": "markdown",
      "metadata": {},
      "source": [
        "# Normalization\n",
        "\n",
        "Normalization is a common data pre-processing technique that is applied to scale or transform the data to make sure there's an equal learning contribution from each feature.  For example, each pixel in the grayscale images have a value between 0 and 255, which are features.   If one pixel value is 17 and another pixel is 197. There will be an uneven distribution of the pixel importance, because the higher pixel volumes will deviate the learning. Normalization changes the range of your data, without distorting its distintion among out feature.  This pre-processing is to avoid:\n",
        "\n",
        "- A reduction of the prediction accuracy \n",
        "- Difficulty for the model to learn\n",
        "- Unfavorable distribution of the feature data ranges"
      ]
    },
    {
      "cell_type": "markdown",
      "metadata": {},
      "source": [
        "## Transforms\n",
        "\n",
        "Data does not always come in its final processed form that is required for \n",
        "training machine learning algorithms. We use **transforms** to perform some\n",
        "manipulation of the data and make it suitable for training.\n",
        "\n",
        "All TorchVision datasets have two parameters (`transform` to modify the features and\n",
        "`target_transform` to modify the labels) that accept callables containing the transformation logic. The `torchvision.transforms` module offers \n",
        "several commonly-used transforms out of the box.\n",
        "\n",
        "The FashionMNIST features are in PIL Image format, and the labels are integers.\n",
        "For training, we need the features as normalized tensors, and the labels as one-hot encoded tensors.\n",
        "To make these transformations, we use `ToTensor` and `Lambda`."
      ]
    },
    {
      "cell_type": "code",
      "execution_count": 5,
      "metadata": {},
      "outputs": [],
      "source": [
        "from torchvision import datasets\n",
        "from torchvision.transforms import Lambda, ToTensor\n",
        "\n",
        "ds = datasets.FashionMNIST(\n",
        "    root=\"data\",\n",
        "    train=True,\n",
        "    download=True,\n",
        "    transform=ToTensor(),\n",
        "    target_transform=Lambda(lambda y: torch.zeros(10, dtype=torch.float).scatter_(0, torch.tensor(y), value=1))\n",
        ")"
      ]
    },
    {
      "cell_type": "markdown",
      "metadata": {},
      "source": [
        "## ToTensor()\n",
        "\n",
        "`ToTensor` converts a PIL image or NumPy `ndarray` into a `FloatTensor` and scales the image's pixel intensity values in the range \\[0., 1.\\]\n",
        "\n",
        "## Lambda transforms\n",
        "\n",
        "Lambda transforms apply any user-defined lambda function. Here, we define a function \n",
        "to turn the integer into a one-hot encoded tensor. \n",
        "It first creates a zero tensor of size 10 (the number of labels in our dataset) and calls scatter which assigns a \n",
        "_value=1_ on the index as given by the label _y_. You can also use `torch.nn.functional.one_hot` as another option to do that."
      ]
    },
    {
      "cell_type": "code",
      "execution_count": 6,
      "metadata": {},
      "outputs": [],
      "source": [
        "target_transform = Lambda(lambda y: torch.zeros(\n",
        "    10, dtype=torch.float).scatter_(dim=0, index=torch.tensor(y), value=1))"
      ]
    }
  ],
  "metadata": {
    "interpreter": {
      "hash": "26de051ba29f2982a8de78e945f0abaf191376122a1563185a90213a26c5da77"
    },
    "kernel_info": {
      "name": "conda-env-py38_pytorch-py"
    },
    "kernelspec": {
      "display_name": "Python 3.10.4 64-bit",
      "language": "python",
      "name": "python3"
    },
    "language_info": {
      "codemirror_mode": {
        "name": "ipython",
        "version": 3
      },
      "file_extension": ".py",
      "mimetype": "text/x-python",
      "name": "python",
      "nbconvert_exporter": "python",
      "pygments_lexer": "ipython3",
      "version": "3.10.5"
    },
    "nteract": {
      "version": "nteract-front-end@1.0.0"
    }
  },
  "nbformat": 4,
  "nbformat_minor": 1
},
{
  "cells": [
    {
      "cell_type": "markdown",
      "metadata": {},
      "source": [
        "# What is a neural network\n",
        "\n",
        "Neural network is a collection of neurons that are connected by layers. Each neuron is a small\n",
        "computing unit that performs simple calculations to collectively solve a problem. They are \n",
        "organized in layers. There are 3 types of layers: input layer, hidden layer and \n",
        "outter layer.  Each layer contains a number of neurons, except for the input layer. Neural networks mimic the way a human brain processes information.\n",
        "\n",
        "<img alt=\"Diagram showing different types of layers in a neural network\" src=\"images/4-model-1.png\" />"
      ]
    },
    {
      "cell_type": "markdown",
      "metadata": {},
      "source": [
        "## Components of a neural network\n",
        "\n",
        "- **Activation function** determines whether a neuron should be activated or not. The computations that happen in a neural network include applying an activation function. If a neuron activates, then it means the input is important.  The are different kinds of activation functions. The choice of which activation function to use depends on what you want the output to be. Another important role of an activation function is to add non-linearity to the model.\n",
        "    - _Binary_ used to set an output node to 1 if function result is positive and 0 if the function result is negative. $f(x)= {\\small \\begin{cases} 0, & \\text{if } x < 0\\\\ 1, & \\text{if } x\\geq 0\\\\ \\end{cases}}$\n",
        "    - _Sigmod_ is used to predict the probability of an output node being between 0 and 1.  $f(x) = {\\large \\frac{1}{1+e^{-x}}} $\n",
        "    - _Tanh_ is used to predict if an output node is between 1 and -1.  Used in classification use cases.  $f(x) = {\\large \\frac{e^{x} - e^{-x}}{e^{x} + e^{-x}}} $\n",
        "    - _ReLU_ used to set the output node to 0 if fuction result is negative and keeps the result value if the result is a positive value.  $f(x)= {\\small \\begin{cases} 0, & \\text{if } x < 0\\\\ x, & \\text{if } x\\geq 0\\\\ \\end{cases}}$\n",
        "- **Weights** influence how well the output of our network will come close to the expected output value. As an input enters the neuron, it gets multiplied by a weight value and the resulting output is either observed, or passed to the next layer in the neural network. Weights for all neurons in a layer are organized into one tensor\n",
        "- **Bias** makes up the difference between the activation function's output and its intended output. A low bias suggest that the network is making more assumptions about the form of the output, whereas a high bias value makes less assumptions about the form of the output. \n",
        "\n",
        "<img alt=\"Diagram showing neural computation\" src=\"images/4-model-2.png\" />\n",
        "\n",
        "We can say that an output $y$ of a neural network layer with weights $W$ and bias $b$ is computed as summation of the inputs multiply by the weights plus the bias $x = \\sum{(weights * inputs) + bias} $, where $f(x)$ is the activation function."
      ]
    },
    {
      "cell_type": "markdown",
      "metadata": {},
      "source": [
        "# Build a neural network\n",
        "\n",
        "Neural networks are comprised of layers/modules that perform operations on data. \n",
        "The `torch.nn` namespace provides all the building blocks you need to \n",
        "build your own neural network. Every module in PyTorch subclasses the `nn.Module`. \n",
        "A neural network is a module itself that consists of other modules (layers). This nested structure allows for\n",
        "building and managing complex architectures easily.\n",
        "\n",
        "In the following sections, we'll build a neural network to classify images in the FashionMNIST dataset."
      ]
    },
    {
      "cell_type": "code",
      "execution_count": 1,
      "metadata": {},
      "outputs": [],
      "source": [
        "%matplotlib inline\n",
        "import os\n",
        "import torch\n",
        "from torch import nn\n",
        "from torch.utils.data import DataLoader\n",
        "from torchvision import datasets, transforms"
      ]
    },
    {
      "cell_type": "markdown",
      "metadata": {},
      "source": [
        "## Get a hardware device for training\n",
        "\n",
        "We want to be able to train our model on a hardware accelerator like the GPU, if it is available. Let's check to see if \n",
        "`torch.cuda` is available, else we continue to use the CPU."
      ]
    },
    {
      "cell_type": "code",
      "execution_count": 2,
      "metadata": {},
      "outputs": [
        {
          "name": "stdout",
          "output_type": "stream",
          "text": [
            "Using cpu device\n"
          ]
        }
      ],
      "source": [
        "device = 'cuda' if torch.cuda.is_available() else 'cpu'\n",
        "print('Using {} device'.format(device))"
      ]
    },
    {
      "cell_type": "markdown",
      "metadata": {},
      "source": [
        "## Define the class\n",
        "\n",
        "We define our neural network by subclassing `nn.Module`, and \n",
        "initialize the neural network layers in `__init__`. Every `nn.Module` subclass implements\n",
        "the operations on input data in the `forward` method.\n",
        "\n",
        "Our neural network are composed of the following:\n",
        "- The input layer with 28x28 or 784 features/pixels.\n",
        "- The first linear module takes the input 784 features and transforms it to a hidden layer with 512 features\n",
        "- The ReLU activation function will be applied in the transformation\n",
        "- The second linear module take 512 features as input from the first hidden layer and transforms it to the next hidden layer with 512 features\n",
        "- The ReLU activation function will be applied in the transformation\n",
        "- The third linear module take 512 features as input from the second hidden layer and transforms it to the output layer with 10, which is the number of classes\n",
        "- The ReLU activation function will be applied in the transformation"
      ]
    },
    {
      "cell_type": "code",
      "execution_count": 3,
      "metadata": {},
      "outputs": [],
      "source": [
        "class NeuralNetwork(nn.Module):\n",
        "    def __init__(self):\n",
        "        super(NeuralNetwork, self).__init__()\n",
        "        self.flatten = nn.Flatten()\n",
        "        self.linear_relu_stack = nn.Sequential(\n",
        "            nn.Linear(28*28, 512),\n",
        "            nn.ReLU(),\n",
        "            nn.Linear(512, 512),\n",
        "            nn.ReLU(),\n",
        "            nn.Linear(512, 10),\n",
        "            nn.ReLU()\n",
        "        )\n",
        "\n",
        "    def forward(self, x):\n",
        "        x = self.flatten(x)\n",
        "        logits = self.linear_relu_stack(x)\n",
        "        return logits"
      ]
    },
    {
      "cell_type": "markdown",
      "metadata": {},
      "source": [
        "We create an instance of `NeuralNetwork`, and move it to the `device`, and print \n",
        "it's structure.\n",
        "\n"
      ]
    },
    {
      "cell_type": "code",
      "execution_count": 4,
      "metadata": {},
      "outputs": [
        {
          "name": "stdout",
          "output_type": "stream",
          "text": [
            "NeuralNetwork(\n",
            "  (flatten): Flatten(start_dim=1, end_dim=-1)\n",
            "  (linear_relu_stack): Sequential(\n",
            "    (0): Linear(in_features=784, out_features=512, bias=True)\n",
            "    (1): ReLU()\n",
            "    (2): Linear(in_features=512, out_features=512, bias=True)\n",
            "    (3): ReLU()\n",
            "    (4): Linear(in_features=512, out_features=10, bias=True)\n",
            "    (5): ReLU()\n",
            "  )\n",
            ")\n"
          ]
        }
      ],
      "source": [
        "model = NeuralNetwork().to(device)\n",
        "print(model)"
      ]
    },
    {
      "cell_type": "markdown",
      "metadata": {},
      "source": [
        "To use the model, we pass it the input data. This executes the model's `forward`, along with some background operations. However, do not call `model.forward()` directly! Calling the model on the input returns a 10-dimensional tensor with raw predicted values for each class.\n",
        "\n",
        "We get the prediction densities by passing it through an instance of the `nn.Softmax`."
      ]
    },
    {
      "cell_type": "code",
      "execution_count": 5,
      "metadata": {},
      "outputs": [
        {
          "name": "stdout",
          "output_type": "stream",
          "text": [
            "Predicted class: tensor([1])\n"
          ]
        }
      ],
      "source": [
        "X = torch.rand(1, 28, 28, device=device)\n",
        "logits = model(X) \n",
        "pred_probab = nn.Softmax(dim=1)(logits)\n",
        "y_pred = pred_probab.argmax(1)\n",
        "print(f\"Predicted class: {y_pred}\")"
      ]
    },
    {
      "cell_type": "markdown",
      "metadata": {},
      "source": [
        "## Weight and Bias\n",
        "\n",
        "\n",
        "The `nn.Linear` module randomly initializes the ${weights}$  and ${ bias}$ for each layer and internally stores the values in Tensors."
      ]
    },
    {
      "cell_type": "code",
      "execution_count": 6,
      "metadata": {},
      "outputs": [
        {
          "name": "stdout",
          "output_type": "stream",
          "text": [
            "First Linear weights: Parameter containing:\n",
            "tensor([[ 0.0283,  0.0026,  0.0150,  ...,  0.0352, -0.0078, -0.0264],\n",
            "        [ 0.0192,  0.0068,  0.0256,  ..., -0.0132, -0.0199,  0.0264],\n",
            "        [ 0.0248,  0.0091, -0.0128,  ...,  0.0214, -0.0174,  0.0050],\n",
            "        ...,\n",
            "        [ 0.0219,  0.0243,  0.0170,  ..., -0.0062,  0.0278, -0.0343],\n",
            "        [ 0.0238, -0.0087,  0.0356,  ..., -0.0253,  0.0090,  0.0165],\n",
            "        [-0.0314,  0.0055,  0.0002,  ...,  0.0287, -0.0043, -0.0157]],\n",
            "       requires_grad=True) \n",
            "\n",
            "First Linear weights: Parameter containing:\n",
            "tensor([ 0.0048, -0.0017, -0.0189,  0.0256, -0.0211, -0.0018,  0.0225,  0.0233,\n",
            "        -0.0295, -0.0276,  0.0328, -0.0168, -0.0103,  0.0006,  0.0088,  0.0271,\n",
            "        -0.0356,  0.0144, -0.0261,  0.0040, -0.0322, -0.0287, -0.0229,  0.0341,\n",
            "         0.0337,  0.0143,  0.0114, -0.0160, -0.0078,  0.0231,  0.0336, -0.0250,\n",
            "         0.0202, -0.0349,  0.0356,  0.0318, -0.0308,  0.0045, -0.0259, -0.0161,\n",
            "        -0.0258,  0.0030, -0.0295, -0.0146,  0.0222, -0.0257, -0.0081,  0.0249,\n",
            "         0.0250, -0.0031,  0.0222, -0.0328,  0.0053,  0.0271,  0.0010, -0.0243,\n",
            "         0.0303, -0.0278,  0.0043, -0.0074, -0.0106, -0.0061,  0.0073, -0.0071,\n",
            "         0.0174, -0.0230,  0.0301, -0.0132,  0.0151,  0.0241, -0.0177, -0.0215,\n",
            "        -0.0047, -0.0060, -0.0183,  0.0224,  0.0311, -0.0201,  0.0337, -0.0245,\n",
            "         0.0253, -0.0007,  0.0100, -0.0295, -0.0108, -0.0311, -0.0049, -0.0038,\n",
            "        -0.0234,  0.0182, -0.0256,  0.0151, -0.0255, -0.0015,  0.0070, -0.0074,\n",
            "         0.0299, -0.0087, -0.0338, -0.0255, -0.0271,  0.0113,  0.0005, -0.0259,\n",
            "         0.0162, -0.0163, -0.0042, -0.0143, -0.0048,  0.0114,  0.0206,  0.0319,\n",
            "         0.0125,  0.0281,  0.0078, -0.0115, -0.0120,  0.0014, -0.0074,  0.0132,\n",
            "        -0.0172,  0.0135,  0.0104,  0.0087, -0.0354, -0.0007,  0.0069, -0.0152,\n",
            "        -0.0189, -0.0064,  0.0101, -0.0346,  0.0341,  0.0134, -0.0078, -0.0336,\n",
            "        -0.0312,  0.0300,  0.0304,  0.0128, -0.0161,  0.0012, -0.0178, -0.0210,\n",
            "         0.0352,  0.0297, -0.0221, -0.0171, -0.0207, -0.0176,  0.0238,  0.0205,\n",
            "         0.0073,  0.0248, -0.0084, -0.0059, -0.0292,  0.0261, -0.0169,  0.0315,\n",
            "         0.0029, -0.0060, -0.0023, -0.0252,  0.0065, -0.0006,  0.0332, -0.0020,\n",
            "        -0.0208,  0.0025, -0.0038, -0.0337, -0.0257,  0.0315,  0.0350,  0.0194,\n",
            "         0.0062, -0.0020,  0.0224,  0.0148, -0.0212,  0.0027, -0.0251,  0.0014,\n",
            "        -0.0185,  0.0280,  0.0298,  0.0343, -0.0083, -0.0153, -0.0114,  0.0276,\n",
            "        -0.0144,  0.0056, -0.0293, -0.0118,  0.0148,  0.0148,  0.0254,  0.0177,\n",
            "        -0.0083,  0.0242, -0.0070, -0.0334,  0.0011, -0.0216, -0.0222, -0.0352,\n",
            "        -0.0312,  0.0014,  0.0334, -0.0357, -0.0074,  0.0146, -0.0096,  0.0193,\n",
            "         0.0049,  0.0343,  0.0146,  0.0033,  0.0291,  0.0038,  0.0331, -0.0022,\n",
            "        -0.0113,  0.0352,  0.0322,  0.0195, -0.0018, -0.0297, -0.0039,  0.0301,\n",
            "        -0.0255,  0.0009, -0.0318,  0.0155, -0.0135, -0.0352,  0.0137,  0.0320,\n",
            "         0.0200,  0.0132, -0.0205, -0.0354,  0.0256, -0.0236,  0.0209,  0.0285,\n",
            "         0.0217, -0.0113,  0.0144,  0.0139,  0.0086, -0.0307,  0.0180,  0.0186,\n",
            "        -0.0305, -0.0183, -0.0153, -0.0137,  0.0122,  0.0115,  0.0031, -0.0030,\n",
            "         0.0141,  0.0080, -0.0123,  0.0019, -0.0135, -0.0225,  0.0272,  0.0318,\n",
            "         0.0083, -0.0145,  0.0205, -0.0327, -0.0132, -0.0134, -0.0079,  0.0105,\n",
            "        -0.0229,  0.0002, -0.0274, -0.0118, -0.0110,  0.0347, -0.0308, -0.0183,\n",
            "         0.0055, -0.0204, -0.0117,  0.0334, -0.0122,  0.0097, -0.0030,  0.0011,\n",
            "         0.0125, -0.0292, -0.0160, -0.0086,  0.0134,  0.0048, -0.0245, -0.0301,\n",
            "         0.0213,  0.0160, -0.0172,  0.0227,  0.0240, -0.0300, -0.0066, -0.0167,\n",
            "        -0.0182,  0.0029,  0.0158, -0.0319, -0.0156, -0.0088, -0.0143,  0.0051,\n",
            "        -0.0163, -0.0056, -0.0296, -0.0306,  0.0147,  0.0166,  0.0109,  0.0153,\n",
            "        -0.0072, -0.0182, -0.0127, -0.0269,  0.0354,  0.0137, -0.0006, -0.0079,\n",
            "        -0.0019,  0.0005, -0.0132,  0.0069, -0.0152, -0.0291,  0.0102, -0.0057,\n",
            "        -0.0242,  0.0184, -0.0127,  0.0169, -0.0212,  0.0202,  0.0050,  0.0278,\n",
            "        -0.0138,  0.0127,  0.0206,  0.0129, -0.0163,  0.0238, -0.0283, -0.0067,\n",
            "        -0.0172,  0.0179,  0.0200,  0.0269, -0.0007,  0.0051,  0.0353, -0.0062,\n",
            "         0.0091,  0.0303, -0.0203, -0.0204,  0.0088, -0.0277, -0.0021, -0.0159,\n",
            "        -0.0337,  0.0102,  0.0247,  0.0127,  0.0282,  0.0119, -0.0243,  0.0143,\n",
            "        -0.0111, -0.0227,  0.0031,  0.0124, -0.0054, -0.0128,  0.0096, -0.0308,\n",
            "        -0.0059,  0.0014,  0.0058, -0.0254,  0.0016, -0.0098, -0.0042,  0.0198,\n",
            "        -0.0327,  0.0194,  0.0124, -0.0077, -0.0356, -0.0314,  0.0033, -0.0147,\n",
            "        -0.0225, -0.0014,  0.0124,  0.0234, -0.0320, -0.0187, -0.0357,  0.0215,\n",
            "         0.0057, -0.0021,  0.0351,  0.0198,  0.0192, -0.0038, -0.0130, -0.0329,\n",
            "         0.0055, -0.0272, -0.0108, -0.0165, -0.0216, -0.0113, -0.0353,  0.0058,\n",
            "         0.0254,  0.0038,  0.0312,  0.0173,  0.0040,  0.0308,  0.0346, -0.0258,\n",
            "        -0.0333,  0.0092, -0.0242, -0.0027, -0.0167,  0.0071, -0.0117, -0.0204,\n",
            "        -0.0156,  0.0059,  0.0112,  0.0283,  0.0213,  0.0137,  0.0014,  0.0303,\n",
            "         0.0268, -0.0336,  0.0316, -0.0333, -0.0068,  0.0252, -0.0288,  0.0014,\n",
            "        -0.0085, -0.0352, -0.0101, -0.0171,  0.0097,  0.0197,  0.0319,  0.0302,\n",
            "         0.0020,  0.0197,  0.0118,  0.0048, -0.0024,  0.0037, -0.0320, -0.0042,\n",
            "         0.0350,  0.0102, -0.0263, -0.0132, -0.0326, -0.0271,  0.0135, -0.0128,\n",
            "        -0.0355,  0.0273,  0.0028,  0.0065, -0.0110,  0.0213,  0.0288, -0.0244,\n",
            "        -0.0085, -0.0155, -0.0159,  0.0077, -0.0187, -0.0299, -0.0112,  0.0145,\n",
            "         0.0238, -0.0273, -0.0344, -0.0352,  0.0302,  0.0137,  0.0347, -0.0200],\n",
            "       requires_grad=True) \n",
            "\n"
          ]
        }
      ],
      "source": [
        "print(f\"First Linear weights: {model.linear_relu_stack[0].weight} \\n\")\n",
        "\n",
        "print(f\"First Linear weights: {model.linear_relu_stack[0].bias} \\n\")"
      ]
    },
    {
      "cell_type": "markdown",
      "metadata": {},
      "source": [
        "## Model layers\n",
        "\n",
        "Let's break down the layers in the FashionMNIST model. To illustrate it, we \n",
        "will take a sample minibatch of 3 images of size **28x28** and see what happens to it as \n",
        "we pass it through the network. "
      ]
    },
    {
      "cell_type": "code",
      "execution_count": 7,
      "metadata": {},
      "outputs": [
        {
          "name": "stdout",
          "output_type": "stream",
          "text": [
            "torch.Size([3, 28, 28])\n"
          ]
        }
      ],
      "source": [
        "input_image = torch.rand(3,28,28)\n",
        "print(input_image.size())"
      ]
    },
    {
      "cell_type": "markdown",
      "metadata": {},
      "source": [
        "### nn.Flatten\n",
        "\n",
        "We initialize the `nn.Flatten` layer to convert each 2D 28x28 image into a contiguous array of 784 pixel values (the minibatch dimension (at dim=0) is maintained). Each of the pixels are pass to the input layer of the neural network.  \n",
        "\n",
        "<img alt=\"Diagram showing how pixels in image are flatten\" src=\"images/4-model-3.png\" />"
      ]
    },
    {
      "cell_type": "code",
      "execution_count": 8,
      "metadata": {},
      "outputs": [
        {
          "name": "stdout",
          "output_type": "stream",
          "text": [
            "torch.Size([3, 784])\n"
          ]
        }
      ],
      "source": [
        "flatten = nn.Flatten()\n",
        "flat_image = flatten(input_image)\n",
        "print(flat_image.size())"
      ]
    },
    {
      "cell_type": "markdown",
      "metadata": {},
      "source": [
        "### nn.Linear \n",
        "\n",
        "The linear layer is a module that applies a linear transformation on the input using it's stored weights and biases.  The gayscale value of each pixel in the input layer will be connected to neurons in the hidden layer for calculation.    The calculation used for the transformation is ${{weight * input + bias}} $.\n"
      ]
    },
    {
      "cell_type": "code",
      "execution_count": 9,
      "metadata": {},
      "outputs": [
        {
          "name": "stdout",
          "output_type": "stream",
          "text": [
            "torch.Size([3, 20])\n"
          ]
        }
      ],
      "source": [
        "layer1 = nn.Linear(in_features=28*28, out_features=20)\n",
        "hidden1 = layer1(flat_image)\n",
        "print(hidden1.size())"
      ]
    },
    {
      "cell_type": "markdown",
      "metadata": {},
      "source": [
        "### nn.ReLU\n",
        "\n",
        "Non-linear activations are what create the complex mappings between the model's inputs and outputs.\n",
        "They are applied after linear transformations to introduce *nonlinearity*, helping neural networks\n",
        "learn a wide variety of phenomena. In this model, we use `nn.ReLU` between our linear layers, but there's other activations to introduce non-linearity in your model.\n",
        "\n",
        "The ReLU activation function takes the output from the linear layer calculation and replaces the negative values with zeros.\n",
        "\n",
        "Linear output: ${ x = {weight * input + bias}} $.  \n",
        "ReLU:  $f(x)= \n",
        "\\begin{cases}\n",
        "    0, & \\text{if } x < 0\\\\\n",
        "    x, & \\text{if } x\\geq 0\\\\\n",
        "\\end{cases}\n",
        "$"
      ]
    },
    {
      "cell_type": "code",
      "execution_count": 10,
      "metadata": {
        "scrolled": true
      },
      "outputs": [
        {
          "name": "stdout",
          "output_type": "stream",
          "text": [
            "Before ReLU: tensor([[-0.3130,  0.9740, -0.4388,  0.1567,  0.2359,  0.1961,  0.0780, -0.2116,\n",
            "          0.2091,  0.0021,  0.2114, -0.2044,  0.1927,  0.3814,  0.1998, -0.0367,\n",
            "          0.7744,  0.1327, -0.0716, -0.6532],\n",
            "        [-0.2053,  1.0682, -0.1691,  0.0571,  0.4302,  0.4471,  0.4964, -0.1162,\n",
            "          0.0605, -0.1631,  0.2194,  0.2321, -0.1137,  0.2531,  0.2999, -0.2432,\n",
            "          0.9869, -0.2212,  0.1267, -0.6295],\n",
            "        [-0.2057,  0.5655, -0.4414,  0.5173,  0.5636,  0.1193,  0.0322, -0.5382,\n",
            "          0.3036, -0.1755,  0.3640,  0.3715, -0.2150,  0.0510,  0.2179,  0.2474,\n",
            "          0.4226, -0.3208,  0.2142, -0.2690]], grad_fn=<AddmmBackward0>)\n",
            "\n",
            "\n",
            "After ReLU: tensor([[0.0000, 0.9740, 0.0000, 0.1567, 0.2359, 0.1961, 0.0780, 0.0000, 0.2091,\n",
            "         0.0021, 0.2114, 0.0000, 0.1927, 0.3814, 0.1998, 0.0000, 0.7744, 0.1327,\n",
            "         0.0000, 0.0000],\n",
            "        [0.0000, 1.0682, 0.0000, 0.0571, 0.4302, 0.4471, 0.4964, 0.0000, 0.0605,\n",
            "         0.0000, 0.2194, 0.2321, 0.0000, 0.2531, 0.2999, 0.0000, 0.9869, 0.0000,\n",
            "         0.1267, 0.0000],\n",
            "        [0.0000, 0.5655, 0.0000, 0.5173, 0.5636, 0.1193, 0.0322, 0.0000, 0.3036,\n",
            "         0.0000, 0.3640, 0.3715, 0.0000, 0.0510, 0.2179, 0.2474, 0.4226, 0.0000,\n",
            "         0.2142, 0.0000]], grad_fn=<ReluBackward0>)\n"
          ]
        }
      ],
      "source": [
        "print(f\"Before ReLU: {hidden1}\\n\\n\")\n",
        "hidden1 = nn.ReLU()(hidden1)\n",
        "print(f\"After ReLU: {hidden1}\")"
      ]
    },
    {
      "cell_type": "markdown",
      "metadata": {},
      "source": [
        "### nn.Sequential\n",
        "\n",
        "`nn.Sequential` is an ordered \n",
        "container of modules. The data is passed through all the modules in the same order as defined. You can use\n",
        "sequential containers to put together a quick network like `seq_modules`."
      ]
    },
    {
      "cell_type": "code",
      "execution_count": 11,
      "metadata": {},
      "outputs": [],
      "source": [
        "seq_modules = nn.Sequential(\n",
        "    flatten,\n",
        "    layer1,\n",
        "    nn.ReLU(),\n",
        "    nn.Linear(20, 10)\n",
        ")\n",
        "input_image = torch.rand(3,28,28)\n",
        "logits = seq_modules(input_image)"
      ]
    },
    {
      "cell_type": "markdown",
      "metadata": {},
      "source": [
        "### nn.Softmax\n",
        "\n",
        "The last linear layer of the neural network returns `logits` - raw values in \\[`-infty`, `infty`], which are passed to the\n",
        "`nn.Softmax` module. The Softmax activation function is used to calculate the probability of the output from the neural network.  It is only used on the output layer of a neural network.  The results are scaled to values \\[0, 1\\] representing the model's predicted densities for each class. `dim` parameter indicates the dimension along which the result values must sum to 1.  The node with the highest probability predicts the desired output.\n",
        "\n",
        "<img alt=\"Diagram shows softmax formula\" src=\"images/4-model-4.png\" />"
      ]
    },
    {
      "cell_type": "code",
      "execution_count": 12,
      "metadata": {},
      "outputs": [],
      "source": [
        "softmax = nn.Softmax(dim=1)\n",
        "pred_probab = softmax(logits)"
      ]
    },
    {
      "cell_type": "markdown",
      "metadata": {},
      "source": [
        "## Model parameters\n",
        "\n",
        "Many layers inside a neural network are *parameterized*, i.e. have associated weights \n",
        "and biases that are optimized during training. Subclassing `nn.Module` automatically \n",
        "tracks all fields defined inside your model object, and makes all parameters \n",
        "accessible using your model's `parameters()` or `named_parameters()` methods.\n",
        "\n",
        "In this example, we iterate over each parameter, and print its size and a preview of its values.\n"
      ]
    },
    {
      "cell_type": "code",
      "execution_count": 13,
      "metadata": {
        "scrolled": true
      },
      "outputs": [
        {
          "name": "stdout",
          "output_type": "stream",
          "text": [
            "Model structure:  NeuralNetwork(\n",
            "  (flatten): Flatten(start_dim=1, end_dim=-1)\n",
            "  (linear_relu_stack): Sequential(\n",
            "    (0): Linear(in_features=784, out_features=512, bias=True)\n",
            "    (1): ReLU()\n",
            "    (2): Linear(in_features=512, out_features=512, bias=True)\n",
            "    (3): ReLU()\n",
            "    (4): Linear(in_features=512, out_features=10, bias=True)\n",
            "    (5): ReLU()\n",
            "  )\n",
            ") \n",
            "\n",
            "\n",
            "Layer: linear_relu_stack.0.weight | Size: torch.Size([512, 784]) | Values : tensor([[ 0.0283,  0.0026,  0.0150,  ...,  0.0352, -0.0078, -0.0264],\n",
            "        [ 0.0192,  0.0068,  0.0256,  ..., -0.0132, -0.0199,  0.0264]],\n",
            "       grad_fn=<SliceBackward0>) \n",
            "\n",
            "Layer: linear_relu_stack.0.bias | Size: torch.Size([512]) | Values : tensor([ 0.0048, -0.0017], grad_fn=<SliceBackward0>) \n",
            "\n",
            "Layer: linear_relu_stack.2.weight | Size: torch.Size([512, 512]) | Values : tensor([[ 0.0324,  0.0087,  0.0162,  ...,  0.0397,  0.0193,  0.0253],\n",
            "        [ 0.0195,  0.0359,  0.0308,  ..., -0.0249,  0.0203,  0.0363]],\n",
            "       grad_fn=<SliceBackward0>) \n",
            "\n",
            "Layer: linear_relu_stack.2.bias | Size: torch.Size([512]) | Values : tensor([-0.0164, -0.0059], grad_fn=<SliceBackward0>) \n",
            "\n",
            "Layer: linear_relu_stack.4.weight | Size: torch.Size([10, 512]) | Values : tensor([[-0.0082,  0.0435, -0.0441,  ..., -0.0078, -0.0239, -0.0341],\n",
            "        [-0.0362, -0.0056,  0.0290,  ...,  0.0293,  0.0352,  0.0367]],\n",
            "       grad_fn=<SliceBackward0>) \n",
            "\n",
            "Layer: linear_relu_stack.4.bias | Size: torch.Size([10]) | Values : tensor([ 0.0107, -0.0249], grad_fn=<SliceBackward0>) \n",
            "\n"
          ]
        }
      ],
      "source": [
        "print(\"Model structure: \", model, \"\\n\\n\")\n",
        "\n",
        "for name, param in model.named_parameters():\n",
        "    print(f\"Layer: {name} | Size: {param.size()} | Values : {param[:2]} \\n\")"
      ]
    },
    {
      "cell_type": "markdown",
      "metadata": {},
      "source": [
        "--------------\n",
        "\n",
        "\n"
      ]
    }
  ],
  "metadata": {
    "interpreter": {
      "hash": "26de051ba29f2982a8de78e945f0abaf191376122a1563185a90213a26c5da77"
    },
    "kernelspec": {
      "display_name": "Python 3.10.4 64-bit",
      "language": "python",
      "name": "python3"
    },
    "language_info": {
      "codemirror_mode": {
        "name": "ipython",
        "version": 3
      },
      "file_extension": ".py",
      "mimetype": "text/x-python",
      "name": "python",
      "nbconvert_exporter": "python",
      "pygments_lexer": "ipython3",
      "version": "3.10.4"
    },
    "nteract": {
      "version": "nteract-front-end@1.0.0"
    }
  },
  "nbformat": 4,
  "nbformat_minor": 1
},
{
  "cells": [
    {
      "cell_type": "markdown",
      "metadata": {},
      "source": [
        "## Automatic differentiation with ``torch.autograd``\n",
        "\n",
        "When training neural networks, the most frequently used algorithm is\n",
        "**back propagation**. In this algorithm, parameters (model weights) are\n",
        "adjusted according to the **gradient** of the loss function with respect\n",
        "to the given parameter.  The loss function calulates the difference between the expected output and the actual output that a neural network produces.  The goal is to get the result of the loss function as close to zero as possible.  The algorithm traverse backwards through the network network to adjust the weights and bias to retrain the model. That's why it's called back propagation. This back and forward process of retraining the model over time to reduce the loss to 0 is called the gradient descent.\n",
        "\n",
        "To compute those gradients, PyTorch has a built-in differentiation engine\n",
        "called `torch.autograd`. It supports automatic computation of gradient for any\n",
        "computational graph.\n",
        "\n",
        "Consider the simplest one-layer neural network, with input `x`,\n",
        "parameters `w` and `b`, and some loss function. It can be defined in\n",
        "PyTorch in the following manner:"
      ]
    },
    {
      "cell_type": "code",
      "execution_count": 1,
      "metadata": {},
      "outputs": [],
      "source": [
        "%matplotlib inline\n",
        "import torch\n",
        "\n",
        "x = torch.ones(5)  # input tensor\n",
        "y = torch.zeros(3)  # expected output\n",
        "w = torch.randn(5, 3, requires_grad=True)\n",
        "b = torch.randn(3, requires_grad=True)\n",
        "z = torch.matmul(x, w)+b\n",
        "loss = torch.nn.functional.binary_cross_entropy_with_logits(z, y)"
      ]
    },
    {
      "cell_type": "markdown",
      "metadata": {},
      "source": [
        "## Tensors, Functions and Computational graph\n",
        "\n",
        "This code defines the following **computational graph**:\n",
        "\n",
        "<img alt=\"Diagram showing a computational graph with two parameters 'w' and 'b' to compute the gradients of loss.\" src=\"images/5-autograd-1.png\" />\n",
        "\n",
        "In this network, `w` and `b` are **parameters**, which we need to\n",
        "optimize. Thus, we need to be able to compute the gradients of loss\n",
        "function with respect to those variables. In order to do that, we set\n",
        "the `requires_grad` property of those tensors.\n",
        "\n",
        "> **Note:** You can set the value of `requires_grad` when creating a tensor, or later by using `x.requires_grad_(True)` method.\n",
        "\n",
        "A function that we apply to tensors to construct computational graph is\n",
        "in fact an object of class `Function`. This object knows how to\n",
        "compute the function in the *forward* direction, and also how to compute\n",
        "its derivative during the *backward propagation* step. A reference to\n",
        "the backward propagation function is stored in `grad_fn` property of a\n",
        "tensor. "
      ]
    },
    {
      "cell_type": "code",
      "execution_count": 2,
      "metadata": {},
      "outputs": [
        {
          "name": "stdout",
          "output_type": "stream",
          "text": [
            "Gradient function for z = <AddBackward0 object at 0x000002C30F9C9C00>\n",
            "Gradient function for loss = <BinaryCrossEntropyWithLogitsBackward0 object at 0x000002C30F9C86A0>\n"
          ]
        }
      ],
      "source": [
        "print('Gradient function for z =',z.grad_fn)\n",
        "print('Gradient function for loss =', loss.grad_fn)"
      ]
    },
    {
      "cell_type": "markdown",
      "metadata": {},
      "source": [
        "## Computing gradients\n",
        "\n",
        "To optimize weights of parameters in the neural network, we need to\n",
        "compute the derivatives of our loss function with respect to parameters,\n",
        "namely, we need $\\frac{\\partial loss}{\\partial w}$ and\n",
        "$\\frac{\\partial loss}{\\partial b}$ under some fixed values of\n",
        "`x` and `y`. To compute those derivatives, we call\n",
        "`loss.backward()`, and then retrieve the values from `w.grad` and\n",
        "`b.grad`:"
      ]
    },
    {
      "cell_type": "code",
      "execution_count": 3,
      "metadata": {},
      "outputs": [
        {
          "name": "stdout",
          "output_type": "stream",
          "text": [
            "tensor([[0.3068, 0.1766, 0.3211],\n",
            "        [0.3068, 0.1766, 0.3211],\n",
            "        [0.3068, 0.1766, 0.3211],\n",
            "        [0.3068, 0.1766, 0.3211],\n",
            "        [0.3068, 0.1766, 0.3211]])\n",
            "tensor([0.3068, 0.1766, 0.3211])\n"
          ]
        }
      ],
      "source": [
        "loss.backward()\n",
        "print(w.grad)\n",
        "print(b.grad)"
      ]
    },
    {
      "cell_type": "markdown",
      "metadata": {},
      "source": [
        "> **Note:** We can only obtain the `grad` properties for the leaf nodes of the computational graph, which have `requires_grad` property set to ``True``. For all other nodes in our graph, gradients will not be available. In addition, we can only perform gradient calculations using ``backward`` once on a given graph, for performance reasons. If we need to do several ``backward`` calls on the same graph, we need to pass ``retain_graph=True`` to the ``backward`` call.\n",
        "\n",
        "## Disabling gradient tracking\n",
        "\n",
        "By default, all tensors with `requires_grad=True` are tracking their\n",
        "computational history and support gradient computation. However, there\n",
        "are some cases when we do not need to do that, for example, when we have\n",
        "trained the model and just want to apply it to some input data, i.e. we\n",
        "only want to do *forward* computations through the network. We can stop\n",
        "tracking computations by surrounding our computation code with\n",
        "`torch.no_grad()` block:"
      ]
    },
    {
      "cell_type": "code",
      "execution_count": 4,
      "metadata": {},
      "outputs": [
        {
          "name": "stdout",
          "output_type": "stream",
          "text": [
            "True\n",
            "False\n"
          ]
        }
      ],
      "source": [
        "z = torch.matmul(x, w)+b\n",
        "print(z.requires_grad)\n",
        "\n",
        "with torch.no_grad():\n",
        "    z = torch.matmul(x, w)+b\n",
        "print(z.requires_grad)"
      ]
    },
    {
      "cell_type": "markdown",
      "metadata": {},
      "source": [
        "Another way to achieve the same result is to use the ``detach()`` method\n",
        "on the tensor:\n",
        "\n",
        "\n"
      ]
    },
    {
      "cell_type": "code",
      "execution_count": 5,
      "metadata": {},
      "outputs": [
        {
          "name": "stdout",
          "output_type": "stream",
          "text": [
            "False\n"
          ]
        }
      ],
      "source": [
        "z = torch.matmul(x, w)+b\n",
        "z_det = z.detach()\n",
        "print(z_det.requires_grad)"
      ]
    },
    {
      "cell_type": "markdown",
      "metadata": {},
      "source": [
        "There are reasons you might want to disable gradient tracking:\n",
        "  - To mark some parameters in your neural network at **frozen parameters**. This is\n",
        "    a very common scenario for fine tuning a pre-trained network.\n",
        "  - To **speed up computations** when you are only doing forward pass, because computations on tensors that do\n",
        "    not track gradients would be more efficient.\n",
        "\n"
      ]
    },
    {
      "cell_type": "markdown",
      "metadata": {},
      "source": [
        "More on Computational Graphs\n",
        "----------------------------\n",
        "Conceptually, autograd keeps a record of data (tensors) and all executed\n",
        "operations (along with the resulting new tensors) in a directed acyclic\n",
        "graph (DAG) consisting of\n",
        "[Function](https://pytorch.org/docs/stable/autograd.html#torch.autograd.Function)\n",
        "objects. In this DAG, leaves are the input tensors, roots are the output\n",
        "tensors. By tracing this graph from roots to leaves, you can\n",
        "automatically compute the gradients using the chain rule.\n",
        "\n",
        "In a forward pass, autograd does two things simultaneously:\n",
        "\n",
        "- run the requested operation to compute a resulting tensor\n",
        "- maintain the operation’s *gradient function* in the DAG.\n",
        "\n",
        "The backward pass kicks off when `.backward()` is called on the DAG\n",
        "root. `autograd` then:\n",
        "\n",
        "- computes the gradients from each `.grad_fn`,\n",
        "- accumulates them in the respective tensor’s `.grad` attribute\n",
        "- using the chain rule, propagates all the way to the leaf tensors.\n",
        "\n",
        "**DAGs are dynamic in PyTorch**\n",
        "\n",
        "  An important thing to note is that the graph is recreated from scratch; after each\n",
        "  `.backward()` call, autograd starts populating a new graph. This is\n",
        "  exactly what allows you to use control flow statements in your model;\n",
        "  you can change the shape, size and operations at every iteration if\n",
        "  needed.\n",
        "\n"
      ]
    },
    {
      "cell_type": "markdown",
      "metadata": {},
      "source": [
        "## Optional reading: Tensor gradients and Jacobian products\n",
        "\n",
        "In many cases, we have a scalar loss function, and we need to compute\n",
        "the gradient with respect to some parameters. However, there are cases\n",
        "when the output function is an arbitrary tensor. In this case, PyTorch\n",
        "allows you to compute so-called **Jacobian product**, and not the actual\n",
        "gradient.\n",
        "\n",
        "For a vector function $\\vec{y}=f(\\vec{x})$, where\n",
        "$\\vec{x}=\\langle x_1,\\dots,x_n\\rangle$ and\n",
        "$\\vec{y}=\\langle y_1,\\dots,y_m\\rangle$, a gradient of\n",
        "$\\vec{y}$ with respect to $\\vec{x}$ is given by **Jacobian\n",
        "matrix**, whose element $J_{ij}$ contains $\\frac{\\partial y_{i}}{\\partial x_{j}}$.\n",
        "\n",
        "Instead of computing the Jacobian matrix itself, PyTorch allows you to\n",
        "compute **Jacobian Product** $v^T\\cdot J$ for a given input vector\n",
        "$v=(v_1 \\dots v_m)$. This is achieved by calling `backward` with\n",
        "$v$ as an argument. The size of $v$ should be the same as\n",
        "the size of the original tensor, with respect to which we want to\n",
        "compute the product:\n",
        "\n",
        "\n"
      ]
    },
    {
      "cell_type": "code",
      "execution_count": 6,
      "metadata": {},
      "outputs": [
        {
          "name": "stdout",
          "output_type": "stream",
          "text": [
            "First call\n",
            " tensor([[4., 2., 2., 2., 2.],\n",
            "        [2., 4., 2., 2., 2.],\n",
            "        [2., 2., 4., 2., 2.],\n",
            "        [2., 2., 2., 4., 2.],\n",
            "        [2., 2., 2., 2., 4.]])\n",
            "\n",
            "Second call\n",
            " tensor([[8., 4., 4., 4., 4.],\n",
            "        [4., 8., 4., 4., 4.],\n",
            "        [4., 4., 8., 4., 4.],\n",
            "        [4., 4., 4., 8., 4.],\n",
            "        [4., 4., 4., 4., 8.]])\n",
            "\n",
            "Call after zeroing gradients\n",
            " tensor([[4., 2., 2., 2., 2.],\n",
            "        [2., 4., 2., 2., 2.],\n",
            "        [2., 2., 4., 2., 2.],\n",
            "        [2., 2., 2., 4., 2.],\n",
            "        [2., 2., 2., 2., 4.]])\n"
          ]
        }
      ],
      "source": [
        "inp = torch.eye(5, requires_grad=True)\n",
        "out = (inp+1).pow(2)\n",
        "out.backward(torch.ones_like(inp), retain_graph=True)\n",
        "print(\"First call\\n\", inp.grad)\n",
        "out.backward(torch.ones_like(inp), retain_graph=True)\n",
        "print(\"\\nSecond call\\n\", inp.grad)\n",
        "inp.grad.zero_()\n",
        "out.backward(torch.ones_like(inp), retain_graph=True)\n",
        "print(\"\\nCall after zeroing gradients\\n\", inp.grad)"
      ]
    },
    {
      "cell_type": "markdown",
      "metadata": {},
      "source": [
        "Notice that when we call `backward` for the second time with the same\n",
        "argument, the value of the gradient is different. This happens because\n",
        "when doing `backward` propagation, PyTorch **accumulates the\n",
        "gradients**, i.e. the value of computed gradients is added to the\n",
        "`grad` property of all leaf nodes of computational graph. If you want\n",
        "to compute the proper gradients, you need to zero out the `grad`\n",
        "property before. In real-life training an *optimizer* helps us to do\n",
        "this.\n",
        "\n"
      ]
    },
    {
      "cell_type": "markdown",
      "metadata": {},
      "source": [
        "> **Note:** previously we were calling `backward()` function without parameters. This is equivalent to calling `backward(torch.tensor(1.0))`, which is a useful way to compute the gradients in case of a scalar-valued function, such as loss during neural network training.\n",
        "\n"
      ]
    },
    {
      "cell_type": "markdown",
      "metadata": {},
      "source": [
        "--------------\n",
        "\n",
        "\n"
      ]
    }
  ],
  "metadata": {
    "interpreter": {
      "hash": "26de051ba29f2982a8de78e945f0abaf191376122a1563185a90213a26c5da77"
    },
    "kernelspec": {
      "display_name": "Python 3.10.4 64-bit",
      "language": "python",
      "name": "python3"
    },
    "language_info": {
      "codemirror_mode": {
        "name": "ipython",
        "version": 3
      },
      "file_extension": ".py",
      "mimetype": "text/x-python",
      "name": "python",
      "nbconvert_exporter": "python",
      "pygments_lexer": "ipython3",
      "version": "3.10.4"
    },
    "nteract": {
      "version": "nteract-front-end@1.0.0"
    }
  },
  "nbformat": 4,
  "nbformat_minor": 1
},
{
  "cells": [
    {
      "cell_type": "markdown",
      "metadata": {},
      "source": [
        "# Optimizing the model parameters\n",
        "\n",
        "Now that we have a model and data it's time to train, validate and test our model by optimizing its parameters on our data. Training a model is an iterative process; in each iteration (called an *epoch*). The model makes a guess about the output, calculates the error in its guess (*loss*), collects the derivatives of the error with respect to its parameters (as we saw in the previous module), and **optimizes** these parameters using gradient descent. \n",
        "\n",
        "## Prerequisite code \n",
        "\n",
        "We will load the code from the previous modules on **Datasets & DataLoaders** and **Build Model**"
      ]
    },
    {
      "cell_type": "code",
      "execution_count": 2,
      "metadata": {},
      "outputs": [],
      "source": [
        "%matplotlib inline\n",
        "import torch\n",
        "from torch import nn\n",
        "from torch.utils.data import DataLoader\n",
        "from torchvision import datasets\n",
        "from torchvision.transforms import ToTensor, Lambda\n",
        "\n",
        "training_data = datasets.FashionMNIST(\n",
        "    root=\"data\",\n",
        "    train=True,\n",
        "    download=True,\n",
        "    transform=ToTensor()\n",
        ")\n",
        "\n",
        "test_data = datasets.FashionMNIST(\n",
        "    root=\"data\",\n",
        "    train=False,\n",
        "    download=True,\n",
        "    transform=ToTensor()\n",
        ")\n",
        "\n",
        "train_dataloader = DataLoader(training_data, batch_size=64)\n",
        "test_dataloader = DataLoader(test_data, batch_size=64)\n",
        "\n",
        "class NeuralNetwork(nn.Module):\n",
        "    def __init__(self):\n",
        "        super(NeuralNetwork, self).__init__()\n",
        "        self.flatten = nn.Flatten()\n",
        "        self.linear_relu_stack = nn.Sequential(\n",
        "            nn.Linear(28*28, 512),\n",
        "            nn.ReLU(),\n",
        "            nn.Linear(512, 512),\n",
        "            nn.ReLU(),\n",
        "            nn.Linear(512, 10),\n",
        "            nn.ReLU()\n",
        "        )\n",
        "\n",
        "    def forward(self, x):\n",
        "        x = self.flatten(x)\n",
        "        logits = self.linear_relu_stack(x)\n",
        "        return logits\n",
        "\n",
        "model = NeuralNetwork()"
      ]
    },
    {
      "cell_type": "markdown",
      "metadata": {},
      "source": [
        "## Setting hyperparameters \n",
        "\n",
        "Hyperparameters are adjustable parameters that let you control the model optimization process. \n",
        "Different hyperparameter values can impact model training and the level of accuracy.\n",
        "\n",
        "We define the following hyperparameters for training:\n",
        " - **Number of Epochs** - the number times the entire training dataset is pass through the network. \n",
        " - **Batch Size** - the number of data samples seen by the model in each epoch. Iterates are the number of batches needs to compete an epoch.\n",
        " - **Learning Rate** - the size of steps the model match as it searchs for best weights that will produce a higher model accuracy. Smaller values means the model will take a longer time to find the best weights, while larger values may result in the model step over and misses the best weights which yields unpredictable behavior during training."
      ]
    },
    {
      "cell_type": "code",
      "execution_count": 3,
      "metadata": {},
      "outputs": [],
      "source": [
        "learning_rate = 1e-3\n",
        "batch_size = 64\n",
        "epochs = 5"
      ]
    },
    {
      "cell_type": "markdown",
      "metadata": {},
      "source": [
        "## Add an optimization loop\n",
        "\n",
        "Once we set our hyperparameters, we can then train and optimize our model with an optimization loop. Each \n",
        "iteration of the optimization loop is called an **epoch**. \n",
        "\n",
        "Each epoch consists of two main parts:\n",
        " - **The Train Loop** - iterate over the training dataset and try to converge to optimal parameters.\n",
        " - **The Validation/Test Loop** - iterate over the test dataset to check if model performance is improving.\n",
        "\n",
        "Let's briefly familiarize ourselves with some of the concepts used in the training loop. Jump ahead to \n",
        "see the `full-impl-label` of the optimization loop.\n",
        "\n",
        "### Add a loss function\n",
        "\n",
        "When presented with some training data, our untrained network is likely not to give the correct \n",
        "answer. **Loss function** measures the degree of dissimilarity of obtained result to the target value, \n",
        "and it is the loss function that we want to minimize during training. To calculate the loss we make a \n",
        "prediction using the inputs of our given data sample and compare it against the true data label value.\n",
        "\n",
        "Common loss functions include:\n",
        "- `nn.MSELoss` (Mean Square Error) used for regression tasks\n",
        "- `nn.NLLLoss` (Negative Log Likelihood) used for classification\n",
        "- `nn.CrossEntropyLoss` combines `nn.LogSoftmax` and `nn.NLLLoss`\n",
        "\n",
        "We pass our model's output logits to `nn.CrossEntropyLoss`, which will normalize the logits and compute the prediction error."
      ]
    },
    {
      "cell_type": "code",
      "execution_count": 4,
      "metadata": {},
      "outputs": [],
      "source": [
        "# Initialize the loss function\n",
        "loss_fn = nn.CrossEntropyLoss()"
      ]
    },
    {
      "cell_type": "markdown",
      "metadata": {},
      "source": [
        "### Optimization pass\n",
        "\n",
        "Optimization is the process of adjusting model parameters to reduce model error in each training step. **Optimization algorithms** define how this process is performed (in this example we use Stochastic Gradient Descent).\n",
        "All optimization logic is encapsulated in  the ``optimizer`` object. Here, we use the SGD optimizer; additionally, there are many different optimizers\n",
        "available in PyTorch such as `ADAM' and 'RMSProp`, that work better for different kinds of models and data.\n",
        "\n",
        "We initialize the optimizer by registering the model's parameters that need to be trained, and passing in the learning rate hyperparameter.\n",
        "\n"
      ]
    },
    {
      "cell_type": "code",
      "execution_count": 5,
      "metadata": {},
      "outputs": [],
      "source": [
        "optimizer = torch.optim.SGD(model.parameters(), lr=learning_rate)"
      ]
    },
    {
      "cell_type": "markdown",
      "metadata": {},
      "source": [
        "Inside the training loop, optimization happens in three steps:\n",
        " * Call `optimizer.zero_grad()` to reset the gradients of model parameters. Gradients by default add up; to prevent double-counting, we explicitly zero them at each iteration.\n",
        " * Back-propagate the prediction loss with a call to `loss.backwards()`. PyTorch deposits the gradients of the loss w.r.t. each parameter. \n",
        " * Once we have our gradients, we call ``optimizer.step()`` to adjust the parameters by the gradients collected in the backward pass."
      ]
    },
    {
      "cell_type": "markdown",
      "metadata": {},
      "source": [
        "## Full implementation\n",
        "\n",
        "We define `train_loop` that loops over our optimization code, and `test_loop` that \n",
        "evaluates the model's performance against our test data."
      ]
    },
    {
      "cell_type": "code",
      "execution_count": 6,
      "metadata": {},
      "outputs": [],
      "source": [
        "def train_loop(dataloader, model, loss_fn, optimizer):\n",
        "    size = len(dataloader.dataset)\n",
        "    for batch, (X, y) in enumerate(dataloader):        \n",
        "        # Compute prediction and loss\n",
        "        pred = model(X)\n",
        "        loss = loss_fn(pred, y)\n",
        "        \n",
        "        # Backpropagation\n",
        "        optimizer.zero_grad()\n",
        "        loss.backward()\n",
        "        optimizer.step()\n",
        "\n",
        "        if batch % 100 == 0:\n",
        "            loss, current = loss.item(), batch * len(X)\n",
        "            print(f\"loss: {loss:>7f}  [{current:>5d}/{size:>5d}]\")\n",
        "\n",
        "\n",
        "def test_loop(dataloader, model, loss_fn):\n",
        "    size = len(dataloader.dataset)\n",
        "    test_loss, correct = 0, 0\n",
        "\n",
        "    with torch.no_grad():\n",
        "        for X, y in dataloader:\n",
        "            pred = model(X)\n",
        "            test_loss += loss_fn(pred, y).item()\n",
        "            correct += (pred.argmax(1) == y).type(torch.float).sum().item()\n",
        "            \n",
        "    test_loss /= size\n",
        "    correct /= size\n",
        "    print(f\"Test Error: \\n Accuracy: {(100*correct):>0.1f}%, Avg loss: {test_loss:>8f} \\n\")"
      ]
    },
    {
      "cell_type": "markdown",
      "metadata": {},
      "source": [
        "We initialize the loss function and optimizer, and pass it to `train_loop` and `test_loop`.\n",
        "Feel free to increase the number of epochs to track the model's improving performance."
      ]
    },
    {
      "cell_type": "code",
      "execution_count": 7,
      "metadata": {},
      "outputs": [
        {
          "name": "stdout",
          "output_type": "stream",
          "text": [
            "Epoch 1\n",
            "-------------------------------\n",
            "loss: 2.307260  [    0/60000]\n",
            "loss: 2.305284  [ 6400/60000]\n",
            "loss: 2.293966  [12800/60000]\n",
            "loss: 2.291592  [19200/60000]\n",
            "loss: 2.288022  [25600/60000]\n",
            "loss: 2.259277  [32000/60000]\n",
            "loss: 2.277950  [38400/60000]\n",
            "loss: 2.252569  [44800/60000]\n",
            "loss: 2.238333  [51200/60000]\n",
            "loss: 2.239141  [57600/60000]\n",
            "Test Error: \n",
            " Accuracy: 27.5%, Avg loss: 0.035050 \n",
            "\n",
            "Epoch 2\n",
            "-------------------------------\n",
            "loss: 2.222609  [    0/60000]\n",
            "loss: 2.244805  [ 6400/60000]\n",
            "loss: 2.209550  [12800/60000]\n",
            "loss: 2.227453  [19200/60000]\n",
            "loss: 2.217051  [25600/60000]\n",
            "loss: 2.162092  [32000/60000]\n",
            "loss: 2.206926  [38400/60000]\n",
            "loss: 2.151579  [44800/60000]\n",
            "loss: 2.117667  [51200/60000]\n",
            "loss: 2.143689  [57600/60000]\n",
            "Test Error: \n",
            " Accuracy: 38.9%, Avg loss: 0.033368 \n",
            "\n",
            "Epoch 3\n",
            "-------------------------------\n",
            "loss: 2.102783  [    0/60000]\n",
            "loss: 2.154025  [ 6400/60000]\n",
            "loss: 2.076486  [12800/60000]\n",
            "loss: 2.124048  [19200/60000]\n",
            "loss: 2.107713  [25600/60000]\n",
            "loss: 2.014179  [32000/60000]\n",
            "loss: 2.090220  [38400/60000]\n",
            "loss: 1.989485  [44800/60000]\n",
            "loss: 1.933911  [51200/60000]\n",
            "loss: 2.002917  [57600/60000]\n",
            "Test Error: \n",
            " Accuracy: 41.2%, Avg loss: 0.030885 \n",
            "\n",
            "Epoch 4\n",
            "-------------------------------\n",
            "loss: 1.926293  [    0/60000]\n",
            "loss: 2.019496  [ 6400/60000]\n",
            "loss: 1.888668  [12800/60000]\n",
            "loss: 1.987653  [19200/60000]\n",
            "loss: 1.968171  [25600/60000]\n",
            "loss: 1.838344  [32000/60000]\n",
            "loss: 1.951870  [38400/60000]\n",
            "loss: 1.808960  [44800/60000]\n",
            "loss: 1.749038  [51200/60000]\n",
            "loss: 1.868777  [57600/60000]\n",
            "Test Error: \n",
            " Accuracy: 44.4%, Avg loss: 0.028537 \n",
            "\n",
            "Epoch 5\n",
            "-------------------------------\n",
            "loss: 1.754023  [    0/60000]\n",
            "loss: 1.889865  [ 6400/60000]\n",
            "loss: 1.724985  [12800/60000]\n",
            "loss: 1.880932  [19200/60000]\n",
            "loss: 1.852289  [25600/60000]\n",
            "loss: 1.703095  [32000/60000]\n",
            "loss: 1.850078  [38400/60000]\n",
            "loss: 1.679640  [44800/60000]\n",
            "loss: 1.618462  [51200/60000]\n",
            "loss: 1.781099  [57600/60000]\n",
            "Test Error: \n",
            " Accuracy: 46.4%, Avg loss: 0.026904 \n",
            "\n",
            "Epoch 6\n",
            "-------------------------------\n",
            "loss: 1.629323  [    0/60000]\n",
            "loss: 1.794621  [ 6400/60000]\n",
            "loss: 1.609603  [12800/60000]\n",
            "loss: 1.806047  [19200/60000]\n",
            "loss: 1.771073  [25600/60000]\n",
            "loss: 1.610854  [32000/60000]\n",
            "loss: 1.782800  [38400/60000]\n",
            "loss: 1.593032  [44800/60000]\n",
            "loss: 1.530435  [51200/60000]\n",
            "loss: 1.721836  [57600/60000]\n",
            "Test Error: \n",
            " Accuracy: 47.5%, Avg loss: 0.025738 \n",
            "\n",
            "Epoch 7\n",
            "-------------------------------\n",
            "loss: 1.541017  [    0/60000]\n",
            "loss: 1.723998  [ 6400/60000]\n",
            "loss: 1.525540  [12800/60000]\n",
            "loss: 1.745950  [19200/60000]\n",
            "loss: 1.714844  [25600/60000]\n",
            "loss: 1.542636  [32000/60000]\n",
            "loss: 1.735072  [38400/60000]\n",
            "loss: 1.529822  [44800/60000]\n",
            "loss: 1.467118  [51200/60000]\n",
            "loss: 1.675812  [57600/60000]\n",
            "Test Error: \n",
            " Accuracy: 48.3%, Avg loss: 0.024844 \n",
            "\n",
            "Epoch 8\n",
            "-------------------------------\n",
            "loss: 1.474333  [    0/60000]\n",
            "loss: 1.669000  [ 6400/60000]\n",
            "loss: 1.460421  [12800/60000]\n",
            "loss: 1.694097  [19200/60000]\n",
            "loss: 1.674764  [25600/60000]\n",
            "loss: 1.487773  [32000/60000]\n",
            "loss: 1.699166  [38400/60000]\n",
            "loss: 1.481064  [44800/60000]\n",
            "loss: 1.419311  [51200/60000]\n",
            "loss: 1.638599  [57600/60000]\n",
            "Test Error: \n",
            " Accuracy: 48.7%, Avg loss: 0.024137 \n",
            "\n",
            "Epoch 9\n",
            "-------------------------------\n",
            "loss: 1.420322  [    0/60000]\n",
            "loss: 1.625176  [ 6400/60000]\n",
            "loss: 1.408073  [12800/60000]\n",
            "loss: 1.649715  [19200/60000]\n",
            "loss: 1.644693  [25600/60000]\n",
            "loss: 1.443653  [32000/60000]\n",
            "loss: 1.671596  [38400/60000]\n",
            "loss: 1.443777  [44800/60000]\n",
            "loss: 1.382555  [51200/60000]\n",
            "loss: 1.608089  [57600/60000]\n",
            "Test Error: \n",
            " Accuracy: 49.1%, Avg loss: 0.023570 \n",
            "\n",
            "Epoch 10\n",
            "-------------------------------\n",
            "loss: 1.375013  [    0/60000]\n",
            "loss: 1.588062  [ 6400/60000]\n",
            "loss: 1.364595  [12800/60000]\n",
            "loss: 1.612044  [19200/60000]\n",
            "loss: 1.621220  [25600/60000]\n",
            "loss: 1.407904  [32000/60000]\n",
            "loss: 1.649211  [38400/60000]\n",
            "loss: 1.415225  [44800/60000]\n",
            "loss: 1.353849  [51200/60000]\n",
            "loss: 1.582835  [57600/60000]\n",
            "Test Error: \n",
            " Accuracy: 49.5%, Avg loss: 0.023104 \n",
            "\n",
            "Done!\n"
          ]
        }
      ],
      "source": [
        "loss_fn = nn.CrossEntropyLoss()\n",
        "optimizer = torch.optim.SGD(model.parameters(), lr=learning_rate)\n",
        "\n",
        "epochs = 10\n",
        "for t in range(epochs):\n",
        "    print(f\"Epoch {t+1}\\n-------------------------------\")\n",
        "    train_loop(train_dataloader, model, loss_fn, optimizer)\n",
        "    test_loop(test_dataloader, model, loss_fn)\n",
        "print(\"Done!\")"
      ]
    },
    {
      "cell_type": "markdown",
      "metadata": {},
      "source": [
        "You may have noticed that the model is initially not very good (that's OK!). Try running the loop for more `epochs` or adjusting the `learning_rate` to a bigger number. It might also be the case that the model configuration we chose might not be the optimal one for this kind of problem (it isn't). Later courses will delve more into the model shapes that work for vision problems.\n"
      ]
    },
    {
      "cell_type": "markdown",
      "metadata": {},
      "source": [
        "Saving Models\n",
        "-------------\n",
        "\n",
        "When you are satisfied with the model's performance, you can use `torch.save` to save it. PyTorch models store the learned parameters in an internal state dictionary, called `state_dict`. These can be persisted wit the `torch.save` method:"
      ]
    },
    {
      "cell_type": "code",
      "execution_count": null,
      "metadata": {},
      "outputs": [],
      "source": [
        "torch.save(model.state_dict(), \"data/model.pth\")\n",
        "\n",
        "print(\"Saved PyTorch Model State to model.pth\")"
      ]
    }
  ],
  "metadata": {
    "interpreter": {
      "hash": "26de051ba29f2982a8de78e945f0abaf191376122a1563185a90213a26c5da77"
    },
    "kernelspec": {
      "display_name": "Python 3.10.4 64-bit",
      "language": "python",
      "name": "python3"
    },
    "language_info": {
      "codemirror_mode": {
        "name": "ipython",
        "version": 3
      },
      "file_extension": ".py",
      "mimetype": "text/x-python",
      "name": "python",
      "nbconvert_exporter": "python",
      "pygments_lexer": "ipython3",
      "version": "3.10.4"
    },
    "nteract": {
      "version": "nteract-front-end@1.0.0"
    }
  },
  "nbformat": 4,
  "nbformat_minor": 1
},
{
  "cells": [
    {
      "cell_type": "markdown",
      "metadata": {},
      "source": [
        "# Load the model\n",
        "\n",
        "In this unit we will look at how to load a model along with it's persisted parameter states and inference model predictions."
      ]
    },
    {
      "cell_type": "code",
      "execution_count": 3,
      "metadata": {},
      "outputs": [
        {
          "ename": "ModuleNotFoundError",
          "evalue": "No module named 'onnxruntime'",
          "output_type": "error",
          "traceback": [
            "\u001b[1;31m---------------------------------------------------------------------------\u001b[0m",
            "\u001b[1;31mModuleNotFoundError\u001b[0m                       Traceback (most recent call last)",
            "\u001b[1;32md:\\Repositories\\Python\\Learn\\Machine_learning_Pytorch\\7-inference.ipynb Cell 2'\u001b[0m in \u001b[0;36m<cell line: 3>\u001b[1;34m()\u001b[0m\n\u001b[0;32m      <a href='vscode-notebook-cell:/d%3A/Repositories/Python/Learn/Machine_learning_Pytorch/7-inference.ipynb#ch0000001?line=0'>1</a>\u001b[0m get_ipython()\u001b[39m.\u001b[39mrun_line_magic(\u001b[39m'\u001b[39m\u001b[39mmatplotlib\u001b[39m\u001b[39m'\u001b[39m, \u001b[39m'\u001b[39m\u001b[39minline\u001b[39m\u001b[39m'\u001b[39m)\n\u001b[0;32m      <a href='vscode-notebook-cell:/d%3A/Repositories/Python/Learn/Machine_learning_Pytorch/7-inference.ipynb#ch0000001?line=1'>2</a>\u001b[0m \u001b[39mimport\u001b[39;00m \u001b[39mtorch\u001b[39;00m\n\u001b[1;32m----> <a href='vscode-notebook-cell:/d%3A/Repositories/Python/Learn/Machine_learning_Pytorch/7-inference.ipynb#ch0000001?line=2'>3</a>\u001b[0m \u001b[39mimport\u001b[39;00m \u001b[39monnxruntime\u001b[39;00m\n\u001b[0;32m      <a href='vscode-notebook-cell:/d%3A/Repositories/Python/Learn/Machine_learning_Pytorch/7-inference.ipynb#ch0000001?line=3'>4</a>\u001b[0m \u001b[39mfrom\u001b[39;00m \u001b[39mtorch\u001b[39;00m \u001b[39mimport\u001b[39;00m nn\n\u001b[0;32m      <a href='vscode-notebook-cell:/d%3A/Repositories/Python/Learn/Machine_learning_Pytorch/7-inference.ipynb#ch0000001?line=4'>5</a>\u001b[0m \u001b[39mimport\u001b[39;00m \u001b[39mtorch\u001b[39;00m\u001b[39m.\u001b[39;00m\u001b[39monnx\u001b[39;00m \u001b[39mas\u001b[39;00m \u001b[39monnx\u001b[39;00m\n",
            "\u001b[1;31mModuleNotFoundError\u001b[0m: No module named 'onnxruntime'"
          ]
        }
      ],
      "source": [
        "%matplotlib inline\n",
        "import torch\n",
        "import onnxruntime\n",
        "from torch import nn\n",
        "import torch.onnx as onnx\n",
        "import torchvision.models as models\n",
        "from torchvision import datasets\n",
        "from torchvision.transforms import ToTensor"
      ]
    },
    {
      "cell_type": "markdown",
      "metadata": {},
      "source": [
        "To load the model, we will define the model class which contains the state and parameters of the neural network used to train the model."
      ]
    },
    {
      "cell_type": "code",
      "execution_count": 4,
      "metadata": {},
      "outputs": [
        {
          "ename": "NameError",
          "evalue": "name 'nn' is not defined",
          "output_type": "error",
          "traceback": [
            "\u001b[1;31m---------------------------------------------------------------------------\u001b[0m",
            "\u001b[1;31mNameError\u001b[0m                                 Traceback (most recent call last)",
            "\u001b[1;32md:\\Repositories\\Python\\Learn\\Machine_learning_Pytorch\\7-inference.ipynb Cell 4'\u001b[0m in \u001b[0;36m<cell line: 1>\u001b[1;34m()\u001b[0m\n\u001b[1;32m----> <a href='vscode-notebook-cell:/d%3A/Repositories/Python/Learn/Machine_learning_Pytorch/7-inference.ipynb#ch0000003?line=0'>1</a>\u001b[0m \u001b[39mclass\u001b[39;00m \u001b[39mNeuralNetwork\u001b[39;00m(nn\u001b[39m.\u001b[39mModule):\n\u001b[0;32m      <a href='vscode-notebook-cell:/d%3A/Repositories/Python/Learn/Machine_learning_Pytorch/7-inference.ipynb#ch0000003?line=1'>2</a>\u001b[0m     \u001b[39mdef\u001b[39;00m \u001b[39m__init__\u001b[39m(\u001b[39mself\u001b[39m):\n\u001b[0;32m      <a href='vscode-notebook-cell:/d%3A/Repositories/Python/Learn/Machine_learning_Pytorch/7-inference.ipynb#ch0000003?line=2'>3</a>\u001b[0m         \u001b[39msuper\u001b[39m(NeuralNetwork, \u001b[39mself\u001b[39m)\u001b[39m.\u001b[39m\u001b[39m__init__\u001b[39m()\n",
            "\u001b[1;31mNameError\u001b[0m: name 'nn' is not defined"
          ]
        }
      ],
      "source": [
        "class NeuralNetwork(nn.Module):\n",
        "    def __init__(self):\n",
        "        super(NeuralNetwork, self).__init__()\n",
        "        self.flatten = nn.Flatten()\n",
        "        self.linear_relu_stack = nn.Sequential(\n",
        "            nn.Linear(28*28, 512),\n",
        "            nn.ReLU(),\n",
        "            nn.Linear(512, 512),\n",
        "            nn.ReLU(),\n",
        "            nn.Linear(512, 10),\n",
        "            nn.ReLU()\n",
        "        )\n",
        "\n",
        "    def forward(self, x):\n",
        "        x = self.flatten(x)\n",
        "        logits = self.linear_relu_stack(x)\n",
        "        return logits"
      ]
    },
    {
      "cell_type": "markdown",
      "metadata": {},
      "source": [
        "When loading model weights, we needed to instantiate the model class first, because the class defines the structure of a network. Next, we load the parameters using the `load_state_dict()` method."
      ]
    },
    {
      "cell_type": "code",
      "execution_count": 5,
      "metadata": {},
      "outputs": [
        {
          "ename": "NameError",
          "evalue": "name 'NeuralNetwork' is not defined",
          "output_type": "error",
          "traceback": [
            "\u001b[1;31m---------------------------------------------------------------------------\u001b[0m",
            "\u001b[1;31mNameError\u001b[0m                                 Traceback (most recent call last)",
            "\u001b[1;32md:\\Repositories\\Python\\Learn\\Machine_learning_Pytorch\\7-inference.ipynb Cell 6'\u001b[0m in \u001b[0;36m<cell line: 1>\u001b[1;34m()\u001b[0m\n\u001b[1;32m----> <a href='vscode-notebook-cell:/d%3A/Repositories/Python/Learn/Machine_learning_Pytorch/7-inference.ipynb#ch0000005?line=0'>1</a>\u001b[0m model \u001b[39m=\u001b[39m NeuralNetwork()\n\u001b[0;32m      <a href='vscode-notebook-cell:/d%3A/Repositories/Python/Learn/Machine_learning_Pytorch/7-inference.ipynb#ch0000005?line=1'>2</a>\u001b[0m model\u001b[39m.\u001b[39mload_state_dict(torch\u001b[39m.\u001b[39mload(\u001b[39m'\u001b[39m\u001b[39mdata/model.pth\u001b[39m\u001b[39m'\u001b[39m))\n\u001b[0;32m      <a href='vscode-notebook-cell:/d%3A/Repositories/Python/Learn/Machine_learning_Pytorch/7-inference.ipynb#ch0000005?line=2'>3</a>\u001b[0m model\u001b[39m.\u001b[39meval()\n",
            "\u001b[1;31mNameError\u001b[0m: name 'NeuralNetwork' is not defined"
          ]
        }
      ],
      "source": [
        "model = NeuralNetwork()\n",
        "model.load_state_dict(torch.load('data/model.pth'))\n",
        "model.eval()"
      ]
    },
    {
      "cell_type": "markdown",
      "metadata": {},
      "source": [
        "> **Note:** Be sure to call `model.eval()` method before inferencing to set the dropout and batch normalization layers to evaluation mode. Failing to do this will yield inconsistent inference results.\n"
      ]
    },
    {
      "cell_type": "markdown",
      "metadata": {},
      "source": [
        "## Model Inference\n",
        "\n",
        "Optimizing a models to run on a variety of platforms and programming languages is difficult. It's very time consuming to maximize performance across all the different combinations of frameworks and hardware. The **Open Neural Network Exchange (ONNX)** runtime provides a solution for you to train once and acelerate inference on any hardward, cloud or edge devices is needed. \n",
        "\n",
        "ONNX  is a common format supported by a number of vendors to share neural networks and other machine learning models. You can use ONNX format to do inference on your model on other programming languages and frameworks such as Java, JavaScript, C# and ML.NET"
      ]
    },
    {
      "cell_type": "markdown",
      "metadata": {},
      "source": [
        "## Exporting the model to ONNX\n",
        "\n",
        "PyTorch also has native ONNX export support. Given the dynamic nature of the PyTorch execution graph, however, the export process must traverse the execution graph to produce a persisted ONNX model. For this reason, a test variable of the appropriate size should be passed in to the export routine (in our case, we will create a dummy zero tensor of the correct size.  You can get the size from the `shape` function on your training dataset. e.g tensor.shape):"
      ]
    },
    {
      "cell_type": "code",
      "execution_count": null,
      "metadata": {},
      "outputs": [],
      "source": [
        "input_image = torch.zeros((1,28,28))\n",
        "onnx_model = 'data/model.onnx'\n",
        "onnx.export(model, input_image, onnx_model)"
      ]
    },
    {
      "cell_type": "markdown",
      "metadata": {},
      "source": [
        "We will use our test dataset as sample data for inference from the ONNX model to make predictions.\n"
      ]
    },
    {
      "cell_type": "code",
      "execution_count": null,
      "metadata": {},
      "outputs": [],
      "source": [
        "test_data = datasets.FashionMNIST(\n",
        "    root=\"data\",\n",
        "    train=False,\n",
        "    download=True,\n",
        "    transform=ToTensor()\n",
        ")\n",
        "\n",
        "classes = [\n",
        "    \"T-shirt/top\",\n",
        "    \"Trouser\",\n",
        "    \"Pullover\",\n",
        "    \"Dress\",\n",
        "    \"Coat\",\n",
        "    \"Sandal\",\n",
        "    \"Shirt\",\n",
        "    \"Sneaker\",\n",
        "    \"Bag\",\n",
        "    \"Ankle boot\",\n",
        "]\n",
        "x, y = test_data[0][0], test_data[0][1]"
      ]
    },
    {
      "cell_type": "markdown",
      "metadata": {},
      "source": [
        "We need to create inference session with `onnxruntime.InferenceSession`.  To inference the onnx model, use run and pass in the list of outputs you want returned (leave empty if you want all of them) and a map of the input values. The result is a list of the outputs."
      ]
    },
    {
      "cell_type": "code",
      "execution_count": null,
      "metadata": {},
      "outputs": [],
      "source": [
        "session = onnxruntime.InferenceSession(onnx_model, None)\n",
        "input_name = session.get_inputs()[0].name\n",
        "output_name = session.get_outputs()[0].name\n",
        "\n",
        "result = session.run([output_name], {input_name: x.numpy()})\n",
        "predicted, actual = classes[result[0][0].argmax(0)], classes[y]\n",
        "print(f'Predicted: \"{predicted}\", Actual: \"{actual}\"')"
      ]
    },
    {
      "cell_type": "markdown",
      "metadata": {},
      "source": [
        "There are a lot of things you can do with ONNX model, including running inference on different platforms and in different programming languages. "
      ]
    }
  ],
  "metadata": {
    "interpreter": {
      "hash": "26de051ba29f2982a8de78e945f0abaf191376122a1563185a90213a26c5da77"
    },
    "kernelspec": {
      "display_name": "Python 3.10.4 64-bit",
      "language": "python",
      "name": "python3"
    },
    "language_info": {
      "codemirror_mode": {
        "name": "ipython",
        "version": 3
      },
      "file_extension": ".py",
      "mimetype": "text/x-python",
      "name": "python",
      "nbconvert_exporter": "python",
      "pygments_lexer": "ipython3",
      "version": "3.10.7"
    },
    "nteract": {
      "version": "nteract-front-end@1.0.0"
    }
  },
  "nbformat": 4,
  "nbformat_minor": 1
},
{
  "cells": [
    {
      "cell_type": "markdown",
      "metadata": {},
      "source": [
        "This unit runs through the API for common tasks in machine learning. Refer to the links in each section to dive deeper.\n",
        "\n",
        "## Working with data\n",
        "PyTorch has two primitives to work with data: ``torch.utils.data.DataLoader`` and ``torch.utils.data.Dataset``. ``Dataset`` stores the samples and their corresponding labels, and ``DataLoader`` wraps an iterable around the ``Dataset``.\n",
        "\n"
      ]
    },
    {
      "cell_type": "code",
      "execution_count": 2,
      "metadata": {},
      "outputs": [],
      "source": [
        "%matplotlib inline\n",
        "import torch\n",
        "from torch import nn\n",
        "from torch.utils.data import DataLoader\n",
        "from torchvision import datasets\n",
        "from torchvision.transforms import ToTensor, Lambda, Compose\n",
        "import matplotlib.pyplot as plt"
      ]
    },
    {
      "cell_type": "markdown",
      "metadata": {},
      "source": [
        "PyTorch offers domain-specific libraries such as `TorchText`, `TorchVision`, and `TorchAudio`, all of which include datasets. For this tutorial, we  will be using a TorchVision dataset.\n",
        "\n",
        "The ``torchvision.datasets`` module contains ``Dataset`` objects for many real-world vision data like CIFAR and COCO. In this tutorial, we'll use the **FashionMNIST** dataset. Every TorchVision ``Dataset`` includes two arguments: ``transform`` and ``target_transform`` to modify the samples and labels respectively."
      ]
    },
    {
      "cell_type": "code",
      "execution_count": 3,
      "metadata": {},
      "outputs": [],
      "source": [
        "# Download training data from open datasets.\n",
        "training_data = datasets.FashionMNIST(\n",
        "    root=\"data\",\n",
        "    train=True,\n",
        "    download=True,\n",
        "    transform=ToTensor(),\n",
        ")\n",
        "\n",
        "# Download test data from open datasets.\n",
        "test_data = datasets.FashionMNIST(\n",
        "    root=\"data\",\n",
        "    train=False,\n",
        "    download=True,\n",
        "    transform=ToTensor(),\n",
        ")"
      ]
    },
    {
      "cell_type": "markdown",
      "metadata": {},
      "source": [
        "We pass the ``Dataset`` as an argument to ``DataLoader``. This wraps an iterable over our dataset, and supports automatic batching, sampling, shuffling and multi-process data loading. Here we define a batch size of 64, i.e. each element in the dataloader iterable will return a batch of 64 features and labels.\n",
        "\n"
      ]
    },
    {
      "cell_type": "code",
      "execution_count": 4,
      "metadata": {},
      "outputs": [
        {
          "name": "stdout",
          "output_type": "stream",
          "text": [
            "Shape of X [N, C, H, W]:  torch.Size([64, 1, 28, 28])\n",
            "Shape of y:  torch.Size([64]) torch.int64\n"
          ]
        },
        {
          "data": {
            "image/png": "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",
            "image/svg+xml": "<?xml version=\"1.0\" encoding=\"utf-8\" standalone=\"no\"?>\n<!DOCTYPE svg PUBLIC \"-//W3C//DTD SVG 1.1//EN\"\n  \"http://www.w3.org/Graphics/SVG/1.1/DTD/svg11.dtd\">\n<svg xmlns:xlink=\"http://www.w3.org/1999/xlink\" width=\"551.172414pt\" height=\"464.398125pt\" viewBox=\"0 0 551.172414 464.398125\" xmlns=\"http://www.w3.org/2000/svg\" version=\"1.1\">\n <metadata>\n  <rdf:RDF xmlns:dc=\"http://purl.org/dc/elements/1.1/\" xmlns:cc=\"http://creativecommons.org/ns#\" xmlns:rdf=\"http://www.w3.org/1999/02/22-rdf-syntax-ns#\">\n   <cc:Work>\n    <dc:type rdf:resource=\"http://purl.org/dc/dcmitype/StillImage\"/>\n    <dc:date>2022-05-08T11:09:02.742350</dc:date>\n    <dc:format>image/svg+xml</dc:format>\n    <dc:creator>\n     <cc:Agent>\n      <dc:title>Matplotlib v3.5.1, https://matplotlib.org/</dc:title>\n     </cc:Agent>\n    </dc:creator>\n   </cc:Work>\n  </rdf:RDF>\n </metadata>\n <defs>\n  <style type=\"text/css\">*{stroke-linejoin: round; stroke-linecap: butt}</style>\n </defs>\n <g id=\"figure_1\">\n  <g id=\"patch_1\">\n   <path d=\"M 0 464.398125 \nL 551.172414 464.398125 \nL 551.172414 0 \nL 0 0 \nL 0 464.398125 \nz\n\" style=\"fill: none\"/>\n  </g>\n  <g id=\"axes_1\">\n   <g clip-path=\"url(#p159dfe5c7c)\">\n    <image xlink:href=\"data:image/png;base64,\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\" id=\"image97eab51074\" transform=\"scale(1 -1)translate(0 -75)\" x=\"7.2\" y=\"-22.297435\" width=\"75\" height=\"75\"/>\n   </g>\n   <g id=\"text_1\">\n    <!-- 8 -->\n    <g style=\"fill: #ffffff\" transform=\"translate(40.872155 16.318125)scale(0.12 -0.12)\">\n     <defs>\n      <path id=\"DejaVuSans-38\" d=\"M 2034 2216 \nQ 1584 2216 1326 1975 \nQ 1069 1734 1069 1313 \nQ 1069 891 1326 650 \nQ 1584 409 2034 409 \nQ 2484 409 2743 651 \nQ 3003 894 3003 1313 \nQ 3003 1734 2745 1975 \nQ 2488 2216 2034 2216 \nz\nM 1403 2484 \nQ 997 2584 770 2862 \nQ 544 3141 544 3541 \nQ 544 4100 942 4425 \nQ 1341 4750 2034 4750 \nQ 2731 4750 3128 4425 \nQ 3525 4100 3525 3541 \nQ 3525 3141 3298 2862 \nQ 3072 2584 2669 2484 \nQ 3125 2378 3379 2068 \nQ 3634 1759 3634 1313 \nQ 3634 634 3220 271 \nQ 2806 -91 2034 -91 \nQ 1263 -91 848 271 \nQ 434 634 434 1313 \nQ 434 1759 690 2068 \nQ 947 2378 1403 2484 \nz\nM 1172 3481 \nQ 1172 3119 1398 2916 \nQ 1625 2713 2034 2713 \nQ 2441 2713 2670 2916 \nQ 2900 3119 2900 3481 \nQ 2900 3844 2670 4047 \nQ 2441 4250 2034 4250 \nQ 1625 4250 1398 4047 \nQ 1172 3844 1172 3481 \nz\n\" transform=\"scale(0.015625)\"/>\n     </defs>\n     <use xlink:href=\"#DejaVuSans-38\"/>\n    </g>\n   </g>\n  </g>\n  <g id=\"axes_2\">\n   <g clip-path=\"url(#p9159fca6ff)\">\n    <image xlink:href=\"data:image/png;base64,\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\" id=\"imageb6b68d10d9\" transform=\"scale(1 -1)translate(0 -75)\" x=\"122.648276\" y=\"-22.297435\" width=\"75\" height=\"75\"/>\n   </g>\n   <g id=\"text_2\">\n    <!-- 1 -->\n    <g style=\"fill: #ffffff\" transform=\"translate(156.320431 16.318125)scale(0.12 -0.12)\">\n     <defs>\n      <path id=\"DejaVuSans-31\" d=\"M 794 531 \nL 1825 531 \nL 1825 4091 \nL 703 3866 \nL 703 4441 \nL 1819 4666 \nL 2450 4666 \nL 2450 531 \nL 3481 531 \nL 3481 0 \nL 794 0 \nL 794 531 \nz\n\" transform=\"scale(0.015625)\"/>\n     </defs>\n     <use xlink:href=\"#DejaVuSans-31\"/>\n    </g>\n   </g>\n  </g>\n  <g id=\"axes_3\">\n   <g clip-path=\"url(#p44e3bf51b5)\">\n    <image xlink:href=\"data:image/png;base64,\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\" id=\"image67ce37efce\" transform=\"scale(1 -1)translate(0 -75)\" x=\"238.096552\" y=\"-22.297435\" width=\"75\" height=\"75\"/>\n   </g>\n   <g id=\"text_3\">\n    <!-- 6 -->\n    <g style=\"fill: #ffffff\" transform=\"translate(271.768707 16.318125)scale(0.12 -0.12)\">\n     <defs>\n      <path id=\"DejaVuSans-36\" d=\"M 2113 2584 \nQ 1688 2584 1439 2293 \nQ 1191 2003 1191 1497 \nQ 1191 994 1439 701 \nQ 1688 409 2113 409 \nQ 2538 409 2786 701 \nQ 3034 994 3034 1497 \nQ 3034 2003 2786 2293 \nQ 2538 2584 2113 2584 \nz\nM 3366 4563 \nL 3366 3988 \nQ 3128 4100 2886 4159 \nQ 2644 4219 2406 4219 \nQ 1781 4219 1451 3797 \nQ 1122 3375 1075 2522 \nQ 1259 2794 1537 2939 \nQ 1816 3084 2150 3084 \nQ 2853 3084 3261 2657 \nQ 3669 2231 3669 1497 \nQ 3669 778 3244 343 \nQ 2819 -91 2113 -91 \nQ 1303 -91 875 529 \nQ 447 1150 447 2328 \nQ 447 3434 972 4092 \nQ 1497 4750 2381 4750 \nQ 2619 4750 2861 4703 \nQ 3103 4656 3366 4563 \nz\n\" transform=\"scale(0.015625)\"/>\n     </defs>\n     <use xlink:href=\"#DejaVuSans-36\"/>\n    </g>\n   </g>\n  </g>\n  <g id=\"axes_4\">\n   <g clip-path=\"url(#pddfa325c19)\">\n    <image xlink:href=\"data:image/png;base64,\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\" id=\"image5807fa7b37\" transform=\"scale(1 -1)translate(0 -75)\" x=\"353.544828\" y=\"-22.297435\" width=\"75\" height=\"75\"/>\n   </g>\n   <g id=\"text_4\">\n    <!-- 8 -->\n    <g style=\"fill: #ffffff\" transform=\"translate(387.216983 16.318125)scale(0.12 -0.12)\">\n     <use xlink:href=\"#DejaVuSans-38\"/>\n    </g>\n   </g>\n  </g>\n  <g id=\"axes_5\">\n   <g clip-path=\"url(#p7dbe50989e)\">\n    <image xlink:href=\"data:image/png;base64,\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\" id=\"image7235136c36\" transform=\"scale(1 -1)translate(0 -75)\" x=\"468.993103\" y=\"-22.297435\" width=\"75\" height=\"75\"/>\n   </g>\n   <g id=\"text_5\">\n    <!-- 1 -->\n    <g style=\"fill: #ffffff\" transform=\"translate(502.665259 16.318125)scale(0.12 -0.12)\">\n     <use xlink:href=\"#DejaVuSans-31\"/>\n    </g>\n   </g>\n  </g>\n  <g id=\"axes_6\">\n   <g clip-path=\"url(#pd454ebdebf)\">\n    <image xlink:href=\"data:image/png;base64,\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\" id=\"image500ea4af7a\" transform=\"scale(1 -1)translate(0 -75)\" x=\"7.2\" y=\"-112.272608\" width=\"75\" height=\"75\"/>\n   </g>\n   <g id=\"text_6\">\n    <!-- 7 -->\n    <g style=\"fill: #ffffff\" transform=\"translate(40.872155 106.293297)scale(0.12 -0.12)\">\n     <defs>\n      <path id=\"DejaVuSans-37\" d=\"M 525 4666 \nL 3525 4666 \nL 3525 4397 \nL 1831 0 \nL 1172 0 \nL 2766 4134 \nL 525 4134 \nL 525 4666 \nz\n\" transform=\"scale(0.015625)\"/>\n     </defs>\n     <use xlink:href=\"#DejaVuSans-37\"/>\n    </g>\n   </g>\n  </g>\n  <g id=\"axes_7\">\n   <g clip-path=\"url(#peb630d06b1)\">\n    <image xlink:href=\"data:image/png;base64,\niVBORw0KGgoAAAANSUhEUgAAAEsAAABLCAYAAAA4TnrqAAASIElEQVR4nO1c6W7bRtd+uC+idlu2lXiLbdRFihRotj+9hF5sL6BXkBZIU7xtmtZxHG+yI1mWRIriJvL7YZyTISM7TvL1jfsiBxAsSyNy5pmznzOUAGT4Qtci+XNP4N9EX8D6APoC1geQet2BkiRBli+wlWUZkiS9857+zqIsy/iVJAmm0+mnzPuDiOaVZVnu/+L83kdXgiVJEhRFgSzLsCwLpVIJqqrCsiyYpglN01Aul6HrOjRNg2EYkGWZb0x/0zRFHMcYj8eIogj7+/s4PDy81gQ/hSRJgqZpUBSF50GfFwGkOV41p/eCpaoqFEWBbdtoNBowDAO1Wg2O48CyLLRaLZRKJZimiXK5zGCJgGVZhvF4jH6/D9/3MZlMcHx8/I9zF81f13VkWYbpdIosyyDLMksJzW86nSJJkuuBRZyhKApM04Su6wySqqqwbRvVahWqqsJxHNi2DdM0Ua1WmdMIrDRNcyJHOwoAtm2j2Wyi2WwiiiKMx2PEcfzJoNDCAcAwDFiWBVVVUavVUCqVcnNRFIV/o6oXEMRxDNd1EUURfN+H67rvAMdg1Wo1tNttWJaF5eVlLCwswDAM5iaRW2hnNE2D4zjQdR2GYaBUKkGWZUynU375vo84jnkzaHd1XcdwOMSLFy/Q7XY/CShJknL6qNVqYXV1FaVSCZubm1hcXESapoiiiDdOlmUoigLHcWCaJlzXxcHBAVzXxYsXL/Dbb78hiqJ3wZIkCYZhoF6vw3Ec3L59G6urq7AsC/Pz87AsC1EUYTKZIE1TFh9FUXgHaTdFsOI4xnQ6hSRJsG0btVoNWZZhcXERvV4Puq5jb2/vo4ESwQIuOIvuNTc3h0qlgrW1NaysrGA6nebAIn1MKuX8/ByqqmIwGKDX67GeE++jzs3NQZIktNttrK+vo1QqodFoQNM0AGClLIJFL1mW4XkeFEWBpmkwTTMnhkmSYDKZII5jnigt5s6dOyiXy3j9+jU8z0MURQiCILcYAuBDiTYqjmMGRbymeG1SBWEYso4jfSZSlmVQb9++DVmWsbW1hW+//RaWZeVYezQaMQv7vo8syxgskRRFga7ruQllWcYWxjAMeJ4HTdNQrVaxvLyM09NT7O3twfM8eJ6HbrfLgNKECfjrEm1SGIasC2njRUtNY8ngEFii9SySapomAEDXdZimCdM0WRGSOU2ShEWKPidRpJsrisILFcGi39CYJElQLpfZStm2jXK5jOl0ygCJfpD4/rqg0X1JPxa/E4nmVuTomWCJ3OB5Xg6UJEng+z6SJAGA3GIIffHmpBCTJOHf0PVIocqyjOFwiG63iyRJsLGxgXa7jZ2dHYxGIwyHQ94MUSwuM+2zAIyiCKPRCKqqYjKZIIointNl7gp9dxUnM1hpmjIwtCtJksB1XSRJAl3XWUQJMHEXiAPTNEUYhqyjoijKKXxJkjAcDlEul1EqlXDnzh00Gg2oqopnz57B931EUcTKWlEUqKoKSZJmcsos0EgPaZrG4khzuAwMUWqKKobB8jwPsiwjCAJeDP2QFHMcxzmlLpKoWwgsWhQ5gADYCNDCxuMxJElCEAQIwxCapmFpaQm6rmMwGGAwGPCmiH7bdUhUH3Rv+n1R3IqbfhWpr169YoXaarVgmiZfOAxD9Pt9BEGQ83pF4EhM6EXXIq4wTZOVf6lUAgAcHh7i6OgIlmXBMAz4vg/btvHDDz8gjmM8ffoUz549QxiGGA6HmEwm1waLLJzneWydbdtGEASsZhRFYcdUFPP3gaYOBgNIkgTP8xAEQe4HZM4nkwlPBACzNHELiYqmaeysEhepqpqLAOgao9EIcRxjNBpB0zQ0Gg2srKxAlmX0ej3s7u5ClmWMRqNL9cxliyOfiiRF0zS2yqJ0EFeJ4F2p4AnR8/Nz7OzswDAM/pJEKk1TXjSAnF4j80xcJnKWpmmoVCqsO8IwRJZl6PV66Pf77GqcnJyg2WzC8zz+bHt7G0EQoNVqwfM8jEYjHB8f57xq0mtFriOwCDB60ZyJyOgQcKKEzASL5Pr4+Bi9Xi830LIsLC4uwrZtWJYFy7IAAEEQsIUhBV7c2SzLoGka5ufn4TgOTyJNU+zv76PT6SBNU/bgG40GO8Wbm5v4/vvvkaYpB987OzsYDofvhCCzRJOA8X2fdSIBR3qV9Kmu6wwWcZiYdsqBJd6gGNCSNdN1/VI/pOhziU4rKWcy+eQwksUji0uce35+zvOgRVQqFQ7YbdvO6a+iH1ecV/El/o5+I4JNYniZKF6ZokmSBMPhEEEQIEkSmKbJcaCmaTnLFwQBgiAAAHZuKfdFMVen00EQBKyvRPHxfR+dTge6riMIArx+/Rrlchlff/01FhcXsbGxgTRNMR6P4XkexuMxgiDA4eEhzs/Pc5tCRMo+DMOcjiUxlWWZ3aKrEoPXBst1XUwmE6iqinq9DuDC2ycrQhcfj8c4Pz8HADSbTR5LXBfHMY6OjjAej2daNhIXADg5OcF//vMfLC4uYm1tDfV6HaVSCQsLC0iSBL1eD91uF6PRCEEQYDwesx4tXpeAEZ1c0rVkBYu+1UdxFrE58NbRI7EsugzT6ZSNg2iOKZD2PO+d3Nas+9EC0zTFZDJBt9vF4eHhO6JUKpUgSRJu3boFVVURBAEGgwHiOMZkMmFxFbmf/C0CQwzdrhXuXAUW6SxJktDr9UAOLL3IJaDguNVqQdM0tmhBEGBnZwdnZ2ccdlxGYvBMixwOh/jpp5/wyy+/cNLQNE2srKxgdXUVmqbh3r17UBQF3W4Xz58/x2g0wosXL/Dnn39yIB8EAceiJHrkDsVxzGJ61Ua+FyzgrRiRYqaFAWDXgHJZ5GQSJUmCfr+PTqfzvtvkrkvcEwQBW8tarYaVlRU4joOFhQVUKhU4joNbt26hXq/j8PAQ0+kUvV4vZ9VJlxWtHd1HNDLvc3qvXd0pLogmEoYhm/j9/X12RoGLwJx28Do0K2tBFMcxBoMBwjDE/v4+ZyvEvFm1WoWiKNjc3EQYhjBNk7ndMAw2OhTGZVmW8w3J57rUz/oQkIo7nyQJx3ie5+H09HQmmNchUemLJpxEYzKZ4OTkBLIsw/d9HB0doVarIY5j+L4PVVWxuLgISZIwNzeH7e1tAECpVGKgKAUu6iwxuBa575PAuoxoMWR1/ikS9ScVFFRV5eSdZVkcdjmOw0CLwIuxK1lFcZNEzrrSKX0fiVZEpMuSc8WxH5oevmy8JEloNpvY2tpCuVyGbdvsf5FOpXHFtA3FvmKYRkSxLYAc9+XGfMwCrgLlMipO/n33uWy8JEloNBrY2NiAbdsolUqYTqcIw5CdXcdxctxF1pX0FDmn5HdRMoDydaLeFemTxbC4sMs48GOuO4tEZUyp7KJDSvkscV7FcIecVNGgUPoGABeXRSv5UZxV/Ow6qd7/DxJ1D6WDKKgH3i6QwjQxkyDmroqOKHAhehQSAUC5XGb9SEbqkznrv00iZ0mSlAvEKfgm/QS8BZBSTMRJFEeSnzWdTlkcqRpFWZUbD1axbqhpGmzbZgeYxohcQ+0HADilTC4OpWRIj4liK4ZnNF4sYBB9NrCuUvhFnw64yK0tLS2hVCqhVqsxl4icUKlUmJMAsLNKLkeSJDnvnZQ5XYssJOXqqPZA9NnAuq5eI1DJf6KOnWJGU1T6xfqjaISK2QVRD9JYGlec440VQ1ogiU6r1cLDhw/RbDbhOA4qlQqAt1lZCtwBsFLOsoybVoqJPXpPuTkS5SzLuMhSDHtuJFjijpJYLSws4NGjR2i325xfJxdhOp3OTNHIsoxKpQLLst4pgxXBohRzlmUcDRSzpjcSLCJFUTit7DhOrszlui47mkmS5DKwlLUlN4HqkgTCZe4Oid5lBdkbDVapVML9+/extrYG27ZxcnKCbreLvb097O3tcSAvVr/J0lHLAFnQdruNR48eoVqt5lLgZDUBcBeP67qcuha/vxFgXWYZdV3HysoKvvnmG/i+j/PzcwRBgJcvX+L3339HGIZwXffSzIYkSdzFOJ1O8fDhQ/afxIYQsQmGRJoqQiLdCLCuolm6RlEU7kak/BSAnKUjEnu1xuMxcwslKWmjKL6ksbM270aDVdQfALglwHEcqKqaSwkXF0lp5SRJ4Hkezs7O2AWpVqsAwL+n4gxV4G8sWFf5XORRU9mdHEnKEFiWldNRRe4Sr03hCwB2REVPnfLxl3Ut3wiwLqMwDLG7u4swDOE4DjcDb21tYWNjg4GkxRYzD2macrmsVqthfX2dHVtqUiH/ilyPwWAws1MZuOFgkTI/PT1Fu93Gd999B8dxsLq6itXVVe7MoQC6WGWOogjHx8fo9/u54FvXda6ykw6UZRmDwQBv3rxht6RINxqsLLtoe6K8+2g0AnBR0qeTHWEYvtN6DrzNT1HdUkzyiWERZSTEHoePKrJ+bppOp1whIjGh3ns6oEALLXr9lBqm7+fn53Hv3j1Uq1XunyVLK0kSSqUSms0m0jTl+miRbjRYVDsELtoDrnu4gKo5uq6j2WyiUqkgCAJsb28zN1GvBv2lQw9RFME0zXe4S5Kkmw3Wx5KYgZglXmJbgqizLqvq0Gf/k2CRL0YdiCSKYr2QclzkipA+u6zACvxLwZqVahHfG4bBqRlqYhFTymLhotiMMssKflTB4nOSqqqcZ6rX66jVajAMg5vcRDeiXC6jUqnkYk6qTJNl1HUdURTh5cuX6HQ66Pf7+OuvvzAcDnF6ejqzj/VfAxYdBDUMAxsbG9jc3ITjOFhbW+NDTUtLS7Asi5OD0+kU3W4XruvC9310u12EYchH/uI4xvPnz/HkyRN4nofDw0OMx+NcN6NINxosOkFL4U29Xoeu6+xnkQtBB0XFwwVUIqPm3fF4zI0luq6jXq+zH+f7PmdXrzr7eCPAKqZoSPdUKhU8ePAAy8vLfM5HVVVUKhU0Gg3ous6HQ8fjMTqdDh9FGQwGCIIAR0dHuTZKSZLw+PFjNJtNbiqhVtD3naz97GDNquTQZ5Zl4auvvuKGNUr/inXAUqkETdMwHA6xv7+P0WiEg4MDvHr1CuPxGIeHh+j1eqzzDMPA0tIS567CMORTYZ/czPbfJkmSuIeh0WhwT1UQBOj1eu80/5OYDodDHBwcsPNK3EJZBtJDURSh0+ng119/5bQMZTCol4w4F0C+4v15IHlLRc6iSs7q6ipqtRqL28nJCX7++WfODNA5SLEyTdwhFjREsCj7+eTJE+zs7HAScW5uDq7rwnVdxHGM9fV1PH78GIqi4OjoCL1e76Lq/TmBmkWUFSDFTR0tcRyj3++j1+vh7OyMFwBcvwZJ4/v9Pvr9PgzDwOrqKsrlMsIwZKe0XC6j3W5DUZRcF/WNAyvLMgwGA+zt7aFer2NxcZHFZG1tDfPz8xiNRhiNRgjDEIPBgHWO67rXevwBibllWVhfX8ft27fhui4cx4Hv+7h79y7u3r2LLMtwenrKx50/O1jFnq80TdHr9TAcDtFoNLC8vMy9VltbWwDAStn3fezu7uZ64q8DFvXUV6tVbG9vY2NjA57nodlsIggC3L9/Hw8ePEAYhnj69Cn37n92sIB3xUg8teF5HgaDQe5RCFQY1XUdjUaDK89hGHI5SwxnxIY24KKdqFarsahT1rRarfJTTwh8sbot4QY9P6sY8VO9r1KpoFarYXl5GbZtY2lpiXUKURiGfDDB9332xOlkPeXDkiRBu93GysoKbNvGrVu30Gg0EIYhzs/PEYYher0eTk5O4Hkenj9/joODg5vDWbOIOGt3dxcAuBO5VqthYWEBzWYTtm1zT7zIQcPhEIPBAFEUod/vYzwew3VdHB8fIwxDrKys4M6dO3yUmWJGwzAQRRH++OMP/Pjjj2wdSbRvJFizrBudao3jmPvtLctCp9OBbdu5HDudbSTXgRZLY8IwxNnZGQffpmnmDnQmScJpG/GM4o0Eaxa5rou///4bqqpid3cXtm3nTtJSfxYF3PS+1WqhXC4zAMCF6/DmzRvOYDiOA+Bt2BVFUe4hRBQv/mvAIm8bAJ8+E8myLDSbTRiGgWaziVarxY+xotoiETWRUKKPmtzEk7oUTonJwH8NWO8jqjqT++D7PgzDwGAwgOM4nIlI0zTXGNLpdDjnTgbj5OSElb3Y73CjrOGnkvjkOPE0xWXP9AJmn14VH7iRG4v/IbD+afrygMQPoC9gfQB9AesD6P8AGpu/Km9ktRsAAAAASUVORK5CYII=\" id=\"imageb39ccabcfa\" transform=\"scale(1 -1)translate(0 -75)\" x=\"122.648276\" y=\"-112.272608\" width=\"75\" height=\"75\"/>\n   </g>\n   <g id=\"text_7\">\n    <!-- 5 -->\n    <g style=\"fill: #ffffff\" transform=\"translate(156.320431 106.293297)scale(0.12 -0.12)\">\n     <defs>\n      <path id=\"DejaVuSans-35\" d=\"M 691 4666 \nL 3169 4666 \nL 3169 4134 \nL 1269 4134 \nL 1269 2991 \nQ 1406 3038 1543 3061 \nQ 1681 3084 1819 3084 \nQ 2600 3084 3056 2656 \nQ 3513 2228 3513 1497 \nQ 3513 744 3044 326 \nQ 2575 -91 1722 -91 \nQ 1428 -91 1123 -41 \nQ 819 9 494 109 \nL 494 744 \nQ 775 591 1075 516 \nQ 1375 441 1709 441 \nQ 2250 441 2565 725 \nQ 2881 1009 2881 1497 \nQ 2881 1984 2565 2268 \nQ 2250 2553 1709 2553 \nQ 1456 2553 1204 2497 \nQ 953 2441 691 2322 \nL 691 4666 \nz\n\" transform=\"scale(0.015625)\"/>\n     </defs>\n     <use xlink:href=\"#DejaVuSans-35\"/>\n    </g>\n   </g>\n  </g>\n  <g id=\"axes_8\">\n   <g clip-path=\"url(#p0b55e19579)\">\n    <image xlink:href=\"data:image/png;base64,\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\" id=\"image888054196b\" transform=\"scale(1 -1)translate(0 -75)\" x=\"238.096552\" y=\"-112.272608\" width=\"75\" height=\"75\"/>\n   </g>\n   <g id=\"text_8\">\n    <!-- 2 -->\n    <g style=\"fill: #ffffff\" transform=\"translate(271.768707 106.293297)scale(0.12 -0.12)\">\n     <defs>\n      <path id=\"DejaVuSans-32\" d=\"M 1228 531 \nL 3431 531 \nL 3431 0 \nL 469 0 \nL 469 531 \nQ 828 903 1448 1529 \nQ 2069 2156 2228 2338 \nQ 2531 2678 2651 2914 \nQ 2772 3150 2772 3378 \nQ 2772 3750 2511 3984 \nQ 2250 4219 1831 4219 \nQ 1534 4219 1204 4116 \nQ 875 4013 500 3803 \nL 500 4441 \nQ 881 4594 1212 4672 \nQ 1544 4750 1819 4750 \nQ 2544 4750 2975 4387 \nQ 3406 4025 3406 3419 \nQ 3406 3131 3298 2873 \nQ 3191 2616 2906 2266 \nQ 2828 2175 2409 1742 \nQ 1991 1309 1228 531 \nz\n\" transform=\"scale(0.015625)\"/>\n     </defs>\n     <use xlink:href=\"#DejaVuSans-32\"/>\n    </g>\n   </g>\n  </g>\n  <g id=\"axes_9\">\n   <g clip-path=\"url(#pfedba08091)\">\n    <image xlink:href=\"data:image/png;base64,\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\" id=\"image94065ff146\" transform=\"scale(1 -1)translate(0 -75)\" x=\"353.544828\" y=\"-112.272608\" width=\"75\" height=\"75\"/>\n   </g>\n   <g id=\"text_9\">\n    <!-- 9 -->\n    <g style=\"fill: #ffffff\" transform=\"translate(387.216983 106.293297)scale(0.12 -0.12)\">\n     <defs>\n      <path id=\"DejaVuSans-39\" d=\"M 703 97 \nL 703 672 \nQ 941 559 1184 500 \nQ 1428 441 1663 441 \nQ 2288 441 2617 861 \nQ 2947 1281 2994 2138 \nQ 2813 1869 2534 1725 \nQ 2256 1581 1919 1581 \nQ 1219 1581 811 2004 \nQ 403 2428 403 3163 \nQ 403 3881 828 4315 \nQ 1253 4750 1959 4750 \nQ 2769 4750 3195 4129 \nQ 3622 3509 3622 2328 \nQ 3622 1225 3098 567 \nQ 2575 -91 1691 -91 \nQ 1453 -91 1209 -44 \nQ 966 3 703 97 \nz\nM 1959 2075 \nQ 2384 2075 2632 2365 \nQ 2881 2656 2881 3163 \nQ 2881 3666 2632 3958 \nQ 2384 4250 1959 4250 \nQ 1534 4250 1286 3958 \nQ 1038 3666 1038 3163 \nQ 1038 2656 1286 2365 \nQ 1534 2075 1959 2075 \nz\n\" transform=\"scale(0.015625)\"/>\n     </defs>\n     <use xlink:href=\"#DejaVuSans-39\"/>\n    </g>\n   </g>\n  </g>\n  <g id=\"axes_10\">\n   <g clip-path=\"url(#pb21f4f1f17)\">\n    <image xlink:href=\"data:image/png;base64,\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\" id=\"image8e6a3a1acd\" transform=\"scale(1 -1)translate(0 -75)\" x=\"468.993103\" y=\"-112.272608\" width=\"75\" height=\"75\"/>\n   </g>\n   <g id=\"text_10\">\n    <!-- 7 -->\n    <g style=\"fill: #ffffff\" transform=\"translate(502.665259 106.293297)scale(0.12 -0.12)\">\n     <use xlink:href=\"#DejaVuSans-37\"/>\n    </g>\n   </g>\n  </g>\n  <g id=\"axes_11\">\n   <g clip-path=\"url(#p8ef888a3a2)\">\n    <image xlink:href=\"data:image/png;base64,\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\" id=\"image2e283a3fac\" transform=\"scale(1 -1)translate(0 -75)\" x=\"7.2\" y=\"-202.24778\" width=\"75\" height=\"75\"/>\n   </g>\n   <g id=\"text_11\">\n    <!-- 3 -->\n    <g style=\"fill: #ffffff\" transform=\"translate(40.872155 196.26847)scale(0.12 -0.12)\">\n     <defs>\n      <path id=\"DejaVuSans-33\" d=\"M 2597 2516 \nQ 3050 2419 3304 2112 \nQ 3559 1806 3559 1356 \nQ 3559 666 3084 287 \nQ 2609 -91 1734 -91 \nQ 1441 -91 1130 -33 \nQ 819 25 488 141 \nL 488 750 \nQ 750 597 1062 519 \nQ 1375 441 1716 441 \nQ 2309 441 2620 675 \nQ 2931 909 2931 1356 \nQ 2931 1769 2642 2001 \nQ 2353 2234 1838 2234 \nL 1294 2234 \nL 1294 2753 \nL 1863 2753 \nQ 2328 2753 2575 2939 \nQ 2822 3125 2822 3475 \nQ 2822 3834 2567 4026 \nQ 2313 4219 1838 4219 \nQ 1578 4219 1281 4162 \nQ 984 4106 628 3988 \nL 628 4550 \nQ 988 4650 1302 4700 \nQ 1616 4750 1894 4750 \nQ 2613 4750 3031 4423 \nQ 3450 4097 3450 3541 \nQ 3450 3153 3228 2886 \nQ 3006 2619 2597 2516 \nz\n\" transform=\"scale(0.015625)\"/>\n     </defs>\n     <use xlink:href=\"#DejaVuSans-33\"/>\n    </g>\n   </g>\n  </g>\n  <g id=\"axes_12\">\n   <g clip-path=\"url(#pffd0cbd6cb)\">\n    <image xlink:href=\"data:image/png;base64,\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\" id=\"imaged6863da8af\" transform=\"scale(1 -1)translate(0 -75)\" x=\"122.648276\" y=\"-202.24778\" width=\"75\" height=\"75\"/>\n   </g>\n   <g id=\"text_12\">\n    <!-- 7 -->\n    <g style=\"fill: #ffffff\" transform=\"translate(156.320431 196.26847)scale(0.12 -0.12)\">\n     <use xlink:href=\"#DejaVuSans-37\"/>\n    </g>\n   </g>\n  </g>\n  <g id=\"axes_13\">\n   <g clip-path=\"url(#p66941c9b7c)\">\n    <image xlink:href=\"data:image/png;base64,\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\" id=\"imaged0cadc8e0d\" transform=\"scale(1 -1)translate(0 -75)\" x=\"238.096552\" y=\"-202.24778\" width=\"75\" height=\"75\"/>\n   </g>\n   <g id=\"text_13\">\n    <!-- 0 -->\n    <g style=\"fill: #ffffff\" transform=\"translate(271.768707 196.26847)scale(0.12 -0.12)\">\n     <defs>\n      <path id=\"DejaVuSans-30\" d=\"M 2034 4250 \nQ 1547 4250 1301 3770 \nQ 1056 3291 1056 2328 \nQ 1056 1369 1301 889 \nQ 1547 409 2034 409 \nQ 2525 409 2770 889 \nQ 3016 1369 3016 2328 \nQ 3016 3291 2770 3770 \nQ 2525 4250 2034 4250 \nz\nM 2034 4750 \nQ 2819 4750 3233 4129 \nQ 3647 3509 3647 2328 \nQ 3647 1150 3233 529 \nQ 2819 -91 2034 -91 \nQ 1250 -91 836 529 \nQ 422 1150 422 2328 \nQ 422 3509 836 4129 \nQ 1250 4750 2034 4750 \nz\n\" transform=\"scale(0.015625)\"/>\n     </defs>\n     <use xlink:href=\"#DejaVuSans-30\"/>\n    </g>\n   </g>\n  </g>\n  <g id=\"axes_14\">\n   <g clip-path=\"url(#pa7fc618d13)\">\n    <image xlink:href=\"data:image/png;base64,\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\" id=\"image8970e7c2a4\" transform=\"scale(1 -1)translate(0 -75)\" x=\"353.544828\" y=\"-202.24778\" width=\"75\" height=\"75\"/>\n   </g>\n   <g id=\"text_14\">\n    <!-- 9 -->\n    <g style=\"fill: #ffffff\" transform=\"translate(387.216983 196.26847)scale(0.12 -0.12)\">\n     <use xlink:href=\"#DejaVuSans-39\"/>\n    </g>\n   </g>\n  </g>\n  <g id=\"axes_15\">\n   <g clip-path=\"url(#p6d31a1dd3b)\">\n    <image xlink:href=\"data:image/png;base64,\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\" id=\"image547563b323\" transform=\"scale(1 -1)translate(0 -75)\" x=\"468.993103\" y=\"-202.24778\" width=\"75\" height=\"75\"/>\n   </g>\n   <g id=\"text_15\">\n    <!-- 6 -->\n    <g style=\"fill: #ffffff\" transform=\"translate(502.665259 196.26847)scale(0.12 -0.12)\">\n     <use xlink:href=\"#DejaVuSans-36\"/>\n    </g>\n   </g>\n  </g>\n  <g id=\"axes_16\">\n   <g clip-path=\"url(#pcd5cf5b561)\">\n    <image xlink:href=\"data:image/png;base64,\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\" id=\"image17d6a6fd8f\" transform=\"scale(1 -1)translate(0 -75)\" x=\"7.2\" y=\"-292.222953\" width=\"75\" height=\"75\"/>\n   </g>\n   <g id=\"text_16\">\n    <!-- 1 -->\n    <g style=\"fill: #ffffff\" transform=\"translate(40.872155 286.243642)scale(0.12 -0.12)\">\n     <use xlink:href=\"#DejaVuSans-31\"/>\n    </g>\n   </g>\n  </g>\n  <g id=\"axes_17\">\n   <g clip-path=\"url(#paa593a666f)\">\n    <image xlink:href=\"data:image/png;base64,\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\" id=\"imagef97d4f06bc\" transform=\"scale(1 -1)translate(0 -75)\" x=\"122.648276\" y=\"-292.222953\" width=\"75\" height=\"75\"/>\n   </g>\n   <g id=\"text_17\">\n    <!-- 1 -->\n    <g style=\"fill: #ffffff\" transform=\"translate(156.320431 286.243642)scale(0.12 -0.12)\">\n     <use xlink:href=\"#DejaVuSans-31\"/>\n    </g>\n   </g>\n  </g>\n  <g id=\"axes_18\">\n   <g clip-path=\"url(#p8ef40a7b73)\">\n    <image xlink:href=\"data:image/png;base64,\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\" id=\"image955947d77d\" transform=\"scale(1 -1)translate(0 -75)\" x=\"238.096552\" y=\"-292.222953\" width=\"75\" height=\"75\"/>\n   </g>\n   <g id=\"text_18\">\n    <!-- 8 -->\n    <g style=\"fill: #ffffff\" transform=\"translate(271.768707 286.243642)scale(0.12 -0.12)\">\n     <use xlink:href=\"#DejaVuSans-38\"/>\n    </g>\n   </g>\n  </g>\n  <g id=\"axes_19\">\n   <g clip-path=\"url(#p9b52af0ad7)\">\n    <image xlink:href=\"data:image/png;base64,\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\" id=\"imagea29b116126\" transform=\"scale(1 -1)translate(0 -75)\" x=\"353.544828\" y=\"-292.222953\" width=\"75\" height=\"75\"/>\n   </g>\n   <g id=\"text_19\">\n    <!-- 8 -->\n    <g style=\"fill: #ffffff\" transform=\"translate(387.216983 286.243642)scale(0.12 -0.12)\">\n     <use xlink:href=\"#DejaVuSans-38\"/>\n    </g>\n   </g>\n  </g>\n  <g id=\"axes_20\">\n   <g clip-path=\"url(#p611f9121b6)\">\n    <image xlink:href=\"data:image/png;base64,\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\" id=\"imagedf974cb558\" transform=\"scale(1 -1)translate(0 -75)\" x=\"468.993103\" y=\"-292.222953\" width=\"75\" height=\"75\"/>\n   </g>\n   <g id=\"text_20\">\n    <!-- 0 -->\n    <g style=\"fill: #ffffff\" transform=\"translate(502.665259 286.243642)scale(0.12 -0.12)\">\n     <use xlink:href=\"#DejaVuSans-30\"/>\n    </g>\n   </g>\n  </g>\n  <g id=\"axes_21\">\n   <g clip-path=\"url(#pdf2665550b)\">\n    <image xlink:href=\"data:image/png;base64,\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\" id=\"imagea4583adf40\" transform=\"scale(1 -1)translate(0 -75)\" x=\"7.2\" y=\"-382.198125\" width=\"75\" height=\"75\"/>\n   </g>\n   <g id=\"text_21\">\n    <!-- 2 -->\n    <g style=\"fill: #ffffff\" transform=\"translate(40.872155 376.218815)scale(0.12 -0.12)\">\n     <use xlink:href=\"#DejaVuSans-32\"/>\n    </g>\n   </g>\n  </g>\n  <g id=\"axes_22\">\n   <g clip-path=\"url(#pde83b238d3)\">\n    <image xlink:href=\"data:image/png;base64,\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\" id=\"imagee8e5e0edee\" transform=\"scale(1 -1)translate(0 -75)\" x=\"122.648276\" y=\"-382.198125\" width=\"75\" height=\"75\"/>\n   </g>\n   <g id=\"text_22\">\n    <!-- 5 -->\n    <g style=\"fill: #ffffff\" transform=\"translate(156.320431 376.218815)scale(0.12 -0.12)\">\n     <use xlink:href=\"#DejaVuSans-35\"/>\n    </g>\n   </g>\n  </g>\n  <g id=\"axes_23\">\n   <g clip-path=\"url(#pf04230c1e6)\">\n    <image xlink:href=\"data:image/png;base64,\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\" id=\"imageb73c05a337\" transform=\"scale(1 -1)translate(0 -75)\" x=\"238.096552\" y=\"-382.198125\" width=\"75\" height=\"75\"/>\n   </g>\n   <g id=\"text_23\">\n    <!-- 6 -->\n    <g style=\"fill: #ffffff\" transform=\"translate(271.768707 376.218815)scale(0.12 -0.12)\">\n     <use xlink:href=\"#DejaVuSans-36\"/>\n    </g>\n   </g>\n  </g>\n  <g id=\"axes_24\">\n   <g clip-path=\"url(#p9d1e609764)\">\n    <image xlink:href=\"data:image/png;base64,\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\" id=\"imagef4a5bd8c72\" transform=\"scale(1 -1)translate(0 -75)\" x=\"353.544828\" y=\"-382.198125\" width=\"75\" height=\"75\"/>\n   </g>\n   <g id=\"text_24\">\n    <!-- 0 -->\n    <g style=\"fill: #ffffff\" transform=\"translate(387.216983 376.218815)scale(0.12 -0.12)\">\n     <use xlink:href=\"#DejaVuSans-30\"/>\n    </g>\n   </g>\n  </g>\n  <g id=\"axes_25\">\n   <g clip-path=\"url(#p76fcf07d4b)\">\n    <image xlink:href=\"data:image/png;base64,\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\" id=\"image8b030b6377\" transform=\"scale(1 -1)translate(0 -75)\" x=\"468.993103\" y=\"-382.198125\" width=\"75\" height=\"75\"/>\n   </g>\n   <g id=\"text_25\">\n    <!-- 5 -->\n    <g style=\"fill: #ffffff\" transform=\"translate(502.665259 376.218815)scale(0.12 -0.12)\">\n     <use xlink:href=\"#DejaVuSans-35\"/>\n    </g>\n   </g>\n  </g>\n </g>\n <defs>\n  <clipPath id=\"p159dfe5c7c\">\n   <rect x=\"7.2\" y=\"22.318125\" width=\"74.97931\" height=\"74.97931\"/>\n  </clipPath>\n  <clipPath id=\"p9159fca6ff\">\n   <rect x=\"122.648276\" y=\"22.318125\" width=\"74.97931\" height=\"74.97931\"/>\n  </clipPath>\n  <clipPath id=\"p44e3bf51b5\">\n   <rect x=\"238.096552\" y=\"22.318125\" width=\"74.97931\" height=\"74.97931\"/>\n  </clipPath>\n  <clipPath id=\"pddfa325c19\">\n   <rect x=\"353.544828\" y=\"22.318125\" width=\"74.97931\" height=\"74.97931\"/>\n  </clipPath>\n  <clipPath id=\"p7dbe50989e\">\n   <rect x=\"468.993103\" y=\"22.318125\" width=\"74.97931\" height=\"74.97931\"/>\n  </clipPath>\n  <clipPath id=\"pd454ebdebf\">\n   <rect x=\"7.2\" y=\"112.293297\" width=\"74.97931\" height=\"74.97931\"/>\n  </clipPath>\n  <clipPath id=\"peb630d06b1\">\n   <rect x=\"122.648276\" y=\"112.293297\" width=\"74.97931\" height=\"74.97931\"/>\n  </clipPath>\n  <clipPath id=\"p0b55e19579\">\n   <rect x=\"238.096552\" y=\"112.293297\" width=\"74.97931\" height=\"74.97931\"/>\n  </clipPath>\n  <clipPath id=\"pfedba08091\">\n   <rect x=\"353.544828\" y=\"112.293297\" width=\"74.97931\" height=\"74.97931\"/>\n  </clipPath>\n  <clipPath id=\"pb21f4f1f17\">\n   <rect x=\"468.993103\" y=\"112.293297\" width=\"74.97931\" height=\"74.97931\"/>\n  </clipPath>\n  <clipPath id=\"p8ef888a3a2\">\n   <rect x=\"7.2\" y=\"202.26847\" width=\"74.97931\" height=\"74.97931\"/>\n  </clipPath>\n  <clipPath id=\"pffd0cbd6cb\">\n   <rect x=\"122.648276\" y=\"202.26847\" width=\"74.97931\" height=\"74.97931\"/>\n  </clipPath>\n  <clipPath id=\"p66941c9b7c\">\n   <rect x=\"238.096552\" y=\"202.26847\" width=\"74.97931\" height=\"74.97931\"/>\n  </clipPath>\n  <clipPath id=\"pa7fc618d13\">\n   <rect x=\"353.544828\" y=\"202.26847\" width=\"74.97931\" height=\"74.97931\"/>\n  </clipPath>\n  <clipPath id=\"p6d31a1dd3b\">\n   <rect x=\"468.993103\" y=\"202.26847\" width=\"74.97931\" height=\"74.97931\"/>\n  </clipPath>\n  <clipPath id=\"pcd5cf5b561\">\n   <rect x=\"7.2\" y=\"292.243642\" width=\"74.97931\" height=\"74.97931\"/>\n  </clipPath>\n  <clipPath id=\"paa593a666f\">\n   <rect x=\"122.648276\" y=\"292.243642\" width=\"74.97931\" height=\"74.97931\"/>\n  </clipPath>\n  <clipPath id=\"p8ef40a7b73\">\n   <rect x=\"238.096552\" y=\"292.243642\" width=\"74.97931\" height=\"74.97931\"/>\n  </clipPath>\n  <clipPath id=\"p9b52af0ad7\">\n   <rect x=\"353.544828\" y=\"292.243642\" width=\"74.97931\" height=\"74.97931\"/>\n  </clipPath>\n  <clipPath id=\"p611f9121b6\">\n   <rect x=\"468.993103\" y=\"292.243642\" width=\"74.97931\" height=\"74.97931\"/>\n  </clipPath>\n  <clipPath id=\"pdf2665550b\">\n   <rect x=\"7.2\" y=\"382.218815\" width=\"74.97931\" height=\"74.97931\"/>\n  </clipPath>\n  <clipPath id=\"pde83b238d3\">\n   <rect x=\"122.648276\" y=\"382.218815\" width=\"74.97931\" height=\"74.97931\"/>\n  </clipPath>\n  <clipPath id=\"pf04230c1e6\">\n   <rect x=\"238.096552\" y=\"382.218815\" width=\"74.97931\" height=\"74.97931\"/>\n  </clipPath>\n  <clipPath id=\"p9d1e609764\">\n   <rect x=\"353.544828\" y=\"382.218815\" width=\"74.97931\" height=\"74.97931\"/>\n  </clipPath>\n  <clipPath id=\"p76fcf07d4b\">\n   <rect x=\"468.993103\" y=\"382.218815\" width=\"74.97931\" height=\"74.97931\"/>\n  </clipPath>\n </defs>\n</svg>\n",
            "text/plain": [
              "<Figure size 720x576 with 25 Axes>"
            ]
          },
          "metadata": {
            "needs_background": "dark"
          },
          "output_type": "display_data"
        }
      ],
      "source": [
        "batch_size = 64\n",
        "\n",
        "# Create data loaders.\n",
        "train_dataloader = DataLoader(training_data, batch_size=batch_size)\n",
        "test_dataloader = DataLoader(test_data, batch_size=batch_size)\n",
        "\n",
        "for X, y in test_dataloader:\n",
        "    print(\"Shape of X [N, C, H, W]: \", X.shape)\n",
        "    print(\"Shape of y: \", y.shape, y.dtype)\n",
        "    break\n",
        "    \n",
        "# Display sample data\n",
        "figure = plt.figure(figsize=(10, 8))\n",
        "cols, rows = 5, 5\n",
        "for i in range(1, cols * rows + 1):\n",
        "    idx = torch.randint(len(test_data), size=(1,)).item()\n",
        "    img, label = test_data[idx]\n",
        "    figure.add_subplot(rows, cols, i)\n",
        "    plt.title(label)\n",
        "    plt.axis(\"off\")\n",
        "    plt.imshow(img.squeeze(), cmap=\"gray\")\n",
        "plt.show()"
      ]
    },
    {
      "cell_type": "markdown",
      "metadata": {},
      "source": [
        "## Creating models\n",
        "To define a neural network in PyTorch, we create a class that inherits from `nn.Module`. We define the layers of the network in the ``__init__`` function and specify how data will pass through the network in the ``forward`` function. To accelerate operations in the neural network, we move it to the GPU if available.\n",
        "\n"
      ]
    },
    {
      "cell_type": "code",
      "execution_count": 5,
      "metadata": {},
      "outputs": [
        {
          "name": "stdout",
          "output_type": "stream",
          "text": [
            "Using cpu device\n",
            "NeuralNetwork(\n",
            "  (flatten): Flatten(start_dim=1, end_dim=-1)\n",
            "  (linear_relu_stack): Sequential(\n",
            "    (0): Linear(in_features=784, out_features=512, bias=True)\n",
            "    (1): ReLU()\n",
            "    (2): Linear(in_features=512, out_features=512, bias=True)\n",
            "    (3): ReLU()\n",
            "    (4): Linear(in_features=512, out_features=10, bias=True)\n",
            "    (5): ReLU()\n",
            "  )\n",
            ")\n"
          ]
        }
      ],
      "source": [
        "# Get cpu or gpu device for training.\n",
        "device = \"cuda\" if torch.cuda.is_available() else \"cpu\"\n",
        "print(\"Using {} device\".format(device))\n",
        "\n",
        "# Define model\n",
        "class NeuralNetwork(nn.Module):\n",
        "    def __init__(self):\n",
        "        super(NeuralNetwork, self).__init__()\n",
        "        self.flatten = nn.Flatten()\n",
        "        self.linear_relu_stack = nn.Sequential(\n",
        "            nn.Linear(28*28, 512),\n",
        "            nn.ReLU(),\n",
        "            nn.Linear(512, 512),\n",
        "            nn.ReLU(),\n",
        "            nn.Linear(512, 10),\n",
        "            nn.ReLU()\n",
        "        )\n",
        "\n",
        "    def forward(self, x):\n",
        "        x = self.flatten(x)\n",
        "        logits = self.linear_relu_stack(x)\n",
        "        return logits\n",
        "\n",
        "model = NeuralNetwork().to(device)\n",
        "print(model)"
      ]
    },
    {
      "cell_type": "markdown",
      "metadata": {},
      "source": [
        "## Optimizing the Model Parameters\n",
        "To train a model, we need a loss function and an optimizer.  We'll be using `nn.CrossEntropyLoss` for loss and `Stochastic Gradient Descent` for optimization."
      ]
    },
    {
      "cell_type": "code",
      "execution_count": 6,
      "metadata": {},
      "outputs": [],
      "source": [
        "loss_fn = nn.CrossEntropyLoss()\n",
        "learning_rate = 1e-3\n",
        "optimizer = torch.optim.SGD(model.parameters(), lr=learning_rate)"
      ]
    },
    {
      "cell_type": "markdown",
      "metadata": {},
      "source": [
        "In a single training loop, the model makes predictions on the training dataset (fed to it in batches), and back-propagates the prediction error to adjust the model's parameters. \n",
        "\n"
      ]
    },
    {
      "cell_type": "code",
      "execution_count": 7,
      "metadata": {},
      "outputs": [],
      "source": [
        "def train(dataloader, model, loss_fn, optimizer):\n",
        "    size = len(dataloader.dataset)\n",
        "    for batch, (X, y) in enumerate(dataloader):\n",
        "        X, y = X.to(device), y.to(device)\n",
        "        \n",
        "        # Compute prediction error\n",
        "        pred = model(X)\n",
        "        loss = loss_fn(pred, y)\n",
        "        \n",
        "        # Backpropagation\n",
        "        optimizer.zero_grad()\n",
        "        loss.backward()\n",
        "        optimizer.step()\n",
        "\n",
        "        if batch % 100 == 0:\n",
        "            loss, current = loss.item(), batch * len(X)\n",
        "            print(f\"loss: {loss:>7f}  [{current:>5d}/{size:>5d}]\")"
      ]
    },
    {
      "cell_type": "markdown",
      "metadata": {},
      "source": [
        "We can also check the model's performance against the test dataset to ensure it is learning.\n"
      ]
    },
    {
      "cell_type": "code",
      "execution_count": 8,
      "metadata": {},
      "outputs": [],
      "source": [
        "def test(dataloader, model):\n",
        "    size = len(dataloader.dataset)\n",
        "    model.eval()\n",
        "    test_loss, correct = 0, 0\n",
        "    with torch.no_grad():\n",
        "        for X, y in dataloader:\n",
        "            X, y = X.to(device), y.to(device)\n",
        "            pred = model(X)\n",
        "            test_loss += loss_fn(pred, y).item()\n",
        "            correct += (pred.argmax(1) == y).type(torch.float).sum().item()\n",
        "    test_loss /= size\n",
        "    correct /= size\n",
        "    print(f\"Test Error: \\n Accuracy: {(100*correct):>0.1f}%, Avg loss: {test_loss:>8f} \\n\")"
      ]
    },
    {
      "cell_type": "markdown",
      "metadata": {},
      "source": [
        "The training process is conducted over several iterations (*epochs*). During each epoch, the model learns parameters to make better predictions. We print the model's accuracy and loss at each epoch; we'd like to see the accuracy increase and the loss decrease with every epoch.\n",
        "\n"
      ]
    },
    {
      "cell_type": "code",
      "execution_count": 9,
      "metadata": {},
      "outputs": [
        {
          "name": "stdout",
          "output_type": "stream",
          "text": [
            "Epoch 1\n",
            "-------------------------------\n",
            "loss: 2.300579  [    0/60000]\n",
            "loss: 2.297553  [ 6400/60000]\n",
            "loss: 2.290572  [12800/60000]\n",
            "loss: 2.292020  [19200/60000]\n",
            "loss: 2.297928  [25600/60000]\n",
            "loss: 2.269583  [32000/60000]\n",
            "loss: 2.291277  [38400/60000]\n",
            "loss: 2.269091  [44800/60000]\n",
            "loss: 2.253612  [51200/60000]\n",
            "loss: 2.258943  [57600/60000]\n",
            "Test Error: \n",
            " Accuracy: 28.8%, Avg loss: 0.035452 \n",
            "\n",
            "Epoch 2\n",
            "-------------------------------\n",
            "loss: 2.246943  [    0/60000]\n",
            "loss: 2.259677  [ 6400/60000]\n",
            "loss: 2.229578  [12800/60000]\n",
            "loss: 2.239804  [19200/60000]\n",
            "loss: 2.267497  [25600/60000]\n",
            "loss: 2.200276  [32000/60000]\n",
            "loss: 2.238980  [38400/60000]\n",
            "loss: 2.204395  [44800/60000]\n",
            "loss: 2.174955  [51200/60000]\n",
            "loss: 2.180586  [57600/60000]\n",
            "Test Error: \n",
            " Accuracy: 35.2%, Avg loss: 0.034356 \n",
            "\n",
            "Epoch 3\n",
            "-------------------------------\n",
            "loss: 2.174190  [    0/60000]\n",
            "loss: 2.197438  [ 6400/60000]\n",
            "loss: 2.141653  [12800/60000]\n",
            "loss: 2.157779  [19200/60000]\n",
            "loss: 2.221548  [25600/60000]\n",
            "loss: 2.104697  [32000/60000]\n",
            "loss: 2.161647  [38400/60000]\n",
            "loss: 2.116193  [44800/60000]\n",
            "loss: 2.065719  [51200/60000]\n",
            "loss: 2.069901  [57600/60000]\n",
            "Test Error: \n",
            " Accuracy: 39.0%, Avg loss: 0.032837 \n",
            "\n",
            "Epoch 4\n",
            "-------------------------------\n",
            "loss: 2.076071  [    0/60000]\n",
            "loss: 2.108656  [ 6400/60000]\n",
            "loss: 2.023129  [12800/60000]\n",
            "loss: 2.044304  [19200/60000]\n",
            "loss: 2.161117  [25600/60000]\n",
            "loss: 1.989039  [32000/60000]\n",
            "loss: 2.058884  [38400/60000]\n",
            "loss: 2.012280  [44800/60000]\n",
            "loss: 1.938065  [51200/60000]\n",
            "loss: 1.939139  [57600/60000]\n",
            "Test Error: \n",
            " Accuracy: 41.6%, Avg loss: 0.031136 \n",
            "\n",
            "Epoch 5\n",
            "-------------------------------\n",
            "loss: 1.967582  [    0/60000]\n",
            "loss: 2.011184  [ 6400/60000]\n",
            "loss: 1.902935  [12800/60000]\n",
            "loss: 1.926245  [19200/60000]\n",
            "loss: 2.097972  [25600/60000]\n",
            "loss: 1.882046  [32000/60000]\n",
            "loss: 1.959753  [38400/60000]\n",
            "loss: 1.925756  [44800/60000]\n",
            "loss: 1.830765  [51200/60000]\n",
            "loss: 1.826059  [57600/60000]\n",
            "Test Error: \n",
            " Accuracy: 42.2%, Avg loss: 0.029693 \n",
            "\n",
            "Epoch 6\n",
            "-------------------------------\n",
            "loss: 1.879496  [    0/60000]\n",
            "loss: 1.928310  [ 6400/60000]\n",
            "loss: 1.807520  [12800/60000]\n",
            "loss: 1.831714  [19200/60000]\n",
            "loss: 2.031007  [25600/60000]\n",
            "loss: 1.797155  [32000/60000]\n",
            "loss: 1.880167  [38400/60000]\n",
            "loss: 1.861159  [44800/60000]\n",
            "loss: 1.752159  [51200/60000]\n",
            "loss: 1.739832  [57600/60000]\n",
            "Test Error: \n",
            " Accuracy: 43.2%, Avg loss: 0.028520 \n",
            "\n",
            "Epoch 7\n",
            "-------------------------------\n",
            "loss: 1.808635  [    0/60000]\n",
            "loss: 1.859480  [ 6400/60000]\n",
            "loss: 1.730016  [12800/60000]\n",
            "loss: 1.756036  [19200/60000]\n",
            "loss: 1.963501  [25600/60000]\n",
            "loss: 1.724261  [32000/60000]\n",
            "loss: 1.814483  [38400/60000]\n",
            "loss: 1.807570  [44800/60000]\n",
            "loss: 1.691721  [51200/60000]\n",
            "loss: 1.672034  [57600/60000]\n",
            "Test Error: \n",
            " Accuracy: 44.1%, Avg loss: 0.027538 \n",
            "\n",
            "Epoch 8\n",
            "-------------------------------\n",
            "loss: 1.746633  [    0/60000]\n",
            "loss: 1.801460  [ 6400/60000]\n",
            "loss: 1.664297  [12800/60000]\n",
            "loss: 1.692379  [19200/60000]\n",
            "loss: 1.903327  [25600/60000]\n",
            "loss: 1.659782  [32000/60000]\n",
            "loss: 1.760516  [38400/60000]\n",
            "loss: 1.762796  [44800/60000]\n",
            "loss: 1.643312  [51200/60000]\n",
            "loss: 1.620189  [57600/60000]\n",
            "Test Error: \n",
            " Accuracy: 44.7%, Avg loss: 0.026722 \n",
            "\n",
            "Epoch 9\n",
            "-------------------------------\n",
            "loss: 1.693515  [    0/60000]\n",
            "loss: 1.752697  [ 6400/60000]\n",
            "loss: 1.608559  [12800/60000]\n",
            "loss: 1.637407  [19200/60000]\n",
            "loss: 1.854094  [25600/60000]\n",
            "loss: 1.605073  [32000/60000]\n",
            "loss: 1.715956  [38400/60000]\n",
            "loss: 1.725014  [44800/60000]\n",
            "loss: 1.601506  [51200/60000]\n",
            "loss: 1.581419  [57600/60000]\n",
            "Test Error: \n",
            " Accuracy: 45.3%, Avg loss: 0.026046 \n",
            "\n",
            "Epoch 10\n",
            "-------------------------------\n",
            "loss: 1.645480  [    0/60000]\n",
            "loss: 1.713026  [ 6400/60000]\n",
            "loss: 1.561409  [12800/60000]\n",
            "loss: 1.591478  [19200/60000]\n",
            "loss: 1.812821  [25600/60000]\n",
            "loss: 1.558333  [32000/60000]\n",
            "loss: 1.678773  [38400/60000]\n",
            "loss: 1.692829  [44800/60000]\n",
            "loss: 1.564624  [51200/60000]\n",
            "loss: 1.552058  [57600/60000]\n",
            "Test Error: \n",
            " Accuracy: 45.9%, Avg loss: 0.025481 \n",
            "\n",
            "Epoch 11\n",
            "-------------------------------\n",
            "loss: 1.601540  [    0/60000]\n",
            "loss: 1.680550  [ 6400/60000]\n",
            "loss: 1.521637  [12800/60000]\n",
            "loss: 1.553052  [19200/60000]\n",
            "loss: 1.778906  [25600/60000]\n",
            "loss: 1.518953  [32000/60000]\n",
            "loss: 1.647209  [38400/60000]\n",
            "loss: 1.666108  [44800/60000]\n",
            "loss: 1.531481  [51200/60000]\n",
            "loss: 1.528555  [57600/60000]\n",
            "Test Error: \n",
            " Accuracy: 46.6%, Avg loss: 0.025001 \n",
            "\n",
            "Epoch 12\n",
            "-------------------------------\n",
            "loss: 1.560804  [    0/60000]\n",
            "loss: 1.653785  [ 6400/60000]\n",
            "loss: 1.487820  [12800/60000]\n",
            "loss: 1.520693  [19200/60000]\n",
            "loss: 1.750818  [25600/60000]\n",
            "loss: 1.485926  [32000/60000]\n",
            "loss: 1.620361  [38400/60000]\n",
            "loss: 1.642134  [44800/60000]\n",
            "loss: 1.501024  [51200/60000]\n",
            "loss: 1.510211  [57600/60000]\n",
            "Test Error: \n",
            " Accuracy: 47.8%, Avg loss: 0.024588 \n",
            "\n",
            "Epoch 13\n",
            "-------------------------------\n",
            "loss: 1.523487  [    0/60000]\n",
            "loss: 1.631030  [ 6400/60000]\n",
            "loss: 1.458523  [12800/60000]\n",
            "loss: 1.493717  [19200/60000]\n",
            "loss: 1.728336  [25600/60000]\n",
            "loss: 1.458027  [32000/60000]\n",
            "loss: 1.597463  [38400/60000]\n",
            "loss: 1.621248  [44800/60000]\n",
            "loss: 1.473408  [51200/60000]\n",
            "loss: 1.494768  [57600/60000]\n",
            "Test Error: \n",
            " Accuracy: 48.9%, Avg loss: 0.024231 \n",
            "\n",
            "Epoch 14\n",
            "-------------------------------\n",
            "loss: 1.489506  [    0/60000]\n",
            "loss: 1.610620  [ 6400/60000]\n",
            "loss: 1.432381  [12800/60000]\n",
            "loss: 1.471232  [19200/60000]\n",
            "loss: 1.710223  [25600/60000]\n",
            "loss: 1.433771  [32000/60000]\n",
            "loss: 1.577186  [38400/60000]\n",
            "loss: 1.603223  [44800/60000]\n",
            "loss: 1.448403  [51200/60000]\n",
            "loss: 1.480582  [57600/60000]\n",
            "Test Error: \n",
            " Accuracy: 50.0%, Avg loss: 0.023915 \n",
            "\n",
            "Epoch 15\n",
            "-------------------------------\n",
            "loss: 1.458100  [    0/60000]\n",
            "loss: 1.591892  [ 6400/60000]\n",
            "loss: 1.409088  [12800/60000]\n",
            "loss: 1.452152  [19200/60000]\n",
            "loss: 1.694415  [25600/60000]\n",
            "loss: 1.412064  [32000/60000]\n",
            "loss: 1.558861  [38400/60000]\n",
            "loss: 1.587400  [44800/60000]\n",
            "loss: 1.425474  [51200/60000]\n",
            "loss: 1.468329  [57600/60000]\n",
            "Test Error: \n",
            " Accuracy: 50.8%, Avg loss: 0.023630 \n",
            "\n",
            "Done!\n"
          ]
        }
      ],
      "source": [
        "epochs = 15\n",
        "for t in range(epochs):\n",
        "    print(f\"Epoch {t+1}\\n-------------------------------\")\n",
        "    train(train_dataloader, model, loss_fn, optimizer)\n",
        "    test(test_dataloader, model)\n",
        "print(\"Done!\")"
      ]
    },
    {
      "cell_type": "markdown",
      "metadata": {},
      "source": [
        "The accuracy will initially not be very good (that's OK!). Try running the loop for more `epochs` or adjusting the `learning_rate` to a bigger number. It might also be the case that the model configuration we chose might not be the optimal one for this kind of problem (it isn't). Later courses will delve more into the model shapes that work for vision problems."
      ]
    },
    {
      "cell_type": "markdown",
      "metadata": {},
      "source": [
        "Saving Models\n",
        "-------------\n",
        "A common way to save a model is to serialize the internal state dictionary (containing the model parameters).\n",
        "\n"
      ]
    },
    {
      "cell_type": "code",
      "execution_count": 10,
      "metadata": {},
      "outputs": [
        {
          "name": "stdout",
          "output_type": "stream",
          "text": [
            "Saved PyTorch Model State to model.pth\n"
          ]
        }
      ],
      "source": [
        "torch.save(model.state_dict(), \"data/model.pth\")\n",
        "print(\"Saved PyTorch Model State to model.pth\")"
      ]
    },
    {
      "cell_type": "markdown",
      "metadata": {},
      "source": [
        "Loading Models\n",
        "----------------------------\n",
        "\n",
        "The process for loading a model includes re-creating the model structure and loading\n",
        "the state dictionary into it. \n",
        "\n"
      ]
    },
    {
      "cell_type": "code",
      "execution_count": 11,
      "metadata": {},
      "outputs": [
        {
          "data": {
            "text/plain": [
              "<All keys matched successfully>"
            ]
          },
          "execution_count": 11,
          "metadata": {},
          "output_type": "execute_result"
        }
      ],
      "source": [
        "model = NeuralNetwork()\n",
        "model.load_state_dict(torch.load(\"data/model.pth\"))"
      ]
    },
    {
      "cell_type": "markdown",
      "metadata": {},
      "source": [
        "This model can now be used to make predictions.\n",
        "\n"
      ]
    },
    {
      "cell_type": "code",
      "execution_count": 12,
      "metadata": {},
      "outputs": [
        {
          "name": "stdout",
          "output_type": "stream",
          "text": [
            "Predicted: \"Sandal\", Actual: \"Ankle boot\"\n"
          ]
        }
      ],
      "source": [
        "classes = [\n",
        "    \"T-shirt/top\",\n",
        "    \"Trouser\",\n",
        "    \"Pullover\",\n",
        "    \"Dress\",\n",
        "    \"Coat\",\n",
        "    \"Sandal\",\n",
        "    \"Shirt\",\n",
        "    \"Sneaker\",\n",
        "    \"Bag\",\n",
        "    \"Ankle boot\",\n",
        "]\n",
        "\n",
        "model.eval()\n",
        "x, y = test_data[0][0], test_data[0][1]\n",
        "with torch.no_grad():\n",
        "    pred = model(x)\n",
        "    predicted, actual = classes[pred[0].argmax(0)], classes[y]\n",
        "    print(f'Predicted: \"{predicted}\", Actual: \"{actual}\"')"
      ]
    },
    {
      "cell_type": "markdown",
      "metadata": {},
      "source": [
        "Congratulations! You have completed the PyTorch beginner tutorial! We hope this tutorial has helped you get started with deep learning on PyTorch."
      ]
    }
  ],
  "metadata": {
    "interpreter": {
      "hash": "26de051ba29f2982a8de78e945f0abaf191376122a1563185a90213a26c5da77"
    },
    "kernelspec": {
      "display_name": "Python 3.10.4 64-bit",
      "language": "python",
      "name": "python3"
    },
    "language_info": {
      "codemirror_mode": {
        "name": "ipython",
        "version": 3
      },
      "file_extension": ".py",
      "mimetype": "text/x-python",
      "name": "python",
      "nbconvert_exporter": "python",
      "pygments_lexer": "ipython3",
      "version": "3.10.4"
    },
    "nteract": {
      "version": "nteract-front-end@1.0.0"
    }
  },
  "nbformat": 4,
  "nbformat_minor": 1
}