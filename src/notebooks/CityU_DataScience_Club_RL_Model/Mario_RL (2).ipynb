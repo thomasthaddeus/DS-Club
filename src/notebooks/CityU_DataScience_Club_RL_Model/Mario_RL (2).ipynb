{
 "cells": [
  {
   "attachments": {},
   "cell_type": "markdown",
   "id": "d439e7cf",
   "metadata": {},
   "source": [
    "# CityU_DataScience_Club_RL_Model\n",
    "\n",
    "For those interested in building a gaming Reinforcement Learning model, here is a sample code.\n",
    "\n",
    "Library versions used is compatible with Python 3.8...\n"
   ]
  },
  {
   "attachments": {},
   "cell_type": "markdown",
   "id": "2403cbde",
   "metadata": {},
   "source": [
    "## Installing OpenAI Gym and Stable Baselines\n"
   ]
  },
  {
   "cell_type": "code",
   "execution_count": 1,
   "id": "af7ea02b-db7c-4fd4-97cf-9b037724cb4a",
   "metadata": {},
   "outputs": [],
   "source": [
    "# # Install super mario game environment and NES emulator and OpenAI Gym interface\n",
    "# # install stable baselines for RL algorithms\n",
    "\n",
    "# %pip install gym_super_mario_bros\n",
    "# %pip install nes_py\n",
    "# %pip install 'stable-baselines3[extra]'  # current version\n",
    "\n",
    "# Import os for file path management\n",
    "import os\n",
    "\n",
    "# Import the Joypad wrapper\n",
    "# Requires cpp version 14 or later\n",
    "from nes_py.wrappers import JoypadSpace\n",
    "import gym_super_mario_bros\n",
    "\n",
    "# Import simplified controls for AI to learn faster\n",
    "from gym_super_mario_bros.actions import SIMPLE_MOVEMENT\n",
    "\n",
    "# Import Frame Stacker Wrapper and GrayScaling Wrapper\n",
    "from gym.wrappers import GrayScaleObservation\n",
    "\n",
    "# Import  Vectorization Wrappers\n",
    "from stable_baselines3.common.vec_env import VecFrameStack, DummyVecEnv\n",
    "from stable_baselines3 import PPO   # algorithm used for training the model\n",
    "\n",
    "# Import Matplotlib to show impact of frame stacking\n",
    "from matplotlib import pyplot as plt\n"
   ]
  },
  {
   "attachments": {},
   "cell_type": "markdown",
   "id": "c9785d62",
   "metadata": {},
   "source": [
    "## Setup Mario\n",
    "\n",
    "### Import game"
   ]
  },
  {
   "cell_type": "code",
   "execution_count": 6,
   "id": "b2a33def",
   "metadata": {},
   "outputs": [
    {
     "name": "stdout",
     "output_type": "stream",
     "text": [
      "(240, 256, 3)\n"
     ]
    }
   ],
   "source": [
    "# check Actions\n",
    "SIMPLE_MOVEMENT\n",
    "\n",
    "# Setup game\n",
    "env = gym_super_mario_bros.make(\"SuperMarioBros-v0\")\n",
    "env = JoypadSpace(env, SIMPLE_MOVEMENT)  # simplifies actions\n",
    "env.action_space\n",
    "\n",
    "env.observation_space\n",
    "print(env.observation_space.shape)\n",
    "\n",
    "\n",
    "# Create a flag- restart or not\n",
    "done = True\n",
    "# Loop through each frame in the game\n",
    "for frame in range(100000):\n",
    "    if done:\n",
    "        # Start or restart the game\n",
    "        env.reset()\n",
    "    # Pass an action for the game randomly: left, right, etc. from SIMPLE_MOVEMENT\n",
    "    observation, reward, terminated, truncated, info = env.step(env.action_space.sample())\n",
    "    # Show the game on the screen\n",
    "    env.render()\n",
    "# Closes the game\n",
    "env.close()\n"
   ]
  },
  {
   "attachments": {},
   "cell_type": "markdown",
   "id": "6cb64a08-3b86-46ae-8307-a7353a6a45c8",
   "metadata": {},
   "source": [
    "## Pre-process Environment\n"
   ]
  },
  {
   "attachments": {},
   "cell_type": "markdown",
   "id": "2a739ec7",
   "metadata": {},
   "source": [
    "GrayScaleObservation - converts colored frames into grayscale to cut down on computation time and making the training faster\n",
    "\n",
    "VecFrameStack - capture several frames while playing the game, vectorize and stack them together. AI will be able to see the actions taken for those frames and learn from them\n",
    "\n",
    "DummyVecEnv - wrap stacked frames with the dummy vector environment created for stable baseline and train agent in multiple environments at the same time\n"
   ]
  },
  {
   "cell_type": "code",
   "execution_count": null,
   "id": "9fd361a7",
   "metadata": {},
   "outputs": [],
   "source": [
    "# Setup the base environment\n",
    "env = gym_super_mario_bros.make(\"SuperMarioBros-v0\")  # standard version\n",
    "# Simplify the controls or actions\n",
    "env = JoypadSpace(env, SIMPLE_MOVEMENT)\n",
    "\n",
    "state = env.reset()\n",
    "shp = state.shape\n",
    "\n",
    "# Show original game frame\n",
    "plt.imshow(state)\n",
    "\n",
    "# Convert to gray scale to minimize data for preprocessing\n",
    "env = GrayScaleObservation(\n",
    "    env, keep_dim=True\n",
    ")  # keep dimension to be able to apply stacking\n",
    "\n",
    "# Show game frame after gray scale conversion\n",
    "plt.imshow(state)\n",
    "shp\n",
    "\n",
    "# Wrap inside the Dummy environment\n",
    "env = DummyVecEnv([lambda: env])\n",
    "shp\n",
    "\n",
    "# Show game frame after dummy environment vectorization\n",
    "plt.imshow(state[0])\n",
    "\n",
    "# Stack 4 different frames or images together and apply channel order to last.\n",
    "env = VecFrameStack(env, 4, channels_order=\"last\")\n",
    "state = env.reset()\n",
    "shp\n",
    "\n",
    "# Show game frame after stacking frames\n",
    "plt.imshow(state[0])\n",
    "\n",
    "state, reward, done, info = env.step([env.action_space.sample()])\n",
    "\n",
    "# Show game frame after stacking\n",
    "plt.figure(figsize=(20, 16))\n",
    "for i in range(state.shape[3]):\n",
    "    plt.subplot(1, 4, i + 1)\n",
    "    plt.imshow(state[0][:, :, i])\n",
    "plt.show()\n",
    "state = env.reset()\n",
    "\n",
    "SIMPLE_MOVEMENT\n",
    "\n",
    "# run several times to show mario jumping\n",
    "state, reward, done, info = env.step([5])\n",
    "\n",
    "# Show game frame after stacking frames\n",
    "plt.figure(figsize=(20, 16)) \n",
    "for i in range(state.shape[3]):\n",
    "    plt.subplot(1, 4, i + 1)\n",
    "    plt.imshow(state[0][:, :, i])\n",
    "plt.show()"
   ]
  },
  {
   "attachments": {},
   "cell_type": "markdown",
   "id": "b1fdc6f0-3107-4072-a275-6762d83ab7f3",
   "metadata": {},
   "source": [
    "# Train the model\n"
   ]
  },
  {
   "cell_type": "code",
   "execution_count": null,
   "id": "6509d835-5b0d-4e66-9645-690cd6ef5e2e",
   "metadata": {},
   "outputs": [],
   "source": [
    "# Save training parameters, results, and logs\n",
    "log_path = os.path.join(\"Training\", \"Logs\")\n",
    "\n",
    "# Create a Reinforcement Learning AI model\n",
    "model = PPO(\n",
    "    \"CnnPolicy\",\n",
    "    env,\n",
    "    verbose=1,\n",
    "    tensorboard_log=log_path,\n",
    "    learning_rate=0.000001,\n",
    "    n_steps=512,\n",
    ")\n",
    "model.learn(\n",
    "    total_timesteps=10000\n",
    ")  # change to higher value for better results - may take hours without GPU"
   ]
  },
  {
   "attachments": {},
   "cell_type": "markdown",
   "id": "135fea66",
   "metadata": {},
   "source": [
    "### Save the model\n"
   ]
  },
  {
   "cell_type": "code",
   "execution_count": null,
   "id": "a16fb963-f92c-47e3-9dbf-41b1353013da",
   "metadata": {},
   "outputs": [],
   "source": [
    "model.save(\"mario_model_10000\")"
   ]
  },
  {
   "attachments": {},
   "cell_type": "markdown",
   "id": "d226d256",
   "metadata": {},
   "source": [
    "### Load the model\n"
   ]
  },
  {
   "cell_type": "code",
   "execution_count": null,
   "id": "06929c88-f632-4f3b-ab81-012782031f8a",
   "metadata": {},
   "outputs": [],
   "source": [
    "model = PPO.load(\"mario_model_10000\")"
   ]
  },
  {
   "attachments": {},
   "cell_type": "markdown",
   "id": "0574a14b-5a2f-49e7-87c6-4ab4a7eda9ad",
   "metadata": {},
   "source": [
    "### Test the model\n"
   ]
  },
  {
   "cell_type": "code",
   "execution_count": null,
   "id": "1e420f30-7232-4107-a03b-852609aafccc",
   "metadata": {},
   "outputs": [],
   "source": [
    "state = env.reset()\n",
    "while True:\n",
    "    actions, _ = model.predict(state)\n",
    "    state, reward, done, info = env.step(actions)\n",
    "    env.render()\n"
   ]
  }
 ],
 "metadata": {
  "kernelspec": {
   "display_name": "Python 3.10.5 64-bit",
   "language": "python",
   "name": "python3"
  },
  "language_info": {
   "codemirror_mode": {
    "name": "ipython",
    "version": 3
   },
   "file_extension": ".py",
   "mimetype": "text/x-python",
   "name": "python",
   "nbconvert_exporter": "python",
   "pygments_lexer": "ipython3",
   "version": "3.11.4"
  },
  "vscode": {
   "interpreter": {
    "hash": "26de051ba29f2982a8de78e945f0abaf191376122a1563185a90213a26c5da77"
   }
  }
 },
 "nbformat": 4,
 "nbformat_minor": 5
}
