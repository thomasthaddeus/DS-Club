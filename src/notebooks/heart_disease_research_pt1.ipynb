{
 "cells": [
  {
   "attachments": {},
   "cell_type": "markdown",
   "metadata": {},
   "source": [
    "# DATA SCIENTIST: NATURAL LANGUAGE PROCESSING SPECIALIST\n",
    "\n",
    "## Heart Disease Research Part I\n",
    "\n",
    "In this project, you’ll investigate some data from a sample patients who were evaluated for heart disease at the Cleveland Clinic Foundation. The data was downloaded from the UCI Machine Learning Repository and then cleaned for analysis. The principal investigators responsible for data collection were:\n",
    "\n",
    "1. Hungarian Institute of Cardiology. Budapest: Andras Janosi, M.D.\n",
    "2. University Hospital, Zurich, Switzerland: William Steinbrunn, M.D.\n",
    "3. University Hospital, Basel, Switzerland: Matthias Pfisterer, M.D.\n",
    "4. V.A. Medical Center, Long Beach and Cleveland Clinic Foundation: Robert Detrano, M.D., Ph.D.\n"
   ]
  },
  {
   "cell_type": "code",
   "execution_count": 14,
   "metadata": {},
   "outputs": [],
   "source": [
    "# import libraries\n",
    "from scipy.stats import ttest_1samp, binomtest\n",
    "import pandas as pd\n",
    "import numpy as np\n",
    "\n",
    "# load data\n",
    "heart = pd.read_csv('../data/heart_disease.csv')\n",
    "yes_hd = heart[heart.heart_disease == 'presence']\n",
    "no_hd = heart[heart.heart_disease == 'absence']\n"
   ]
  },
  {
   "attachments": {},
   "cell_type": "markdown",
   "metadata": {},
   "source": [
    "### Cholesterol Analysis\n",
    "\n",
    "1. The full dataset has been loaded for you as heart, then split into two subsets:\n",
    "\n",
    "    yes_hd, which contains data for patients with heart disease\n",
    "    no_hd, which contains data for patients without heart disease\n",
    "    For this project, we’ll investigate the following variables:\n",
    "\n",
    "    **chol**: serum cholestorol in mg/dl\n",
    "    **fbs**: An indicator for whether fasting blood sugar is greater than 120 mg/dl (1 = true; 0 = false)\n",
    "    To start, we’ll investigate cholesterol levels for patients with heart disease. Use the dataset yes_hd to save cholesterol levels for patients with heart disease as a variable named chol_hd."
   ]
  },
  {
   "cell_type": "code",
   "execution_count": 15,
   "metadata": {},
   "outputs": [],
   "source": [
    "# get cholesterol levels for patients with heart disease\n",
    "chol_hd = yes_hd.chol"
   ]
  },
  {
   "attachments": {},
   "cell_type": "markdown",
   "metadata": {},
   "source": [
    "2. In general, total cholesterol over 240 mg/dl is considered \"high\" (and therefore unhealthy). Calculate the mean cholesterol level for patients who were diagnosed with heart disease and print it out. Is it higher than 240 mg/dl?"
   ]
  },
  {
   "cell_type": "code",
   "execution_count": 16,
   "metadata": {},
   "outputs": [
    {
     "name": "stdout",
     "output_type": "stream",
     "text": [
      "251.4748201438849\n"
     ]
    }
   ],
   "source": [
    "# calculate mean cholesterol level for patients with hd\n",
    "print(np.mean(chol_hd))"
   ]
  },
  {
   "attachments": {},
   "cell_type": "markdown",
   "metadata": {},
   "source": [
    "3. Do people with heart disease have high cholesterol levels (greater than or equal to 240 mg/dl) on average? Import the function from scipy.stats that you can use to test the following null and alternative hypotheses:\n",
    "\n",
    "    **Null**: People with heart disease have an average cholesterol level equal to 240 mg/dl\n",
    "    **Alternative**: People with heart disease have an average cholesterol level that is greater than 240 mg/dl\n",
    "    **Note**: Unfortunately, the scipy.stats function we’ve been using does not (at the time of writing) have an alternative parameter to change the alternative hypothesis for this test. Therefore, you’ll have to run a two-sided test. However, since you calculated earlier that the average cholesterol level for heart disease patients is greater than 240 mg/dl, you can calculate the p-value for the one-sided test indicated above simply by dividing the two-sided p-value in half."
   ]
  },
  {
   "cell_type": "code",
   "execution_count": 17,
   "metadata": {},
   "outputs": [
    {
     "name": "stdout",
     "output_type": "stream",
     "text": [
      "0.0035411033905155707\n"
     ]
    }
   ],
   "source": [
    "# compare to cut-off for high cholesterol\n",
    "tstat, pval = ttest_1samp(chol_hd, 240)\n",
    "print(pval/2)"
   ]
  },
  {
   "attachments": {},
   "cell_type": "markdown",
   "metadata": {},
   "source": [
    "4. Run the hypothesis test indicated in task 3 and print out the p-value. Can you conclude that heart disease patients have an average cholesterol level significantly greater than 240 mg/dl? Use a significance threshold of 0.05."
   ]
  },
  {
   "cell_type": "code",
   "execution_count": 18,
   "metadata": {},
   "outputs": [],
   "source": [
    "# get cholesterol levels for patients without heart disease\n",
    "chol_no_hd = no_hd.chol"
   ]
  },
  {
   "attachments": {},
   "cell_type": "markdown",
   "metadata": {},
   "source": [
    "5. Repeat steps 1-4 in order to run the same hypothesis test, but for patients in the sample who were not diagnosed with heart disease. Do patients without heart disease have average cholesterol levels significantly above 240 mg/dl?"
   ]
  },
  {
   "cell_type": "code",
   "execution_count": 19,
   "metadata": {},
   "outputs": [
    {
     "name": "stdout",
     "output_type": "stream",
     "text": [
      "242.640243902439\n"
     ]
    }
   ],
   "source": [
    "# calculate mean cholesterol level for patients w/o hd\n",
    "print(np.mean(chol_no_hd))"
   ]
  },
  {
   "attachments": {},
   "cell_type": "markdown",
   "metadata": {},
   "source": [
    "### Fasting Blood Sugar Analysis\n",
    "\n",
    "6. Let’s now return to the full dataset (saved as heart). How many patients are there in this dataset? Save the number of patients as num_patients and print it out."
   ]
  },
  {
   "cell_type": "code",
   "execution_count": 20,
   "metadata": {},
   "outputs": [
    {
     "name": "stdout",
     "output_type": "stream",
     "text": [
      "0.26397120232220506\n"
     ]
    }
   ],
   "source": [
    "# compare to cut-off for high cholesterol\n",
    "tstat, pval = ttest_1samp(chol_no_hd, 240)\n",
    "print(pval/2)"
   ]
  },
  {
   "attachments": {},
   "cell_type": "markdown",
   "metadata": {},
   "source": [
    "7. Remember that the fbs column of this dataset indicates whether or not a patient’s fasting blood sugar was greater than 120 mg/dl (1 means that their fasting blood sugar was greater than 120 mg/dl; 0 means it was less than or equal to 120 mg/dl).\n",
    "\n",
    "    Calculate the number of patients with fasting blood sugar greater than 120. Save this number as num_highfbs_patients and print it out."
   ]
  },
  {
   "cell_type": "code",
   "execution_count": 21,
   "metadata": {},
   "outputs": [
    {
     "name": "stdout",
     "output_type": "stream",
     "text": [
      "303\n"
     ]
    }
   ],
   "source": [
    "# calculate number of patients total\n",
    "num_patients = len(heart)\n",
    "print(num_patients)"
   ]
  },
  {
   "attachments": {},
   "cell_type": "markdown",
   "metadata": {},
   "source": [
    "8. Sometimes, part of an analysis will involve comparing a sample to known population values to see if the sample appears to be representative of the general population.\n",
    "    \n",
    "    By some estimates, about 8% of the U.S. population had diabetes (diagnosed or undiagnosed) in 1988 when this data was collected. While there are multiple tests that contribute to a diabetes diagnosis, fasting blood sugar levels greater than 120 mg/dl can be indicative of diabetes (or at least, pre-diabetes). If this sample were representative of the population, approximately how many people would you expect to have diabetes? Calculate and print out this number.\n",
    "\n",
    "    Is this value similar to the number of patients with a resting blood sugar above 120 mg/dl — or different?"
   ]
  },
  {
   "cell_type": "code",
   "execution_count": 22,
   "metadata": {},
   "outputs": [
    {
     "name": "stdout",
     "output_type": "stream",
     "text": [
      "45.0\n"
     ]
    }
   ],
   "source": [
    "# calculate number of patients with fbs>120\n",
    "num_highfbs_patients = np.sum(heart.fbs)\n",
    "print(num_highfbs_patients)"
   ]
  },
  {
   "attachments": {},
   "cell_type": "markdown",
   "metadata": {},
   "source": [
    "9. Does this sample come from a population in which the rate of fbs > 120 mg/dl is equal to 8%? Import the function from scipy.stats that you can use to test the following null and alternative hypotheses:\n",
    "   - **Null**: This sample was drawn from a population where 8% of people have fasting blood sugar > 120 mg/dl\n",
    "   - **Alternative**: This sample was drawn from a population where more than 8% of people have fasting blood sugar > 120 mg/dl"
   ]
  },
  {
   "cell_type": "code",
   "execution_count": 23,
   "metadata": {},
   "outputs": [
    {
     "name": "stdout",
     "output_type": "stream",
     "text": [
      "24.240000000000002\n"
     ]
    }
   ],
   "source": [
    "# calculate 8% of sample size\n",
    "print(0.08*num_patients)"
   ]
  },
  {
   "attachments": {},
   "cell_type": "markdown",
   "metadata": {},
   "source": [
    "10. Run the hypothesis test indicated in task 9 and print out the p-value. Using a significance threshold of 0.05, can you conclude that this sample was drawn from a population where the rate of fasting blood sugar > 120 mg/dl is significantly greater than 8%?"
   ]
  },
  {
   "cell_type": "code",
   "execution_count": 24,
   "metadata": {},
   "outputs": [
    {
     "name": "stdout",
     "output_type": "stream",
     "text": [
      "BinomTestResult(k=45, n=303, alternative='greater', statistic=0.1485148514851485, pvalue=4.689471951448875e-05)\n"
     ]
    }
   ],
   "source": [
    "# run binomial test\n",
    "pval = binomtest(int(num_highfbs_patients), int(num_patients), .08, alternative='greater')\n",
    "print(pval)"
   ]
  }
 ],
 "metadata": {
  "language_info": {
   "name": "python"
  },
  "orig_nbformat": 4
 },
 "nbformat": 4,
 "nbformat_minor": 2
}
