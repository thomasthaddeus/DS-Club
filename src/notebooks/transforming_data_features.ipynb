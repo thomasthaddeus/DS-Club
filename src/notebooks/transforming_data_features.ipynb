{
 "cells": [
  {
   "cell_type": "markdown",
   "metadata": {},
   "source": [
    "# Transforming Data into Features\n",
    "\n",
    "You are a data scientist at a clothing company and are working with a data set of customer reviews. This dataset is originally from Kaggle and has a lot of potential for various machine learning purposes. You are tasked with transforming some of these features to make the data more useful for analysis.\n"
   ]
  },
  {
   "cell_type": "markdown",
   "metadata": {},
   "source": [
    "## Basic Exploration\n",
    "\n",
    "1. Let's start with some basic exploring by performing the following:\n",
    "\n",
    "First, import your dataset. It is stored under a file named reviews.csv. Save \n",
    "it to a variable called reviews.\n"
   ]
  },
  {
   "cell_type": "code",
   "execution_count": 2,
   "metadata": {},
   "outputs": [],
   "source": [
    "import pandas as pd\n",
    "from sklearn.preprocessing import StandardScaler\n",
    "\n",
    "# import data\n",
    "reviews = pd.read_csv(\"../data/reviews.csv\")\n"
   ]
  },
  {
   "cell_type": "markdown",
   "metadata": {},
   "source": [
    "2. Next, we want to look at the column names of our dataset along with their data types. Do the following two steps:\n",
    "Print the column names of your dataset.\n",
    "Check your features' data types by printing .info().\n"
   ]
  },
  {
   "cell_type": "code",
   "execution_count": 3,
   "metadata": {},
   "outputs": [
    {
     "name": "stdout",
     "output_type": "stream",
     "text": [
      "Index(['clothing_id', 'age', 'review_title', 'review_text', 'recommended',\n",
      "       'division_name', 'department_name', 'review_date', 'rating'],\n",
      "      dtype='object')\n",
      "<class 'pandas.core.frame.DataFrame'>\n",
      "RangeIndex: 5000 entries, 0 to 4999\n",
      "Data columns (total 9 columns):\n",
      " #   Column           Non-Null Count  Dtype \n",
      "---  ------           --------------  ----- \n",
      " 0   clothing_id      5000 non-null   int64 \n",
      " 1   age              5000 non-null   int64 \n",
      " 2   review_title     4174 non-null   object\n",
      " 3   review_text      4804 non-null   object\n",
      " 4   recommended      5000 non-null   bool  \n",
      " 5   division_name    4996 non-null   object\n",
      " 6   department_name  4996 non-null   object\n",
      " 7   review_date      5000 non-null   object\n",
      " 8   rating           5000 non-null   object\n",
      "dtypes: bool(1), int64(2), object(6)\n",
      "memory usage: 317.5+ KB\n",
      "None\n"
     ]
    }
   ],
   "source": [
    "# print column names\n",
    "print(reviews.columns)\n",
    "print(reviews.info())"
   ]
  },
  {
   "cell_type": "markdown",
   "metadata": {},
   "source": [
    "### Data Transformations\n",
    "\n",
    "3. Transform the recommended feature. Start by printing the feature's `.value_counts()`"
   ]
  },
  {
   "cell_type": "code",
   "execution_count": 4,
   "metadata": {},
   "outputs": [
    {
     "name": "stdout",
     "output_type": "stream",
     "text": [
      "recommended\n",
      "True     4166\n",
      "False     834\n",
      "Name: count, dtype: int64\n"
     ]
    }
   ],
   "source": [
    "# look at the counts of recommended\n",
    "print(reviews[\"recommended\"].value_counts())"
   ]
  },
  {
   "cell_type": "markdown",
   "metadata": {},
   "source": [
    "4. Since this is a True/False feature, we want to transform it to 1 for True and 0 for False.\n",
    "\n",
    "To do this, create a dictionary called `binary_dict` where:\n",
    "\n",
    "The keys are what is currently in the recommended feature.\n",
    "The values are what we want in the new column (0s and 1s).\n"
   ]
  },
  {
   "cell_type": "code",
   "execution_count": 5,
   "metadata": {},
   "outputs": [],
   "source": [
    "# create binary dictionary\n",
    "binary_dict = {\n",
    "    True: 1,\n",
    "    False: 0,\n",
    "}"
   ]
  },
  {
   "cell_type": "markdown",
   "metadata": {},
   "source": [
    "5. Using `binary_dict`, transform the recommended column so that it will now be binary. Print the results using `.value_counts()` to confirm the transformation.\n"
   ]
  },
  {
   "cell_type": "code",
   "execution_count": 6,
   "metadata": {},
   "outputs": [
    {
     "name": "stdout",
     "output_type": "stream",
     "text": [
      "recommended\n",
      "1    4166\n",
      "0     834\n",
      "Name: count, dtype: int64\n"
     ]
    }
   ],
   "source": [
    "# transform column\n",
    "reviews[\"recommended\"] = reviews[\"recommended\"].map(binary_dict)\n",
    "\n",
    "# print your transformed column\n",
    "print(reviews[\"recommended\"].value_counts())"
   ]
  },
  {
   "cell_type": "markdown",
   "metadata": {},
   "source": [
    "6. Let's run through a similar process to transform the rating feature. This is ordinal data so our transformation should make that more clear. Again, start by printing the .`value_counts()`.\n"
   ]
  },
  {
   "cell_type": "code",
   "execution_count": 7,
   "metadata": {},
   "outputs": [
    {
     "name": "stdout",
     "output_type": "stream",
     "text": [
      "rating\n",
      "Loved it     2798\n",
      "Liked it     1141\n",
      "Was okay      564\n",
      "Not great     304\n",
      "Hated it      193\n",
      "Name: count, dtype: int64\n"
     ]
    }
   ],
   "source": [
    "# look at the counts of rating\n",
    "print(reviews[\"rating\"].value_counts())"
   ]
  },
  {
   "cell_type": "markdown",
   "metadata": {},
   "source": [
    "7. We want to make the following changes to the values:\n",
    "\n",
    "   - 'Loved it' → 5\n",
    "   - 'Liked it' → 4\n",
    "   - 'Was okay' → 3\n",
    "   - 'Not great' → 2\n",
    "   - 'Hated it' → 1\n",
    "\n",
    "    Create a dictionary called `rating_dict` where the keys are what is currently in the feature and the values are what we want in the new column.\n"
   ]
  },
  {
   "cell_type": "code",
   "execution_count": 8,
   "metadata": {},
   "outputs": [],
   "source": [
    "# create dictionary\n",
    "rating_dict = {\n",
    "    \"Loved it\": 5,\n",
    "    \"Liked it\": 4,\n",
    "    \"Was okay\": 3,\n",
    "    \"Not great\": 2,\n",
    "    \"Hated it\": 1,\n",
    "}\n"
   ]
  },
  {
   "cell_type": "markdown",
   "metadata": {},
   "source": [
    "8. Using `rating_dict`, transform the rating column so it contains numerical values. Print the results using `.value_counts()` to confirm the transformation."
   ]
  },
  {
   "cell_type": "code",
   "execution_count": 9,
   "metadata": {},
   "outputs": [
    {
     "name": "stdout",
     "output_type": "stream",
     "text": [
      "rating\n",
      "5    2798\n",
      "4    1141\n",
      "3     564\n",
      "2     304\n",
      "1     193\n",
      "Name: count, dtype: int64\n"
     ]
    }
   ],
   "source": [
    "# transform rating column\n",
    "reviews[\"rating\"] = reviews[\"rating\"].map(rating_dict)\n",
    "\n",
    "# print your transformed column values\n",
    "print(reviews[\"rating\"].value_counts())\n"
   ]
  },
  {
   "cell_type": "markdown",
   "metadata": {},
   "source": [
    "9. Let's now transform the `department_name` feature. This process will be slightly different, but start by printing the `.value_counts()` of the feature.\n",
    "\n",
    "    Use Panda's `get_dummies` to one-hot encode our feature. Attach the results back to our original data frame. Print the column names to see!"
   ]
  },
  {
   "cell_type": "code",
   "execution_count": 10,
   "metadata": {},
   "outputs": [
    {
     "name": "stdout",
     "output_type": "stream",
     "text": [
      "department_name\n",
      "Tops        2196\n",
      "Dresses     1322\n",
      "Bottoms      848\n",
      "Intimate     378\n",
      "Jackets      224\n",
      "Trend         28\n",
      "Name: count, dtype: int64\n"
     ]
    }
   ],
   "source": [
    "# get the number of categories in a feature\n",
    "print(reviews[\"department_name\"].value_counts())"
   ]
  },
  {
   "cell_type": "markdown",
   "metadata": {},
   "source": [
    "10. Use panda's `get_dummies()` method to one-hot encode our feature. Assign this to a variable called `one_hot`."
   ]
  },
  {
   "cell_type": "code",
   "execution_count": 11,
   "metadata": {},
   "outputs": [],
   "source": [
    "# perform get_dummies\n",
    "one_hot = pd.get_dummies(reviews[\"department_name\"])"
   ]
  },
  {
   "cell_type": "markdown",
   "metadata": {},
   "source": [
    "11. Join the results from `one_hot` back to our original data frame. Then print out the column names. What has been added?"
   ]
  },
  {
   "cell_type": "code",
   "execution_count": 12,
   "metadata": {},
   "outputs": [
    {
     "name": "stdout",
     "output_type": "stream",
     "text": [
      "Index(['clothing_id', 'age', 'review_title', 'review_text', 'recommended',\n",
      "       'division_name', 'department_name', 'review_date', 'rating', 'Bottoms',\n",
      "       'Dresses', 'Intimate', 'Jackets', 'Tops', 'Trend'],\n",
      "      dtype='object')\n"
     ]
    }
   ],
   "source": [
    "# join the new columns back onto the original\n",
    "reviews = reviews.join(one_hot)\n",
    "\n",
    "# print column names\n",
    "print(reviews.columns)"
   ]
  },
  {
   "cell_type": "markdown",
   "metadata": {},
   "source": [
    "12. Let's make one more feature transformation!\n",
    "\n",
    "    Transform the review_date feature.\n",
    "\n",
    "    This feature is listed as an object type, but we want this to be transformed into a date-time feature.\n",
    "\n",
    "    Transform review_date into a date-time feature.\n"
   ]
  },
  {
   "cell_type": "code",
   "execution_count": 13,
   "metadata": {},
   "outputs": [
    {
     "name": "stdout",
     "output_type": "stream",
     "text": [
      "datetime64[ns]\n"
     ]
    }
   ],
   "source": [
    "# transform review_date to date-time data\n",
    "reviews[\"review_date\"] = pd.to_datetime(reviews[\"review_date\"])\n",
    "\n",
    "# print review_date data type\n",
    "print(reviews[\"review_date\"].dtype)\n"
   ]
  },
  {
   "cell_type": "markdown",
   "metadata": {},
   "source": [
    "### Scaling the Data\n"
   ]
  },
  {
   "cell_type": "markdown",
   "metadata": {},
   "source": [
    "13. The final step we will take in our transformation project is scaling our data. We notice that we have a wide range of numbers thus far, so it is best to put everything on the same scale.\n",
    "\n",
    "    Let's get our data frame to only have the numerical features we created.\n"
   ]
  },
  {
   "cell_type": "code",
   "execution_count": 14,
   "metadata": {},
   "outputs": [],
   "source": [
    "# get numerical columns\n",
    "reviews = reviews[\n",
    "    [\n",
    "        \"clothing_id\",\n",
    "        \"age\",\n",
    "        \"recommended\",\n",
    "        \"rating\",\n",
    "        \"Bottoms\",\n",
    "        \"Dresses\",\n",
    "        \"Intimate\",\n",
    "        \"Jackets\",\n",
    "        \"Tops\",\n",
    "        \"Trend\",\n",
    "    ]\n",
    "].copy()"
   ]
  },
  {
   "cell_type": "markdown",
   "metadata": {},
   "source": [
    "14. Reset the index to be our clothing_id feature."
   ]
  },
  {
   "cell_type": "code",
   "execution_count": 15,
   "metadata": {},
   "outputs": [],
   "source": [
    "# reset index\n",
    "reviews = reviews.set_index('clothing_id')"
   ]
  },
  {
   "cell_type": "markdown",
   "metadata": {},
   "source": [
    "15. We are ready to scale our data! Perform a `.fit_transform()` on our data set, and print the results to see how the features have changed.\n",
    "\n",
    "Create a `StandardScaler()` and then use `.fit_transform()` on reviews. "
   ]
  },
  {
   "cell_type": "code",
   "execution_count": 16,
   "metadata": {},
   "outputs": [
    {
     "data": {
      "text/plain": [
       "array([[-0.34814459,  0.44742824, -0.1896478 , ..., -0.21656679,\n",
       "        -0.88496718, -0.07504356],\n",
       "       [-1.24475223,  0.44742824,  0.71602461, ..., -0.21656679,\n",
       "        -0.88496718, -0.07504356],\n",
       "       [-0.51116416,  0.44742824,  0.71602461, ..., -0.21656679,\n",
       "        -0.88496718, -0.07504356],\n",
       "       ...,\n",
       "       [-0.59267395,  0.44742824,  0.71602461, ..., -0.21656679,\n",
       "        -0.88496718, -0.07504356],\n",
       "       [-1.24475223,  0.44742824,  0.71602461, ..., -0.21656679,\n",
       "        -0.88496718, -0.07504356],\n",
       "       [ 1.68960003,  0.44742824,  0.71602461, ..., -0.21656679,\n",
       "         1.12998541, -0.07504356]])"
      ]
     },
     "execution_count": 16,
     "metadata": {},
     "output_type": "execute_result"
    }
   ],
   "source": [
    "scaler = StandardScaler()\n",
    "scaler.fit_transform(reviews)"
   ]
  }
 ],
 "metadata": {
  "kernelspec": {
   "display_name": "Python 3",
   "language": "python",
   "name": "python3"
  },
  "language_info": {
   "codemirror_mode": {
    "name": "ipython",
    "version": 3
   },
   "file_extension": ".py",
   "mimetype": "text/x-python",
   "name": "python",
   "nbconvert_exporter": "python",
   "pygments_lexer": "ipython3",
   "version": "3.11.4"
  },
  "orig_nbformat": 4
 },
 "nbformat": 4,
 "nbformat_minor": 2
}
