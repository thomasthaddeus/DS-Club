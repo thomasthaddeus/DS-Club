{
 "cells": [
  {
   "attachments": {},
   "cell_type": "markdown",
   "metadata": {},
   "source": [
    "# DATA SCIENCE FOUNDATIONS II\n",
    "\n",
    "## Census Variables\n",
    "\n",
    "You have decided to volunteer for your local community by offering to clean their recently collected census data. The description of this dataset is as follows:\n",
    "\n",
    "| column         | description                                                                                                           |\n",
    "| -------------- | --------------------------------------------------------------------------------------------------------------------- |\n",
    "| first_name     | The respondent's first name.                                                                                          |\n",
    "| last_name      | The respondent's last name.                                                                                           |\n",
    "| birth_year     | The respondent's year of birth.                                                                                       |\n",
    "| voted          | If the respondent participated in the current voting cycle.                                                           |\n",
    "| num_children   | The number of children the respondent has.                                                                            |\n",
    "| income_year    | The average yearly income the respondent earns.                                                                       |\n",
    "| higher_tax     | The respondent's answer to the question: Rate your agreement with the statement: the wealthy should pay higher taxes. |\n",
    "| marital_status | The respondent's current marital status.                                                                              |"
   ]
  },
  {
   "attachments": {},
   "cell_type": "markdown",
   "metadata": {},
   "source": [
    "### Assessing Variable Types\n",
    "\n",
    "1. The census dataframe is composed of simulated census data to represent demographics of a small community in the U.S. Call the .head() method on the census dataframe and print the output to view the first five rows."
   ]
  },
  {
   "cell_type": "code",
   "execution_count": 5,
   "metadata": {},
   "outputs": [],
   "source": [
    "import pandas as pd\n",
    "\n",
    "# Read in the census dataframe\n",
    "census = pd.read_csv(\"../data/census_data.csv\", index_col=0)"
   ]
  },
  {
   "attachments": {},
   "cell_type": "markdown",
   "metadata": {},
   "source": [
    "2. Review the dataframe description and values returned by .head() to assess the variable types of each of the variables. This is an important step to understand what preprocessing will be necessary to work with the data.\n"
   ]
  },
  {
   "cell_type": "code",
   "execution_count": 6,
   "metadata": {},
   "outputs": [
    {
     "name": "stdout",
     "output_type": "stream",
     "text": [
      "  first_name  last_name birth_year  voted  num_children  income_year  \\\n",
      "0     Denise      Ratke       2005  False             0     92129.41   \n",
      "1       Hali  Cummerata       1987  False             0     75649.17   \n",
      "2    Salomon        Orn       1992   True             2    166313.45   \n",
      "3     Sarina   Schiller       1965  False             2     71704.81   \n",
      "4       Gust  Abernathy       1945  False             2    143316.08   \n",
      "\n",
      "       higher_tax marital_status  \n",
      "0        disagree         single  \n",
      "1         neutral       divorced  \n",
      "2           agree         single  \n",
      "3  strongly agree        married  \n",
      "4           agree        married  \n"
     ]
    }
   ],
   "source": [
    "print(census.head())"
   ]
  },
  {
   "attachments": {},
   "cell_type": "markdown",
   "metadata": {},
   "source": [
    "3. Compare the values returned from the .head() method with the data types of each variable by calling .dtypes on the census dataframe and print the result."
   ]
  },
  {
   "cell_type": "code",
   "execution_count": 7,
   "metadata": {},
   "outputs": [
    {
     "name": "stdout",
     "output_type": "stream",
     "text": [
      "first_name         object\n",
      "last_name          object\n",
      "birth_year         object\n",
      "voted                bool\n",
      "num_children        int64\n",
      "income_year       float64\n",
      "higher_tax         object\n",
      "marital_status     object\n",
      "dtype: object\n"
     ]
    }
   ],
   "source": [
    "print(census.dtypes)"
   ]
  },
  {
   "attachments": {},
   "cell_type": "markdown",
   "metadata": {},
   "source": [
    "### Inspecting Datatypes \n",
    "\n",
    "4. The manager of the census would like to know the average birth year of the respondents. We were able to see from .dtypes that birth_year has been assigned the str datatype whereas it should be expressed in int.\n",
    "    Print the unique values of the variable using the .unique() method."
   ]
  },
  {
   "cell_type": "code",
   "execution_count": 8,
   "metadata": {},
   "outputs": [
    {
     "name": "stdout",
     "output_type": "stream",
     "text": [
      "['2005' '1987' '1992' '1965' '1945' '1951' '1963' '1949' '1950' '1971'\n",
      " '2007' '1944' '1995' '1973' '1946' '1954' '1994' '1989' '1947' '1993'\n",
      " '1976' '1984' 'missing' '1966' '1941' '2000' '1953' '1956' '1960' '2001'\n",
      " '1980' '1955' '1985' '1996' '1968' '1979' '2006' '1962' '1981' '1959'\n",
      " '1977' '1978' '1983' '1957' '1961' '1982' '2002' '1998' '1999' '1952'\n",
      " '1940' '1986' '1958']\n"
     ]
    }
   ],
   "source": [
    "print(census[\"birth_year\"].unique())"
   ]
  },
  {
   "attachments": {},
   "cell_type": "markdown",
   "metadata": {},
   "source": [
    "### Altering Data\n",
    "\n",
    "5. There appears to be a missing value in the birth_year column. With some research you find that the respondent’s birth year is 1967.\n",
    "    Use the .replace() method to replace the missing value with 1967, so that the data type can be changed to int. Then recheck the values in birth_year by calling the .unique() method and printing the results.\n"
   ]
  },
  {
   "cell_type": "code",
   "execution_count": 9,
   "metadata": {},
   "outputs": [
    {
     "name": "stdout",
     "output_type": "stream",
     "text": [
      "['2005' '1987' '1992' '1965' '1945' '1951' '1963' '1949' '1950' '1971'\n",
      " '2007' '1944' '1995' '1973' '1946' '1954' '1994' '1989' '1947' '1993'\n",
      " '1976' '1984' 1967 '1966' '1941' '2000' '1953' '1956' '1960' '2001'\n",
      " '1980' '1955' '1985' '1996' '1968' '1979' '2006' '1962' '1981' '1959'\n",
      " '1977' '1978' '1983' '1957' '1961' '1982' '2002' '1998' '1999' '1952'\n",
      " '1940' '1986' '1958']\n"
     ]
    }
   ],
   "source": [
    "census[\"birth_year\"] = census[\"birth_year\"].replace([\"missing\"], 1967)\n",
    "print(census[\"birth_year\"].unique())"
   ]
  },
  {
   "attachments": {},
   "cell_type": "markdown",
   "metadata": {},
   "source": [
    "6.  Now that we have adjusted the values in the `birth_year` variable, change the datatype from `str` to `int` and print the datatypes of the census dataframe with `.dtypes`."
   ]
  },
  {
   "cell_type": "code",
   "execution_count": 10,
   "metadata": {},
   "outputs": [
    {
     "name": "stdout",
     "output_type": "stream",
     "text": [
      "first_name         object\n",
      "last_name          object\n",
      "birth_year          int32\n",
      "voted                bool\n",
      "num_children        int64\n",
      "income_year       float64\n",
      "higher_tax         object\n",
      "marital_status     object\n",
      "dtype: object\n"
     ]
    }
   ],
   "source": [
    "# use the astype method to switch data types to int\n",
    "census[\"birth_year\"] = census[\"birth_year\"].astype(int)\n",
    "\n",
    "# print the data types in the census datafram\n",
    "print(census.dtypes)"
   ]
  },
  {
   "attachments": {},
   "cell_type": "markdown",
   "metadata": {},
   "source": [
    "7.  Having assigned `birth_year` to the appropriate data type, print the average birth year of the respondents to the census using the pandas `.mean()` method."
   ]
  },
  {
   "cell_type": "code",
   "execution_count": 11,
   "metadata": {},
   "outputs": [
    {
     "name": "stdout",
     "output_type": "stream",
     "text": [
      "1973.4\n"
     ]
    }
   ],
   "source": [
    "print(census[\"birth_year\"].mean())"
   ]
  },
  {
   "attachments": {},
   "cell_type": "markdown",
   "metadata": {},
   "source": [
    "8.  Your manager would like to set an order to the higher_tax variable so that: strongly disagree < disagree < neutral < agree < strongly agree.\n",
    "    Convert the higher_tax variable to the category data type with the appropriate order, then print the new order using the .unique() method.\n"
   ]
  },
  {
   "cell_type": "code",
   "execution_count": 12,
   "metadata": {},
   "outputs": [
    {
     "name": "stdout",
     "output_type": "stream",
     "text": [
      "['disagree', 'neutral', 'agree', 'strongly agree', 'strongly disagree']\n",
      "Categories (5, object): ['strongly disagree' < 'disagree' < 'neutral' < 'agree' < 'strongly agree']\n"
     ]
    }
   ],
   "source": [
    "# Converting the higher_tax column to categorical data\n",
    "census[\"higher_tax\"] = pd.Categorical(\n",
    "    census[\"higher_tax\"],\n",
    "    [\"strongly disagree\", \"disagree\", \"neutral\", \"agree\", \"strongly agree\"],\n",
    "    ordered=True,\n",
    ")\n",
    "\n",
    "# print out unique values in the higher_tax column\n",
    "print(census[\"higher_tax\"].unique())"
   ]
  },
  {
   "attachments": {},
   "cell_type": "markdown",
   "metadata": {},
   "source": [
    "9.  Your manager would also like to know the median sentiment of the respondents on the issue of higher taxes for the wealthy. Label encode the higher_tax variable and print the median using the pandas .median() method."
   ]
  },
  {
   "cell_type": "code",
   "execution_count": 13,
   "metadata": {},
   "outputs": [
    {
     "name": "stdout",
     "output_type": "stream",
     "text": [
      "2.0\n"
     ]
    }
   ],
   "source": [
    "# Use cat.codes to label encode the higher_tax variable\n",
    "census[\"higher_tax\"] = census[\"higher_tax\"].cat.codes\n",
    "\n",
    "# print out the median of the higher_tax variable\n",
    "print(census[\"higher_tax\"].median())"
   ]
  },
  {
   "attachments": {},
   "cell_type": "markdown",
   "metadata": {},
   "source": [
    "\n",
    "10. Your manager is interested in using machine learning models on the census data in the future. To help, let’s One-Hot Encode marital_status to create binary variables of each category. Use the pandas get_dummies() method to One-Hot Encode the marital_status variable.\n",
    "    Print the first five rows of the new dataframe with the .head() method. Note that you’ll have to scroll to the right or expand the web-browser to see the dummy variables."
   ]
  },
  {
   "cell_type": "code",
   "execution_count": 15,
   "metadata": {},
   "outputs": [
    {
     "name": "stdout",
     "output_type": "stream",
     "text": [
      "  first_name  last_name  birth_year  voted  num_children  income_year  \\\n",
      "0     Denise      Ratke        2005  False             0     92129.41   \n",
      "1       Hali  Cummerata        1987  False             0     75649.17   \n",
      "2    Salomon        Orn        1992   True             2    166313.45   \n",
      "3     Sarina   Schiller        1965  False             2     71704.81   \n",
      "4       Gust  Abernathy        1945  False             2    143316.08   \n",
      "\n",
      "   higher_tax  marital_status_divorced  marital_status_married  \\\n",
      "0           1                    False                   False   \n",
      "1           2                     True                   False   \n",
      "2           3                    False                   False   \n",
      "3           4                    False                    True   \n",
      "4           3                    False                    True   \n",
      "\n",
      "   marital_status_single  marital_status_widowed  \n",
      "0                   True                   False  \n",
      "1                  False                   False  \n",
      "2                   True                   False  \n",
      "3                  False                   False  \n",
      "4                  False                   False  \n",
      "    first_name   last_name  birth_year  voted  num_children  income_year  \\\n",
      "0       Denise       Ratke        2005  False             0     92129.41   \n",
      "1         Hali   Cummerata        1987  False             0     75649.17   \n",
      "2      Salomon         Orn        1992   True             2    166313.45   \n",
      "3       Sarina    Schiller        1965  False             2     71704.81   \n",
      "4         Gust   Abernathy        1945  False             2    143316.08   \n",
      "..         ...         ...         ...    ...           ...          ...   \n",
      "95      Carisa       Hills        1958  False             3    157117.14   \n",
      "96      Tameka     Collins        2001  False             1     61518.34   \n",
      "97       Adams    Leuschke        1987  False             0     41784.87   \n",
      "98  Earnestine     Gutmann        1985   True             4     79021.46   \n",
      "99        Rosa  Runolfsson        1961   True             3     82300.02   \n",
      "\n",
      "    higher_tax  marital_status_divorced  marital_status_married  \\\n",
      "0            1                    False                   False   \n",
      "1            2                     True                   False   \n",
      "2            3                    False                   False   \n",
      "3            4                    False                    True   \n",
      "4            3                    False                    True   \n",
      "..         ...                      ...                     ...   \n",
      "95           3                    False                    True   \n",
      "96           0                    False                   False   \n",
      "97           4                    False                   False   \n",
      "98           1                    False                   False   \n",
      "99           4                    False                   False   \n",
      "\n",
      "    marital_status_single  marital_status_widowed  \n",
      "0                    True                   False  \n",
      "1                   False                   False  \n",
      "2                    True                   False  \n",
      "3                   False                   False  \n",
      "4                   False                   False  \n",
      "..                    ...                     ...  \n",
      "95                  False                   False  \n",
      "96                   True                   False  \n",
      "97                   True                   False  \n",
      "98                  False                    True  \n",
      "99                   True                   False  \n",
      "\n",
      "[100 rows x 11 columns]\n"
     ]
    }
   ],
   "source": [
    "# Use get_dummies to OHE the marital_status\n",
    "census = pd.get_dummies(census, columns=['marital_status'])\n",
    " \n",
    "# print out the first 5 rows in the census dataframe\n",
    "print(census.head())\n",
    "\n",
    "print(census)\n"
   ]
  },
  {
   "attachments": {},
   "cell_type": "markdown",
   "metadata": {},
   "source": [
    "\n",
    "11. There are additional operations you can perform on the data, such as:\n",
    "    \n",
    "    Create a new variable called `marital_codes` by Label Encoding the `marital_status` variable. \\\n",
    "    This could help the Census team use machine learning to predict if a respondent thinks the wealthy should pay higher taxes based on their marital status.\n",
    "    \n",
    "    Create a new variable called `age_group`, which groups respondents based on their birth year. \\\n",
    "    The groups should be in five-year increments, e.g., 25-30, 31-35, etc. \\\n",
    "    Then label encode the `age_group` variable to assist the Census team in the event they would like to use machine learning to predict if a respondent thinks the wealthy should pay higher taxes based on their age group.\n"
   ]
  },
  {
   "cell_type": "markdown",
   "metadata": {},
   "source": [
    "### Martital Codes"
   ]
  },
  {
   "cell_type": "code",
   "execution_count": null,
   "metadata": {},
   "outputs": [],
   "source": [
    "marital_codes"
   ]
  },
  {
   "cell_type": "markdown",
   "metadata": {},
   "source": [
    "### Higher Taxes"
   ]
  },
  {
   "cell_type": "code",
   "execution_count": null,
   "metadata": {},
   "outputs": [],
   "source": [
    "age_group = "
   ]
  }
 ],
 "metadata": {
  "kernelspec": {
   "display_name": "Python 3",
   "language": "python",
   "name": "python3"
  },
  "language_info": {
   "codemirror_mode": {
    "name": "ipython",
    "version": 3
   },
   "file_extension": ".py",
   "mimetype": "text/x-python",
   "name": "python",
   "nbconvert_exporter": "python",
   "pygments_lexer": "ipython3",
   "version": "3.11.4"
  },
  "orig_nbformat": 4
 },
 "nbformat": 4,
 "nbformat_minor": 2
}
