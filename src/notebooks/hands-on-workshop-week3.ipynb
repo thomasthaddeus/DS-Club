{
 "cells": [
  {
   "attachments": {},
   "cell_type": "markdown",
   "metadata": {},
   "source": [
    "# Introduction to Python for Data Science\n",
    "\n",
    "## Agenda for Week 3\n",
    "\n",
    "### Hands-on Workshop: Python for Data Science\n",
    "\n",
    "1. Basic Python programming skills with a focus on data analysis.\n",
    "1. Introduction to Python programming language\n",
    "1. Basic Python syntax and data structures (lists, tuples, dictionaries)\n",
    "1. Introduction to Python libraries for data science (Pandas, Numpy)\n",
    "1. Reading data into Python and performing basic data cleaning\n",
    "1. Simple data analysis using Python\n",
    "\n",
    "## Weekly Meeting Agenda\n",
    "\n",
    "Each meeting can have its unique structure depending on the nature of the session, but it's useful to have a general framework to ensure meetings are well-organized and efficient. Below is an example of a simple structure for a one-hour meeting:\n",
    "\n",
    "1. **Introduction** (5-10 minutes):\n",
    "   - Welcome participants.\n",
    "   - Share the agenda for the meeting.\n",
    "   - Recap the last meeting (if applicable) and note any follow-ups.\n",
    "\n",
    "2. **Main Agenda** (40-45 minutes):\n",
    "   - This is where the main activities of the meeting will take place.\n",
    "   - For a **workshop** or **lecture**, this will include the main presentation and demonstration.\n",
    "   - For a **discussion**, this may involve presenting the topic and then facilitating a group discussion.\n",
    "   - For a **hackathon** or **project showcase**, this would include the actual work or presentations.\n",
    "\n",
    "3. **Q&A/Discussion** (5-10 minutes):\n",
    "   - Reserve some time for attendees to ask questions or discuss the day's topic further.\n",
    "   - Encourage participation and interaction.\n",
    "\n",
    "4. **Conclusion and Looking Ahead** (2-3 minutes):\n",
    "   - Wrap up the meeting and summarize key points.\n",
    "   - Briefly mention what the next meeting will entail.\n",
    "   - Thank everyone for their participation.\n",
    "\n",
    "This is a very flexible structure and can be adjusted to better suit the type and purpose of each meeting.\n",
    "For instance, a hands-on workshop might require more time for the main agenda, while a planning meeting might have more time allocated to discussion.\n",
    "The key is to plan and communicate the schedule in advance so that attendees know what to expect and can prepare accordingly.\n"
   ]
  },
  {
   "attachments": {},
   "cell_type": "markdown",
   "metadata": {},
   "source": [
    "## Part 1: Python Basics"
   ]
  },
  {
   "attachments": {},
   "cell_type": "markdown",
   "metadata": {},
   "source": [
    "### Variables and Data Types\n",
    "\n",
    "In Python, we can store information in variables. There are several types of data we can store, including integers, floating point numbers, strings, and Booleans.\n"
   ]
  },
  {
   "cell_type": "code",
   "execution_count": 1,
   "metadata": {},
   "outputs": [
    {
     "name": "stdout",
     "output_type": "stream",
     "text": [
      "<class 'int'>\n",
      "<class 'float'>\n",
      "<class 'str'>\n",
      "<class 'bool'>\n"
     ]
    }
   ],
   "source": [
    "# Integer\n",
    "x = 10\n",
    "print(type(x))\n",
    "\n",
    "# Float\n",
    "y = 10.0\n",
    "print(type(y))\n",
    "\n",
    "# String\n",
    "z = \"Hello, World!\"\n",
    "print(type(z))\n",
    "\n",
    "# Boolean\n",
    "a = True\n",
    "print(type(a))\n"
   ]
  },
  {
   "attachments": {},
   "cell_type": "markdown",
   "metadata": {},
   "source": [
    "#### Arithmetic Operations\n",
    "\n",
    "Python supports all the basic arithmetic operations."
   ]
  },
  {
   "cell_type": "code",
   "execution_count": 2,
   "metadata": {},
   "outputs": [
    {
     "name": "stdout",
     "output_type": "stream",
     "text": [
      "10\n",
      "3\n",
      "9\n",
      "5.0\n",
      "16\n"
     ]
    }
   ],
   "source": [
    "# Addition\n",
    "print(5 + 5)\n",
    "\n",
    "# Subtraction\n",
    "print(5 - 2)\n",
    "\n",
    "# Multiplication\n",
    "print(3 * 3)\n",
    "\n",
    "# Division\n",
    "print(10 / 2)\n",
    "\n",
    "# Exponentiation\n",
    "print(4 ** 2)"
   ]
  },
  {
   "attachments": {},
   "cell_type": "markdown",
   "metadata": {},
   "source": [
    "#### Logical Operations\n",
    "\n",
    "Python also supports logical operations, which are often used in conditional statements."
   ]
  },
  {
   "cell_type": "code",
   "execution_count": 3,
   "metadata": {},
   "outputs": [
    {
     "name": "stdout",
     "output_type": "stream",
     "text": [
      "False\n",
      "True\n",
      "False\n"
     ]
    }
   ],
   "source": [
    "# And operation\n",
    "print(True and False)\n",
    "\n",
    "# Or operation\n",
    "print(True or False)\n",
    "\n",
    "# Not operation\n",
    "print(not True)"
   ]
  },
  {
   "attachments": {},
   "cell_type": "markdown",
   "metadata": {},
   "source": [
    "#### Conditional Statements\n",
    "\n",
    "Conditional statements are used to perform different computations or actions depending on whether a condition evaluates to true or false."
   ]
  },
  {
   "cell_type": "code",
   "execution_count": 4,
   "metadata": {},
   "outputs": [
    {
     "name": "stdout",
     "output_type": "stream",
     "text": [
      "x is positive\n",
      "x is even\n",
      "x is positive\n"
     ]
    }
   ],
   "source": [
    "# Define a variable\n",
    "x = 10\n",
    "\n",
    "# If statement\n",
    "if x > 0:\n",
    "    print(\"x is positive\")\n",
    "\n",
    "# If-else statement\n",
    "if x % 2 == 0:\n",
    "    print(\"x is even\")\n",
    "else:\n",
    "    print(\"x is odd\")\n",
    "\n",
    "# If-elif-else statement\n",
    "if x < 0:\n",
    "    print(\"x is negative\")\n",
    "elif x == 0:\n",
    "    print(\"x is zero\")\n",
    "else:\n",
    "    print(\"x is positive\")"
   ]
  },
  {
   "attachments": {},
   "cell_type": "markdown",
   "metadata": {},
   "source": [
    "#### Loops\n",
    "\n",
    "Loops are used to repeatedly execute a block of code.\n"
   ]
  },
  {
   "cell_type": "code",
   "execution_count": 5,
   "metadata": {},
   "outputs": [
    {
     "name": "stdout",
     "output_type": "stream",
     "text": [
      "0\n",
      "1\n",
      "2\n",
      "3\n",
      "4\n",
      "0\n",
      "1\n",
      "2\n",
      "3\n",
      "4\n",
      "apple\n",
      "banana\n",
      "cherry\n"
     ]
    }
   ],
   "source": [
    "# For loop\n",
    "for i in range(5):\n",
    "    print(i)\n",
    "\n",
    "# While loop\n",
    "i = 0\n",
    "while i < 5:\n",
    "    print(i)\n",
    "    i += 1\n",
    "\n",
    "# Loop through a list\n",
    "fruits = [\"apple\", \"banana\", \"cherry\"]\n",
    "for fruit in fruits:\n",
    "    print(fruit)"
   ]
  },
  {
   "attachments": {},
   "cell_type": "markdown",
   "metadata": {},
   "source": [
    "#### Functions\n",
    "\n",
    "Functions are reusable blocks of code that perform a specific task."
   ]
  },
  {
   "cell_type": "code",
   "execution_count": 6,
   "metadata": {},
   "outputs": [
    {
     "name": "stdout",
     "output_type": "stream",
     "text": [
      "Hello, World\n",
      "8\n"
     ]
    }
   ],
   "source": [
    "# Define a function\n",
    "def greet(name):\n",
    "      return \"Hello, \" + name\n",
    "\n",
    "# Call the function\n",
    "print(greet(\"World\"))\n",
    "\n",
    "# Function with multiple parameters\n",
    "def power(base, exponent):\n",
    "      return base ** exponent\n",
    "\n",
    "# Call the function\n",
    "print(power(2, 3))"
   ]
  },
  {
   "attachments": {},
   "cell_type": "markdown",
   "metadata": {},
   "source": [
    "### Part 2: Python Data Structures\n",
    "\n",
    "Python has four basic inbuilt data structures: `Lists`, `Tuples`, `Sets`, and `Dictionaries`."
   ]
  },
  {
   "attachments": {},
   "cell_type": "markdown",
   "metadata": {},
   "source": [
    "#### Lists\n",
    "\n",
    "A list is a collection of items. It is ordered, changeable, and allows duplicate elements."
   ]
  },
  {
   "cell_type": "code",
   "execution_count": 7,
   "metadata": {},
   "outputs": [
    {
     "name": "stdout",
     "output_type": "stream",
     "text": [
      "['apple', 'banana', 'cherry']\n",
      "apple\n",
      "['apple', 'blueberry', 'cherry']\n",
      "['apple', 'blueberry', 'cherry', 'orange']\n"
     ]
    }
   ],
   "source": [
    "# Define a list\n",
    "fruits = [\"apple\", \"banana\", \"cherry\"]\n",
    "print(fruits)\n",
    "\n",
    "# Access list items by index\n",
    "print(fruits[0])\n",
    "\n",
    "# Change the value of a list item\n",
    "fruits[1] = \"blueberry\"\n",
    "print(fruits)\n",
    "\n",
    "# Add an item to the list\n",
    "fruits.append(\"orange\")\n",
    "print(fruits)"
   ]
  },
  {
   "attachments": {},
   "cell_type": "markdown",
   "metadata": {},
   "source": [
    "#### Tuples\n",
    "\n",
    "A tuple is similar to a list, but it is ordered and unchangeable.\n"
   ]
  },
  {
   "cell_type": "code",
   "execution_count": 8,
   "metadata": {},
   "outputs": [
    {
     "name": "stdout",
     "output_type": "stream",
     "text": [
      "('apple', 'banana', 'cherry')\n",
      "apple\n"
     ]
    },
    {
     "ename": "TypeError",
     "evalue": "'tuple' object does not support item assignment",
     "output_type": "error",
     "traceback": [
      "\u001b[1;31m---------------------------------------------------------------------------\u001b[0m",
      "\u001b[1;31mTypeError\u001b[0m                                 Traceback (most recent call last)",
      "Cell \u001b[1;32mIn[8], line 9\u001b[0m\n\u001b[0;32m      6\u001b[0m \u001b[39mprint\u001b[39m(fruits_tuple[\u001b[39m0\u001b[39m])\n\u001b[0;32m      8\u001b[0m \u001b[39m# Trying to change the value of a tuple item throws an error\u001b[39;00m\n\u001b[1;32m----> 9\u001b[0m fruits_tuple[\u001b[39m1\u001b[39;49m] \u001b[39m=\u001b[39m \u001b[39m\"\u001b[39m\u001b[39mblueberry\u001b[39m\u001b[39m\"\u001b[39m  \u001b[39m# This will throw an error\u001b[39;00m\n",
      "\u001b[1;31mTypeError\u001b[0m: 'tuple' object does not support item assignment"
     ]
    }
   ],
   "source": [
    "# Define a tuple\n",
    "fruits_tuple = (\"apple\", \"banana\", \"cherry\")\n",
    "print(fruits_tuple)\n",
    "\n",
    "# Access tuple items by index\n",
    "print(fruits_tuple[0])\n",
    "\n",
    "# Trying to change the value of a tuple item throws an error\n",
    "# fruits_tuple[1] = \"blueberry\"  # This will throw an error"
   ]
  },
  {
   "attachments": {},
   "cell_type": "markdown",
   "metadata": {},
   "source": [
    "#### Dictionaries\n",
    "\n",
    "A dictionary is an unordered collection of key-value pairs."
   ]
  },
  {
   "cell_type": "code",
   "execution_count": 9,
   "metadata": {},
   "outputs": [
    {
     "name": "stdout",
     "output_type": "stream",
     "text": [
      "{'apple': 'red', 'banana': 'yellow', 'cherry': 'red'}\n",
      "red\n",
      "{'apple': 'red', 'banana': 'green', 'cherry': 'red'}\n"
     ]
    }
   ],
   "source": [
    "# Define a dictionary\n",
    "fruit_colors = {\n",
    "    \"apple\": \"red\",\n",
    "    \"banana\": \"yellow\",\n",
    "    \"cherry\": \"red\"\n",
    "}\n",
    "print(fruit_colors)\n",
    "\n",
    "# Access dictionary items by key\n",
    "print(fruit_colors[\"apple\"])\n",
    "\n",
    "# Change the value of a dictionary item\n",
    "fruit_colors[\"banana\"] = \"green\"\n",
    "print(fruit_colors)"
   ]
  },
  {
   "attachments": {},
   "cell_type": "markdown",
   "metadata": {},
   "source": [
    "#### Sets\n",
    "\n",
    "A set is an unordered collection of unique items."
   ]
  },
  {
   "cell_type": "code",
   "execution_count": 10,
   "metadata": {},
   "outputs": [
    {
     "name": "stdout",
     "output_type": "stream",
     "text": [
      "{'banana', 'apple', 'cherry'}\n"
     ]
    }
   ],
   "source": [
    "# Define a set\n",
    "fruits_set = {\"apple\", \"banana\", \"cherry\", \"apple\"}\n",
    "print(fruits_set)  # Duplicates are removed\n"
   ]
  },
  {
   "attachments": {},
   "cell_type": "markdown",
   "metadata": {},
   "source": [
    "### Part 3: Introduction to Pandas and NumPy\n",
    "\n",
    "#### Creating arrays in NumPy"
   ]
  },
  {
   "cell_type": "code",
   "execution_count": 11,
   "metadata": {},
   "outputs": [
    {
     "name": "stdout",
     "output_type": "stream",
     "text": [
      "[1 2 3]\n",
      "[[1 2 3]\n",
      " [4 5 6]]\n"
     ]
    }
   ],
   "source": [
    "import numpy as np\n",
    "\n",
    "# Create a one-dimensional array\n",
    "a = np.array([1, 2, 3])\n",
    "print(a)\n",
    "\n",
    "# Create a two-dimensional array\n",
    "b = np.array([[1, 2, 3], [4, 5, 6]])\n",
    "print(b)"
   ]
  },
  {
   "attachments": {},
   "cell_type": "markdown",
   "metadata": {},
   "source": [
    "#### Manipulating arrays in NumPy"
   ]
  },
  {
   "cell_type": "code",
   "execution_count": 12,
   "metadata": {},
   "outputs": [
    {
     "name": "stdout",
     "output_type": "stream",
     "text": [
      "[[10  2  3]\n",
      " [ 4  5  6]]\n",
      "(3,)\n",
      "(2, 3)\n"
     ]
    }
   ],
   "source": [
    "\n",
    "# Change an element of the array\n",
    "b[0, 0] = 10\n",
    "print(b)\n",
    "\n",
    "# Get the shape of the array\n",
    "print(a.shape)\n",
    "print(b.shape)\n"
   ]
  },
  {
   "attachments": {},
   "cell_type": "markdown",
   "metadata": {},
   "source": [
    "#### Creating DataFrames in Pandas\n"
   ]
  },
  {
   "cell_type": "code",
   "execution_count": 13,
   "metadata": {},
   "outputs": [
    {
     "name": "stdout",
     "output_type": "stream",
     "text": [
      "      Name  Age Occupation\n",
      "0    Alice   25     Doctor\n",
      "1      Bob   30   Engineer\n",
      "2  Charlie   35    Teacher\n"
     ]
    }
   ],
   "source": [
    "import pandas as pd\n",
    "\n",
    "# Create a DataFrame from a dictionary\n",
    "df = pd.DataFrame({\n",
    "      \"Name\": [\"Alice\", \"Bob\", \"Charlie\"],\n",
    "      \"Age\": [25, 30, 35],\n",
    "      \"Occupation\": [\"Doctor\", \"Engineer\", \"Teacher\"]\n",
    "})\n",
    "print(df)\n"
   ]
  },
  {
   "attachments": {},
   "cell_type": "markdown",
   "metadata": {},
   "source": [
    "#### Manipulating DataFrames in Pandas"
   ]
  },
  {
   "cell_type": "code",
   "execution_count": 14,
   "metadata": {},
   "outputs": [
    {
     "name": "stdout",
     "output_type": "stream",
     "text": [
      "0      Alice\n",
      "1        Bob\n",
      "2    Charlie\n",
      "Name: Name, dtype: object\n",
      "      Name  Age Occupation  Salary\n",
      "0    Alice   25     Doctor  100000\n",
      "1      Bob   30   Engineer  120000\n",
      "2  Charlie   35    Teacher   90000\n",
      "      Name Occupation  Salary\n",
      "0    Alice     Doctor  100000\n",
      "1      Bob   Engineer  120000\n",
      "2  Charlie    Teacher   90000\n"
     ]
    }
   ],
   "source": [
    "# Select a column\n",
    "print(df[\"Name\"])\n",
    "\n",
    "# Add a new column\n",
    "df[\"Salary\"] = [100000, 120000, 90000]\n",
    "print(df)\n",
    "\n",
    "# Delete a column\n",
    "df = df.drop(\"Age\", axis=1)\n",
    "print(df)"
   ]
  },
  {
   "attachments": {},
   "cell_type": "markdown",
   "metadata": {},
   "source": [
    "#### Reading data from CSV files\n"
   ]
  },
  {
   "cell_type": "code",
   "execution_count": 18,
   "metadata": {},
   "outputs": [
    {
     "name": "stdout",
     "output_type": "stream",
     "text": [
      "   age     sex     bmi  children smoker     region      charges\n",
      "0   19  female  27.900         0    yes  southwest  16884.92400\n",
      "1   18    male  33.770         1     no  southeast   1725.55230\n",
      "2   28    male  33.000         3     no  southeast   4449.46200\n",
      "3   33    male  22.705         0     no  northwest  21984.47061\n",
      "4   32    male  28.880         0     no  northwest   3866.85520\n"
     ]
    }
   ],
   "source": [
    "# Assuming we have a CSV file \"data.csv\"\n",
    "df = pd.read_csv(\"../data/data.csv\")\n",
    "print(df.head())"
   ]
  },
  {
   "attachments": {},
   "cell_type": "markdown",
   "metadata": {},
   "source": [
    "**Please note**: you'd need to have a `data.csv` file available and replace `data.csv` with the path to your file. Uncomment this section when ready to use."
   ]
  },
  {
   "attachments": {},
   "cell_type": "markdown",
   "metadata": {},
   "source": [
    "#### Basic data exploration\n"
   ]
  },
  {
   "cell_type": "code",
   "execution_count": 19,
   "metadata": {},
   "outputs": [
    {
     "name": "stdout",
     "output_type": "stream",
     "text": [
      "(1338, 7)\n",
      "<class 'pandas.core.frame.DataFrame'>\n",
      "RangeIndex: 1338 entries, 0 to 1337\n",
      "Data columns (total 7 columns):\n",
      " #   Column    Non-Null Count  Dtype  \n",
      "---  ------    --------------  -----  \n",
      " 0   age       1338 non-null   int64  \n",
      " 1   sex       1338 non-null   object \n",
      " 2   bmi       1338 non-null   float64\n",
      " 3   children  1338 non-null   int64  \n",
      " 4   smoker    1338 non-null   object \n",
      " 5   region    1338 non-null   object \n",
      " 6   charges   1338 non-null   float64\n",
      "dtypes: float64(2), int64(2), object(3)\n",
      "memory usage: 73.3+ KB\n",
      "None\n",
      "               age          bmi     children       charges\n",
      "count  1338.000000  1338.000000  1338.000000   1338.000000\n",
      "mean     39.207025    30.663397     1.094918  13270.422265\n",
      "std      14.049960     6.098187     1.205493  12110.011237\n",
      "min      18.000000    15.960000     0.000000   1121.873900\n",
      "25%      27.000000    26.296250     0.000000   4740.287150\n",
      "50%      39.000000    30.400000     1.000000   9382.033000\n",
      "75%      51.000000    34.693750     2.000000  16639.912515\n",
      "max      64.000000    53.130000     5.000000  63770.428010\n"
     ]
    }
   ],
   "source": [
    "# Get the shape of the DataFrame\n",
    "print(df.shape)\n",
    "\n",
    "# Get information about the DataFrame\n",
    "print(df.info())\n",
    "\n",
    "# Describe the DataFrame\n",
    "print(df.describe())\n"
   ]
  },
  {
   "attachments": {},
   "cell_type": "markdown",
   "metadata": {},
   "source": [
    "## Conclusion\n",
    "\n",
    "In this lab, we have covered the basics of Python including data types, arithmetic and logical operations, conditional statements, loops, and functions. We've also explored Python's basic data structures and were introduced to the data science libraries Pandas and NumPy. Practice these concepts and get comfortable with them, as they are the building blocks for more complex data science tasks.\n",
    "\n",
    "Remember, the aim is to create a learning experience where students can get their hands dirty with code while also understanding the theory behind the actions they perform."
   ]
  }
 ],
 "metadata": {
  "kernelspec": {
   "display_name": "Python 3",
   "language": "python",
   "name": "python3"
  },
  "language_info": {
   "codemirror_mode": {
    "name": "ipython",
    "version": 3
   },
   "file_extension": ".py",
   "mimetype": "text/x-python",
   "name": "python",
   "nbconvert_exporter": "python",
   "pygments_lexer": "ipython3",
   "version": "3.11.4"
  },
  "orig_nbformat": 4
 },
 "nbformat": 4,
 "nbformat_minor": 2
}
