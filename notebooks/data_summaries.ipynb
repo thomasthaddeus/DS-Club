{
 "cells": [
  {
   "attachments": {},
   "cell_type": "markdown",
   "metadata": {},
   "source": []
  },
  {
   "cell_type": "code",
   "execution_count": null,
   "metadata": {},
   "outputs": [],
   "source": [
    "import pandas as pd\n",
    "\n",
    "movies = pd.read_csv('movies.csv')\n",
    "\n",
    "# Print the first 5 rows \n",
    "print(movies.head())\n",
    "\n",
    "# Print the summary statistics for all columns\n",
    "print(movies.describe(include='all'))\n"
   ]
  },
  {
   "attachments": {},
   "cell_type": "markdown",
   "metadata": {},
   "source": [
    "## Central Tendency for Quantitative Data\n",
    "\n",
    "For quantitative variables, we often want to describe the central tendency, or the \"typical\" value of a variable. For example, what is the typical cost of rent in New York City?\n",
    "\n",
    "There are several common measures of central tendency:\n",
    "\n",
    "- **Mean**: The average value of the variable, calculated as the sum of all values divided by the number of values.\n",
    "- **Median**: The middle value of the variable when sorted.\n",
    "- **Mode**: The most frequent value of the variable.\n",
    "- **Trimmed mean**: The mean excluding x percent of the lowest and highest data points."
   ]
  }
 ],
 "metadata": {
  "language_info": {
   "name": "python"
  },
  "orig_nbformat": 4
 },
 "nbformat": 4,
 "nbformat_minor": 2
}
