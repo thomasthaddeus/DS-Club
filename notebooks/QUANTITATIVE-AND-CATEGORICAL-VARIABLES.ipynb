{
 "cells": [
  {
   "attachments": {},
   "cell_type": "markdown",
   "metadata": {},
   "source": [
    "# ASSOCIATIONS: QUANTITATIVE AND CATEGORICAL VARIABLES\n",
    "\n",
    "## Introduction\n",
    "\n",
    "Examining the relationship between variables can give us key insight into our data. In this lesson, we will cover ways of assessing the association between a quantitative variable and a categorical variable.\n",
    "\n",
    "In the next few exercises, we’ll explore a dataset that contains the following information about students at two portuguese schools:\n",
    "\n",
    "- `school`: the school each student attends, Gabriel Periera ('GP') or Mousinho da Silveria ('MS')\n",
    "- `address`: the location of the student’s home ('U' for urban and 'R' for rural)\n",
    "- `absences`: the number of times the student was absent during the school year\n",
    "- `Mjob`: the student’s mother’s job industry\n",
    "- `Fjob`: the student’s father’s job industry\n",
    "- `G3`: the student’s score on a math assessment, ranging from 0 to 20\n",
    "\n",
    "Suppose we want to know: Is a student’s score (G3) associated with their school (school)? If so, then knowing what school a student attends gives us information about what their score is likely to be. For example, maybe students at one of the schools consistently score higher than students at the other school.\n",
    "\n",
    "To start answering this question, it is useful to save scores from each school in two separate lists:\n",
    "\n",
    "```python\n",
    "scores_GP = students.G3[students.school == 'GP']\n",
    "scores_MS = students.G3[students.school == 'MS']\n",
    "```"
   ]
  },
  {
   "cell_type": "code",
   "execution_count": null,
   "metadata": {},
   "outputs": [],
   "source": [
    "import numpy as np\n",
    "import pandas as pd\n",
    "\n",
    "students = pd.read_csv('../data/students2.csv')\n",
    "\n",
    "#print the first five rows of students:\n",
    "print(students.head())\n",
    "\n",
    "#separate out scores for students who live in urban and rural locations:\n",
    "scores_urban = students.G3[students.address == 'U']\n",
    "scores_rural = students.G3[students.address == 'R']\n"
   ]
  },
  {
   "attachments": {},
   "cell_type": "markdown",
   "metadata": {},
   "source": [
    "## Mean and Median Differences\n",
    "\n",
    "Recall that in the last exercise, we began investigating whether or not there is an association between math scores and the school a student attends. We can begin quantifying this association by using two common summary statistics, mean and median differences. To calculate the difference in mean G3 scores for the two schools, we can start by finding the mean math score for students at each school. We can then find the difference between them:\n",
    "\n",
    "```python\n",
    "mean_GP = np.mean(scores_GP)\n",
    "mean_MS = np.mean(scores_MS)\n",
    "print(mean_GP) #output: 10.49\n",
    "print(mean_MS) #output: 9.85\n",
    "print(mean_GP - mean_MS) #Output: 0.64\n",
    "```\n",
    "\n",
    "We see that the mean math score for students at GP is 10.49, while the mean score for students at MS is 9.85. The mean difference is 0.64. We can follow a similar process to calculate a median difference:\n",
    "\n",
    "```python\n",
    "median_GP = np.median(scores_GP)\n",
    "median_MS = np.median(scores_MS)\n",
    "print(median_GP) #Output: 11.0\n",
    "print(median_MS) #Output: 10.0\n",
    "print(median_GP-median_MS) #Output: 1.0\n",
    "```\n",
    "\n",
    "GP students also have a higher median score, by one point. Highly associated variables tend to have a large mean or median difference. Since \"large\" could have different meanings depending on the variable, we will go into more detail in the next exercise."
   ]
  },
  {
   "cell_type": "code",
   "execution_count": null,
   "metadata": {},
   "outputs": [],
   "source": [
    "import numpy as np\n",
    "import pandas as pd\n",
    "students = pd.read_csv('students.csv')\n",
    "\n",
    "scores_urban = students.G3[students.address == 'U']\n",
    "scores_rural = students.G3[students.address == 'R']\n",
    "\n",
    "#calculate means for each group:\n",
    "scores_urban_mean = None\n",
    "scores_rural_mean = None\n",
    "\n",
    "#print mean scores:\n",
    "print('Mean score - students w/ urban address:')\n",
    "print(scores_urban_mean)\n",
    "print('Mean score - students w/ rural address:')\n",
    "print(scores_rural_mean)\n",
    "\n",
    "#calculate mean difference:\n",
    "mean_diff = None\n",
    "\n",
    "#print mean difference\n",
    "print('Mean difference:')\n",
    "print(mean_diff)\n",
    "\n",
    "#calculate medians for each group:\n",
    "scores_urban_median = None\n",
    "scores_rural_median = None\n",
    "\n",
    "#print median scores\n",
    "print('Median score - students w/ urban address:')\n",
    "print(scores_urban_median)\n",
    "print('Median score - students w/ rural address:')\n",
    "print(scores_rural_median)\n",
    "\n",
    "#calculate median difference\n",
    "median_diff = None\n",
    "\n",
    "#print median difference\n",
    "print('Median difference:')\n",
    "print(median_diff)\n"
   ]
  },
  {
   "attachments": {},
   "cell_type": "markdown",
   "metadata": {},
   "source": []
  },
  {
   "cell_type": "code",
   "execution_count": null,
   "metadata": {},
   "outputs": [],
   "source": []
  },
  {
   "attachments": {},
   "cell_type": "markdown",
   "metadata": {},
   "source": []
  }
 ],
 "metadata": {
  "kernelspec": {
   "display_name": "Python 3",
   "language": "python",
   "name": "python3"
  },
  "language_info": {
   "codemirror_mode": {
    "name": "ipython",
    "version": 3
   },
   "file_extension": ".py",
   "mimetype": "text/x-python",
   "name": "python",
   "nbconvert_exporter": "python",
   "pygments_lexer": "ipython3",
   "version": "3.11.4"
  },
  "orig_nbformat": 4
 },
 "nbformat": 4,
 "nbformat_minor": 2
}
